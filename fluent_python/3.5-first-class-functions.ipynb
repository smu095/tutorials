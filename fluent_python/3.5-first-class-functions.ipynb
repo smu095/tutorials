{
 "cells": [
  {
   "cell_type": "markdown",
   "metadata": {},
   "source": [
    "# Chapter 5: First-Class Functions"
   ]
  },
  {
   "cell_type": "markdown",
   "metadata": {},
   "source": [
    "Functions in Python are first-class objects, meaning they can be\n",
    "\n",
    "* created at runtime,\n",
    "\n",
    "* assigned to a variable or element in a data structure,\n",
    "\n",
    "* passed as an argument to a function,\n",
    "\n",
    "* returned as the result of a function.\n",
    "\n",
    "Having first-class functions enables programming in a functional style."
   ]
  },
  {
   "cell_type": "markdown",
   "metadata": {},
   "source": [
    "## Treating a Function Like an Object"
   ]
  },
  {
   "cell_type": "markdown",
   "metadata": {},
   "source": [
    "The cells below show that `factorial` is an instance of the `function` class, e.g. we can read its `__doc__` attribute."
   ]
  },
  {
   "cell_type": "code",
   "execution_count": 1,
   "metadata": {},
   "outputs": [],
   "source": [
    "def factorial(n):\n",
    "    \"\"\"Returns n!\"\"\"\n",
    "    return 1 if n < 2 else n * factorial(n - 1)"
   ]
  },
  {
   "cell_type": "code",
   "execution_count": 2,
   "metadata": {},
   "outputs": [
    {
     "data": {
      "text/plain": [
       "'Returns n!'"
      ]
     },
     "execution_count": 2,
     "metadata": {},
     "output_type": "execute_result"
    }
   ],
   "source": [
    "factorial.__doc__"
   ]
  },
  {
   "cell_type": "code",
   "execution_count": 7,
   "metadata": {},
   "outputs": [
    {
     "name": "stdout",
     "output_type": "stream",
     "text": [
      "<class 'function'>\n"
     ]
    }
   ],
   "source": [
    "print(type(factorial))"
   ]
  },
  {
   "cell_type": "code",
   "execution_count": 8,
   "metadata": {},
   "outputs": [
    {
     "data": {
      "text/plain": [
       "120"
      ]
     },
     "execution_count": 8,
     "metadata": {},
     "output_type": "execute_result"
    }
   ],
   "source": [
    "fact = factorial\n",
    "fact(5)"
   ]
  },
  {
   "cell_type": "markdown",
   "metadata": {},
   "source": [
    "## Higher-Order Functions\n",
    "\n",
    "A function that takes a function as an argument or returns a function as a result is called a *higher-order function*, e.g. `sorted` which allows us to sort values using a one-argument function.\n",
    "\n",
    "Some of the most well-known built-in higher-order functions are `map`, `reduce`, `filter` and `apply`. The latter is deprecated, the three preceding functions are in most cases obsolete due to the introduction of listcomps."
   ]
  },
  {
   "cell_type": "code",
   "execution_count": 11,
   "metadata": {},
   "outputs": [
    {
     "name": "stdout",
     "output_type": "stream",
     "text": [
      "[1, 1, 2, 6, 24]\n",
      "[1, 1, 2, 6, 24]\n"
     ]
    }
   ],
   "source": [
    "# These two are equivalent\n",
    "maplist = list(map(factorial, range(5)))\n",
    "listcomp = [factorial(i) for i in range(5)]\n",
    "\n",
    "print(maplist)\n",
    "print(listcomp)"
   ]
  },
  {
   "cell_type": "markdown",
   "metadata": {},
   "source": [
    "`map` and `filter`return generators, so their direct substitute is a generator expression."
   ]
  },
  {
   "cell_type": "code",
   "execution_count": 12,
   "metadata": {},
   "outputs": [
    {
     "name": "stdout",
     "output_type": "stream",
     "text": [
      "1\n",
      "1\n"
     ]
    }
   ],
   "source": [
    "g1 = map(factorial, range(5))\n",
    "g2 = (factorial(i) for i in range(5))\n",
    "\n",
    "print(next(g1))\n",
    "print(next(g2))"
   ]
  },
  {
   "cell_type": "markdown",
   "metadata": {},
   "source": [
    "The `reduce` function was demoted from built-in to the `functools` module, and is largely replaced by the use of conditionals in listcomps. It's most common use, summation, has largely been replaced by the `sum` built-in."
   ]
  },
  {
   "cell_type": "code",
   "execution_count": 15,
   "metadata": {},
   "outputs": [
    {
     "data": {
      "text/plain": [
       "True"
      ]
     },
     "execution_count": 15,
     "metadata": {},
     "output_type": "execute_result"
    }
   ],
   "source": [
    "from functools import reduce\n",
    "from operator import add\n",
    "\n",
    "reduce(add, range(5)) == sum(range(5))"
   ]
  },
  {
   "cell_type": "markdown",
   "metadata": {},
   "source": [
    "Other reducing built-ins are `any(iterable)` and `all(iterable)`.\n",
    "\n",
    "`any` returns `True` if any element of `iterable` is truthy.\n",
    "\n",
    "`all` returns `True` if every element of `iterable` is truthy."
   ]
  },
  {
   "cell_type": "markdown",
   "metadata": {},
   "source": [
    "## Anonymous Functions\n",
    "\n",
    "Anonymous functions, or `lambda` functions, are handy when we need to create small one-off functions.\n",
    "\n",
    "The body of a `lambda` cannot make assignments or use any other Python statements, such as `while`, `try`, etc.\n",
    "\n",
    "The best recommended of an anonymous function is in the context of an argument list."
   ]
  },
  {
   "cell_type": "code",
   "execution_count": 17,
   "metadata": {},
   "outputs": [
    {
     "data": {
      "text/plain": [
       "['banana', 'apple', 'fig', 'raspberry', 'strawberry', 'cherry']"
      ]
     },
     "execution_count": 17,
     "metadata": {},
     "output_type": "execute_result"
    }
   ],
   "source": [
    "# Returns list sorted by reversed spelling\n",
    "fruits = [\"apple\", \"banana\", \"cherry\", \"raspberry\", \"strawberry\", \"fig\"]\n",
    "sorted(fruits, key=lambda word: word[::-1])"
   ]
  },
  {
   "cell_type": "markdown",
   "metadata": {},
   "source": [
    "### Lundh's Lambda Refactoring Recipe\n",
    "\n",
    "If an anonymous function is hard to understand:\n",
    "\n",
    "1. Write a comment explaining what `lambda` does.\n",
    "\n",
    "2. Think of a name that captures the essence of the `lambda`.\n",
    "\n",
    "3. Convert `lambda` to a `def` statement using that name.\n",
    "\n",
    "4. Remove the comment."
   ]
  },
  {
   "cell_type": "markdown",
   "metadata": {},
   "source": [
    "## The Seven Flavours of Callable Objects\n",
    "\n",
    "The call operator `()` may be applied to other objects beyond user-defined functions.\n",
    "\n",
    "To determine whether an object is callable, use the `callable()` built-in function.\n",
    "\n",
    "The Python Data Model documentation lists seven callable types:\n",
    "\n",
    "1. *User-defined functions*: Created with `def`/`lambda` expressions.\n",
    "\n",
    "2. *Built-in functions*: A function implemented in C (for CPython), like `len`.\n",
    "\n",
    "3. *Built-in methods*: Methods implemented in C, like `dict.get`.\n",
    "\n",
    "4. *Methods*: Functions defined in the body of a class.\n",
    "\n",
    "5. *Classes*: When invoked, a class runs its `__new__` method to create an instance, then `__init__` to initialise it before returning to caller. Because there is no `new` operator in Python, calling a class is like calling a function.\n",
    "\n",
    "6. *Class instances*: If a class defines a `__call__` method, then its instances may be invoked as functions.\n",
    "\n",
    "7. *Generator functions*: Functions or methods that use the `yield` keyword. When called, generator functions return a generator object."
   ]
  },
  {
   "cell_type": "markdown",
   "metadata": {},
   "source": [
    "## User-Defined Callable Types\n",
    "\n",
    "Implementing a `__call__` instance method will make any (arbitrary) Python object behave as a function.\n",
    "\n",
    "Implementing a `__call__` is an easy way to create function-like objects that have some internal stat that must be kept across invocations.\n",
    "\n",
    "Consider the example below, where `BingoCage` builds an instance from any iterable. Calling the instance pops an item."
   ]
  },
  {
   "cell_type": "code",
   "execution_count": 44,
   "metadata": {},
   "outputs": [
    {
     "name": "stdout",
     "output_type": "stream",
     "text": [
      "True\n"
     ]
    },
    {
     "data": {
      "text/plain": [
       "1"
      ]
     },
     "execution_count": 44,
     "metadata": {},
     "output_type": "execute_result"
    }
   ],
   "source": [
    "import random\n",
    "\n",
    "class BingoCage:\n",
    "    def __init__(self, items):\n",
    "        self._items = list(items)\n",
    "        random.shuffle(self._items)\n",
    "        \n",
    "    def pick(self):\n",
    "        try:\n",
    "            return self._items.pop()\n",
    "        except IndexError:\n",
    "            raise LookupError(\"pick from empty BingoCage\")\n",
    "            \n",
    "    def __call__(self):\n",
    "        return self.pick()\n",
    "    \n",
    "items = (1, 2, 3)\n",
    "bingo = BingoCage(items)\n",
    "\n",
    "# Check that callable\n",
    "print(callable(bingo))\n",
    "\n",
    "# Use class method ...\n",
    "bingo.pick()"
   ]
  },
  {
   "cell_type": "code",
   "execution_count": 45,
   "metadata": {},
   "outputs": [
    {
     "data": {
      "text/plain": [
       "3"
      ]
     },
     "execution_count": 45,
     "metadata": {},
     "output_type": "execute_result"
    }
   ],
   "source": [
    "# ... or treat as function\n",
    "bingo()"
   ]
  },
  {
   "cell_type": "markdown",
   "metadata": {},
   "source": [
    "## Function Introspection\n",
    "\n",
    "We can check which attributes are specific to functions that are not found in generic Python user-defined objects.\n",
    "\n",
    "See table 5-1 on **p. 154** for details."
   ]
  },
  {
   "cell_type": "code",
   "execution_count": 48,
   "metadata": {},
   "outputs": [
    {
     "data": {
      "text/plain": [
       "['__annotations__',\n",
       " '__call__',\n",
       " '__closure__',\n",
       " '__code__',\n",
       " '__defaults__',\n",
       " '__get__',\n",
       " '__globals__',\n",
       " '__kwdefaults__',\n",
       " '__name__',\n",
       " '__qualname__']"
      ]
     },
     "execution_count": 48,
     "metadata": {},
     "output_type": "execute_result"
    }
   ],
   "source": [
    "class C: pass\n",
    "def f(): pass\n",
    "sorted(set(dir(f)) - set(dir(C)))"
   ]
  },
  {
   "cell_type": "markdown",
   "metadata": {},
   "source": [
    "## From Positional to Keyword-Only Arguments"
   ]
  },
  {
   "cell_type": "code",
   "execution_count": null,
   "metadata": {},
   "outputs": [],
   "source": []
  }
 ],
 "metadata": {
  "kernelspec": {
   "display_name": "Python 3",
   "language": "python",
   "name": "python3"
  },
  "language_info": {
   "codemirror_mode": {
    "name": "ipython",
    "version": 3
   },
   "file_extension": ".py",
   "mimetype": "text/x-python",
   "name": "python",
   "nbconvert_exporter": "python",
   "pygments_lexer": "ipython3",
   "version": "3.7.3"
  }
 },
 "nbformat": 4,
 "nbformat_minor": 2
}
