{
 "cells": [
  {
   "cell_type": "markdown",
   "metadata": {},
   "source": [
    "# Chapter 9: Pythonic Objects\n",
    "\n",
    "Python's data model allows user-defined types to behave as naturally as the built-in types. This can be accomplished without inheritance, in the spirit of [duck typing](https://en.wikipedia.org/wiki/Duck_typing): you implement the methods needed for your objects to behave as expected.\n",
    "\n",
    "This chapter shows how to implement several special methods that are commonly seen in Python objects of many different types.\n",
    "\n",
    "We will see how to:\n",
    "\n",
    "* Support the built-in functions that produce alternative object representation.\n",
    "\n",
    "* Implement an alternative constructor as a class method.\n",
    "\n",
    "* Extend the format mini-language used by the `format()` built-in and `str.format()` method.\n",
    "\n",
    "* Provide read-only access to attributes.\n",
    "\n",
    "* Make an object hashable for use in sets and `dict` keys.\n",
    "\n",
    "* Save memory by using `__slots__`.\n",
    "\n",
    "Through examples we will also examine:\n",
    "\n",
    "* How and when to use the `@classmethod` and `@staticmethod` decorators.\n",
    "\n",
    "* Private and protected attributes in Python: usage, conventions, and methods."
   ]
  },
  {
   "cell_type": "markdown",
   "metadata": {},
   "source": [
    "## Object Representations\n",
    "\n",
    "Recall that Python has two standard ways of getting a string representation from an object:\n",
    "\n",
    "1. `repr()`: Return a string representing the object as the **developer** wants to see it.\n",
    "\n",
    "2. `str()`: Return a string representing the object as the **user** wants to see it.\n",
    "\n",
    "The special methods `__repr__` and `__str__` support `repr()` and `str()`.\n",
    "\n",
    "There are two additional special methods to support alternative string representations:\n",
    "\n",
    "3. `__bytes__`: Return the byte string representation of the object (invoked by `bytes()`).\n",
    "\n",
    "4. `__format__`: Display object using special formatting codes (invoked by `format()` and `str.format()`."
   ]
  },
  {
   "cell_type": "markdown",
   "metadata": {},
   "source": [
    "## Vector Class Redux\n",
    "\n",
    "To demonstrate different ways of generating object representations, we will extend the vector class from [chapter 1]() to two dimensions."
   ]
  },
  {
   "cell_type": "code",
   "execution_count": 1,
   "metadata": {},
   "outputs": [],
   "source": [
    "# Example 9-2. vector2d_v0.py: Implementation of Vector2d using only special methods\n",
    "\n",
    "from array import array\n",
    "import math\n",
    "\n",
    "class Vector2d:\n",
    "    typecode = \"d\" # Used when converting Vector2d instances to/from bytes\n",
    "    \n",
    "    def __init__(self, x, y):\n",
    "        self.x = float(x)\n",
    "        self.y = float(y)\n",
    "        \n",
    "    def __iter__(self): # Makes Vector2d iterable, allows unpacking\n",
    "        return (i for i in (self.x, self.y))\n",
    "    \n",
    "    def __repr__(self):\n",
    "        class_name = type(self).__name__\n",
    "        return \"{}({!r}, {!r})\".format(class_name, *self)\n",
    "    \n",
    "    def __str__(self):\n",
    "        return str(tuple(self))\n",
    "    \n",
    "    def __bytes__(self):\n",
    "        return (bytes([ord(self.typecode)]) + bytes(array(self.typecode, self)))\n",
    "    \n",
    "    def __abs__(self):\n",
    "        return math.hypot(self.x, self.y)\n",
    "    \n",
    "    def __bool__(self):\n",
    "        return bool(abs(self))\n",
    "    \n",
    "    def __eq__(self, other):\n",
    "        return tuple(self) == tuple(other)\n",
    "    "
   ]
  },
  {
   "cell_type": "markdown",
   "metadata": {},
   "source": [
    "## An Alternative Constructor"
   ]
  },
  {
   "cell_type": "markdown",
   "metadata": {},
   "source": [
    "Since we can export `Vector2d` as bytes, it makes sense to implement functionality to go the other way; we need a method to import `Vector2d` from a binary sequence."
   ]
  },
  {
   "cell_type": "code",
   "execution_count": 2,
   "metadata": {},
   "outputs": [],
   "source": [
    "# Example 9.3. vector2d_v1.py: Implementation of Vector2d allowing conversions from bytes to Vector2d instance.\n",
    "\n",
    "from array import array\n",
    "import math\n",
    "\n",
    "class Vector2d:\n",
    "    typecode = \"d\" # Used when converting Vector2d instances to/from bytes\n",
    "\n",
    "    def __init__(self, x, y):\n",
    "        self.x = float(x)\n",
    "        self.y = float(y)\n",
    "\n",
    "    def __iter__(self): # Makes Vector2d iterable, allows unpacking\n",
    "        return (i for i in (self.x, self.y))\n",
    "\n",
    "    def __repr__(self):\n",
    "        class_name = type(self).__name__\n",
    "        return \"{}({!r}, {!r})\".format(class_name, *self)\n",
    "\n",
    "    def __str__(self):\n",
    "        return str(tuple(self))\n",
    "\n",
    "    def __bytes__(self):\n",
    "        return (bytes([ord(self.typecode)]) + bytes(array(self.typecode, self)))\n",
    "\n",
    "    def __abs__(self):\n",
    "        return math.hypot(self.x, self.y)\n",
    "\n",
    "    def __bool__(self):\n",
    "        return bool(abs(self))\n",
    "\n",
    "    def __eq__(self, other):\n",
    "        return tuple(self) == tuple(other)\n",
    "\n",
    "    @classmethod\n",
    "    def frombytes(cls, octets):\n",
    "        typecode = chr(octets[0])\n",
    "        memv = memoryview(octets[1:]).cast(typecode)\n",
    "        return cls(*memv)\n"
   ]
  },
  {
   "cell_type": "markdown",
   "metadata": {},
   "source": [
    "## `classmethod` Versus `staticmethod`\n",
    "\n",
    "`classmethod` is used to define a method that operates on the class and not on instances. \n",
    "\n",
    "`classmethod` changes the way the method is called, so it **receives the class itself as the first argument, instead of an instance**.\n",
    "\n",
    "Its most common use is for alternative constructors, like `frombytes` in example 9-3. Note how the last line uses the `cls` argument by invoking it to build a new instance.\n",
    "\n",
    "By convention, the first parameter of a class method should be named `cls`.\n",
    "\n",
    "The `staticmethod` decorator changes a method so that it receives no special first argument.\n",
    "\n",
    "**In essence, a static method is just like a plain function that happens to live in a class body, instead of being defined at the module level**.\n",
    "\n",
    "The next example contrast the operation of `classmethod` and `staticmethod`."
   ]
  },
  {
   "cell_type": "code",
   "execution_count": 3,
   "metadata": {},
   "outputs": [
    {
     "name": "stdout",
     "output_type": "stream",
     "text": [
      "(<class '__main__.Demo'>,)\n",
      "(<class '__main__.Demo'>, 'spam')\n",
      "()\n",
      "('spam',)\n"
     ]
    }
   ],
   "source": [
    "# Example 9-4. Comparing behavious of classmethod and staticmethod.\n",
    "\n",
    "class Demo:\n",
    "    \"\"\"\n",
    "    klassmeth returns all positional arguments.\n",
    "    statmeth does the same.\n",
    "    \"\"\"\n",
    "    @classmethod\n",
    "    def klassmeth(*args):\n",
    "        return args\n",
    "    \n",
    "    @staticmethod\n",
    "    def statmeth(*args):\n",
    "        return args\n",
    "\n",
    "# No matter how it is invoked, `klassmeth` receives the Demo class as first argument\n",
    "print(Demo.klassmeth())\n",
    "print(Demo.klassmeth(\"spam\"))\n",
    "\n",
    "# `statmeth` behave like a plain function\n",
    "print(Demo.statmeth())\n",
    "print(Demo.statmeth(\"spam\"))"
   ]
  },
  {
   "cell_type": "markdown",
   "metadata": {},
   "source": [
    "Ramalho is of the opinion that `@staticmethod` is of little practical use. He argues that if you want a function that doesn't interact with the class, simply define it in the module.\n",
    "\n",
    "Ramalho provides [this blog post](https://julien.danjou.info/guide-python-static-class-abstract-methods/) as a counter-argument to his own viewpoint."
   ]
  },
  {
   "cell_type": "markdown",
   "metadata": {},
   "source": [
    "## Formatted Displays\n",
    "\n",
    "**Note:** Since Fluent Python was published, f-strings have been introduced. This is not covered in the book. Read more in [PEP 498](https://www.python.org/dev/peps/pep-0498/).\n",
    "\n",
    "The `format()` built-in function and the `str.format()` method delegate the actual formatting to each type by calling their `.__format__(format_spec)` method.\n",
    "\n",
    "`format_spec` is a formatting specifier, which is either:\n",
    "\n",
    "1. The second argument in `format(my_obj, format_spec)`, or\n",
    "\n",
    "2. Whatever appears after the colon in a replacement field delimited with `{}` inside a format string used with `str.format()`.\n",
    "\n",
    "Note that the two approaches above use slightly different format specifiers. The first uses  the *Format Specification Mini-Language*, the second uses the *Format String Syntax*. [Detailed info is available in the docs](https://docs.python.org/3.8/library/string.html).\n",
    "\n",
    "The *Format Specification Mini-Language* is extensible because each class gets to interpret the `format_spec` argument as it likes.\n",
    "\n",
    "In the next chunk, we extend `Vector2d` by implementing `__format__`."
   ]
  },
  {
   "cell_type": "code",
   "execution_count": 4,
   "metadata": {},
   "outputs": [],
   "source": [
    "# Example 9.5. Vector2d.format method, take #1\n",
    "\n",
    "from array import array\n",
    "import math\n",
    "\n",
    "class Vector2d:\n",
    "    typecode = \"d\" # Used when converting Vector2d instances to/from bytes\n",
    "\n",
    "    def __init__(self, x, y):\n",
    "        self.x = float(x)\n",
    "        self.y = float(y)\n",
    "\n",
    "    def __iter__(self): # Makes Vector2d iterable, allows unpacking\n",
    "        return (i for i in (self.x, self.y))\n",
    "\n",
    "    def __repr__(self):\n",
    "        class_name = type(self).__name__\n",
    "        return \"{}({!r}, {!r})\".format(class_name, *self)\n",
    "\n",
    "    def __str__(self):\n",
    "        return str(tuple(self))\n",
    "\n",
    "    def __bytes__(self):\n",
    "        return (bytes([ord(self.typecode)]) + bytes(array(self.typecode, self)))\n",
    "\n",
    "    def __abs__(self):\n",
    "        return math.hypot(self.x, self.y)\n",
    "\n",
    "    def __bool__(self):\n",
    "        return bool(abs(self))\n",
    "\n",
    "    def __eq__(self, other):\n",
    "        return tuple(self) == tuple(other)\n",
    "\n",
    "    @classmethod\n",
    "    def frombytes(cls, octets):\n",
    "        typecode = chr(octets[0])\n",
    "        memv = memoryview(octets[1:]).cast(typecode)\n",
    "        return cls(*memv)\n",
    "    \n",
    "    def __format__(self, fmt_spec=\"\"):\n",
    "        components = (format(coord, fmt_spec) for coord in self)\n",
    "        return \"({}, {})\".format(*components)\n"
   ]
  },
  {
   "cell_type": "code",
   "execution_count": 8,
   "metadata": {},
   "outputs": [
    {
     "data": {
      "text/plain": [
       "'(2.0, 3.0)'"
      ]
     },
     "execution_count": 8,
     "metadata": {},
     "output_type": "execute_result"
    }
   ],
   "source": [
    "v = Vector2d(2, 3)\n",
    "format(v)"
   ]
  },
  {
   "cell_type": "code",
   "execution_count": 9,
   "metadata": {},
   "outputs": [
    {
     "data": {
      "text/plain": [
       "'(2.00, 3.00)'"
      ]
     },
     "execution_count": 9,
     "metadata": {},
     "output_type": "execute_result"
    }
   ],
   "source": [
    "format(v, \".2f\")"
   ]
  },
  {
   "cell_type": "code",
   "execution_count": 10,
   "metadata": {},
   "outputs": [
    {
     "data": {
      "text/plain": [
       "'(2.000e+00, 3.000e+00)'"
      ]
     },
     "execution_count": 10,
     "metadata": {},
     "output_type": "execute_result"
    }
   ],
   "source": [
    "format(v, \".3e\")"
   ]
  },
  {
   "cell_type": "markdown",
   "metadata": {},
   "source": [
    "Next, we add a custom formatting to our mini-language.\n",
    "\n",
    "If the format specifier ends with a `p`, the vector will be displayed in polar coordinates `<r, theta>`.\n",
    "\n",
    "The requires first generating the polar coordinates. The magnitude (`r`) is already implemented with `__abs__`. We need to add a function for calculating `theta`:"
   ]
  },
  {
   "cell_type": "code",
   "execution_count": 11,
   "metadata": {},
   "outputs": [],
   "source": [
    "# Add this to Vector2d\n",
    "def angle(self):\n",
    "    return math.atan2(self.y, self.x)"
   ]
  },
  {
   "cell_type": "code",
   "execution_count": 2,
   "metadata": {},
   "outputs": [],
   "source": [
    "# Example 9.5. Vector2d.format method, take #2 (w/ polar coordinates)\n",
    "\n",
    "from array import array\n",
    "import math\n",
    "\n",
    "class Vector2d:\n",
    "    typecode = \"d\" # Used when converting Vector2d instances to/from bytes\n",
    "\n",
    "    def __init__(self, x, y):\n",
    "        self.x = float(x)\n",
    "        self.y = float(y)\n",
    "\n",
    "    def __iter__(self): # Makes Vector2d iterable, allows unpacking\n",
    "        return (i for i in (self.x, self.y))\n",
    "\n",
    "    def __repr__(self):\n",
    "        class_name = type(self).__name__\n",
    "        return \"{}({!r}, {!r})\".format(class_name, *self)\n",
    "\n",
    "    def __str__(self):\n",
    "        return str(tuple(self))\n",
    "\n",
    "    def __bytes__(self):\n",
    "        return (bytes([ord(self.typecode)]) + bytes(array(self.typecode, self)))\n",
    "\n",
    "    def __abs__(self):\n",
    "        return math.hypot(self.x, self.y)\n",
    "\n",
    "    def __bool__(self):\n",
    "        return bool(abs(self))\n",
    "\n",
    "    def __eq__(self, other):\n",
    "        return tuple(self) == tuple(other)\n",
    "\n",
    "    @classmethod\n",
    "    def frombytes(cls, octets):\n",
    "        typecode = chr(octets[0])\n",
    "        memv = memoryview(octets[1:]).cast(typecode)\n",
    "        return cls(*memv)\n",
    "    \n",
    "    def angle(self):\n",
    "        return math.atan2(self.y, self.x)\n",
    "    \n",
    "    def __format__(self, fmt_spec=\"\"):\n",
    "        if fmt_spec.endswith(\"p\"):\n",
    "            fmt_spec = fmt_spec[:-1]\n",
    "            coords = (abs(self), self.angle())\n",
    "            outer_fmt = \"<{}, {}>\"\n",
    "        else:\n",
    "            coords = self\n",
    "            outer_fmt = \"({}, {})\"\n",
    "        components = (format(c, fmt_spec) for c in coords)\n",
    "        return outer_fmt.format(*components)\n",
    "    "
   ]
  },
  {
   "cell_type": "code",
   "execution_count": 15,
   "metadata": {},
   "outputs": [
    {
     "data": {
      "text/plain": [
       "'<1.4142135623730951, 0.7853981633974483>'"
      ]
     },
     "execution_count": 15,
     "metadata": {},
     "output_type": "execute_result"
    }
   ],
   "source": [
    "v = Vector2d(1, 1)\n",
    "format(v, \"p\")"
   ]
  },
  {
   "cell_type": "code",
   "execution_count": 16,
   "metadata": {},
   "outputs": [
    {
     "data": {
      "text/plain": [
       "'<1.41, 0.79>'"
      ]
     },
     "execution_count": 16,
     "metadata": {},
     "output_type": "execute_result"
    }
   ],
   "source": [
    "format(v, \".2fp\")"
   ]
  },
  {
   "cell_type": "code",
   "execution_count": 17,
   "metadata": {},
   "outputs": [
    {
     "data": {
      "text/plain": [
       "'<1.414e+00, 7.854e-01>'"
      ]
     },
     "execution_count": 17,
     "metadata": {},
     "output_type": "execute_result"
    }
   ],
   "source": [
    "format(v, \".3ep\")"
   ]
  },
  {
   "cell_type": "markdown",
   "metadata": {},
   "source": [
    "## A Hashable `Vector2d`\n",
    "\n",
    "In order to build sets of `Vector2d` instances, we need them to be hashable. This requires implementing a `__hash__` method.\n",
    "\n",
    "We also need to make vector instances immutable (see \"What is Hashable?\" on **p. 69**).\n",
    "\n",
    "We start by making the `x` and `y` components *read-only* by using the `property` decorator (more on this in [chapter 19]())."
   ]
  },
  {
   "cell_type": "code",
   "execution_count": 3,
   "metadata": {},
   "outputs": [],
   "source": [
    "# Example 9.7. vector2d_v3.py: making Vector2d (reasonably) immutable\n",
    "\n",
    "from array import array\n",
    "import math\n",
    "\n",
    "class Vector2d:\n",
    "    typecode = \"d\" # Used when converting Vector2d instances to/from bytes\n",
    "\n",
    "    def __init__(self, x, y):\n",
    "        self.__x = float(x) # Use exactly two leading underscores to make attribute private\n",
    "        self.__y = float(y)\n",
    "        \n",
    "    @property # Marks the getter method of a property\n",
    "    def x(self):\n",
    "        return self.__x\n",
    "    \n",
    "    @property # Marks the getter method of a property\n",
    "    def y(self):\n",
    "        return self.__y\n",
    "\n",
    "    def __iter__(self): # Makes Vector2d iterable, allows unpacking\n",
    "        return (i for i in (self.x, self.y))\n",
    "\n",
    "    def __repr__(self):\n",
    "        class_name = type(self).__name__\n",
    "        return \"{}({!r}, {!r})\".format(class_name, *self)\n",
    "\n",
    "    def __str__(self):\n",
    "        return str(tuple(self))\n",
    "\n",
    "    def __bytes__(self):\n",
    "        return (bytes([ord(self.typecode)]) + bytes(array(self.typecode, self)))\n",
    "\n",
    "    def __abs__(self):\n",
    "        return math.hypot(self.x, self.y)\n",
    "\n",
    "    def __bool__(self):\n",
    "        return bool(abs(self))\n",
    "\n",
    "    def __eq__(self, other):\n",
    "        return tuple(self) == tuple(other)\n",
    "\n",
    "    @classmethod\n",
    "    def frombytes(cls, octets):\n",
    "        typecode = chr(octets[0])\n",
    "        memv = memoryview(octets[1:]).cast(typecode)\n",
    "        return cls(*memv)\n",
    "    \n",
    "    def angle(self):\n",
    "        return math.atan2(self.y, self.x)\n",
    "    \n",
    "    def __format__(self, fmt_spec=\"\"):\n",
    "        if fmt_spec.endswith(\"p\"):\n",
    "            fmt_spec = fmt_spec[:-1]\n",
    "            coords = (abs(self), self.angle())\n",
    "            outer_fmt = \"<{}, {}>\"\n",
    "        else:\n",
    "            coords = self\n",
    "            outer_fmt = \"({}, {})\"\n",
    "        components = (format(c, fmt_spec) for c in coords)\n",
    "        return outer_fmt.format(*components)\n",
    "    "
   ]
  },
  {
   "cell_type": "code",
   "execution_count": 22,
   "metadata": {},
   "outputs": [
    {
     "data": {
      "text/plain": [
       "1.0"
      ]
     },
     "execution_count": 22,
     "metadata": {},
     "output_type": "execute_result"
    }
   ],
   "source": [
    "v = Vector2d(1, 1)\n",
    "v.x"
   ]
  },
  {
   "cell_type": "code",
   "execution_count": 23,
   "metadata": {
    "scrolled": true
   },
   "outputs": [
    {
     "ename": "AttributeError",
     "evalue": "can't set attribute",
     "output_type": "error",
     "traceback": [
      "\u001b[0;31m---------------------------------------\u001b[0m",
      "\u001b[0;31mAttributeError\u001b[0mTraceback (most recent call last)",
      "\u001b[0;32m<ipython-input-23-a0b8d4947289>\u001b[0m in \u001b[0;36m<module>\u001b[0;34m\u001b[0m\n\u001b[0;32m----> 1\u001b[0;31m \u001b[0mv\u001b[0m\u001b[0;34m.\u001b[0m\u001b[0mx\u001b[0m \u001b[0;34m=\u001b[0m \u001b[0;36m2\u001b[0m\u001b[0;34m\u001b[0m\u001b[0;34m\u001b[0m\u001b[0m\n\u001b[0m",
      "\u001b[0;31mAttributeError\u001b[0m: can't set attribute"
     ]
    }
   ],
   "source": [
    "v.x = 2"
   ]
  },
  {
   "cell_type": "markdown",
   "metadata": {},
   "source": [
    "We can now implement the `__hash__` method by using the bitwise XOR operator `^` as [suggested in the docs](https://docs.python.org/3/reference/datamodel.html)."
   ]
  },
  {
   "cell_type": "code",
   "execution_count": 4,
   "metadata": {},
   "outputs": [],
   "source": [
    "# Example 9.7. vector2d_v4.py: implementation of hash\n",
    "\n",
    "from array import array\n",
    "import math\n",
    "\n",
    "class Vector2d:\n",
    "    typecode = \"d\" # Used when converting Vector2d instances to/from bytes\n",
    "\n",
    "    def __init__(self, x, y):\n",
    "        self.__x = float(x) # Use exactly two leading underscores to make attribute private\n",
    "        self.__y = float(y)\n",
    "        \n",
    "    @property # Marks the getter method of a property\n",
    "    def x(self):\n",
    "        return self.__x\n",
    "    \n",
    "    @property # Marks the getter method of a property\n",
    "    def y(self):\n",
    "        return self.__y\n",
    "\n",
    "    def __iter__(self): # Makes Vector2d iterable, allows unpacking\n",
    "        return (i for i in (self.x, self.y))\n",
    "\n",
    "    def __repr__(self):\n",
    "        class_name = type(self).__name__\n",
    "        return \"{}({!r}, {!r})\".format(class_name, *self)\n",
    "\n",
    "    def __str__(self):\n",
    "        return str(tuple(self))\n",
    "\n",
    "    def __bytes__(self):\n",
    "        return (bytes([ord(self.typecode)]) + bytes(array(self.typecode, self)))\n",
    "\n",
    "    def __abs__(self):\n",
    "        return math.hypot(self.x, self.y)\n",
    "\n",
    "    def __bool__(self):\n",
    "        return bool(abs(self))\n",
    "\n",
    "    def __eq__(self, other):\n",
    "        return tuple(self) == tuple(other)\n",
    "\n",
    "    @classmethod\n",
    "    def frombytes(cls, octets):\n",
    "        typecode = chr(octets[0])\n",
    "        memv = memoryview(octets[1:]).cast(typecode)\n",
    "        return cls(*memv)\n",
    "    \n",
    "    def angle(self):\n",
    "        return math.atan2(self.y, self.x)\n",
    "    \n",
    "    def __format__(self, fmt_spec=\"\"):\n",
    "        if fmt_spec.endswith(\"p\"):\n",
    "            fmt_spec = fmt_spec[:-1]\n",
    "            coords = (abs(self), self.angle())\n",
    "            outer_fmt = \"<{}, {}>\"\n",
    "        else:\n",
    "            coords = self\n",
    "            outer_fmt = \"({}, {})\"\n",
    "        components = (format(c, fmt_spec) for c in coords)\n",
    "        return outer_fmt.format(*components)\n",
    "    \n",
    "    def __hash__(self):\n",
    "        return hash(self.x) ^ hash(self.y)\n",
    "    "
   ]
  },
  {
   "cell_type": "code",
   "execution_count": 31,
   "metadata": {},
   "outputs": [],
   "source": [
    "v1 = Vector2d(3, 4)\n",
    "v2 = Vector2d(3.1, 4.2)\n",
    "v3 = Vector2d(3, 4)"
   ]
  },
  {
   "cell_type": "code",
   "execution_count": 32,
   "metadata": {},
   "outputs": [
    {
     "data": {
      "text/plain": [
       "(7, 384307168202284039, 7)"
      ]
     },
     "execution_count": 32,
     "metadata": {},
     "output_type": "execute_result"
    }
   ],
   "source": [
    "hash(v1), hash(v2), hash(v3)"
   ]
  },
  {
   "cell_type": "code",
   "execution_count": 33,
   "metadata": {},
   "outputs": [
    {
     "data": {
      "text/plain": [
       "{Vector2d(3.0, 4.0), Vector2d(3.1, 4.2)}"
      ]
     },
     "execution_count": 33,
     "metadata": {},
     "output_type": "execute_result"
    }
   ],
   "source": [
    "set([v1, v2, v3])"
   ]
  },
  {
   "cell_type": "markdown",
   "metadata": {},
   "source": [
    "## Private and \"Protected\" Attributes in Python\n",
    "\n",
    "There is no way to create private variables in Python, but there is a simple mechanism to avoid accidentally overwriting a \"private\" attribute in a subclass.\n",
    "\n",
    "If an attribute is named in the form `__attribute`, with two leading underscores and zero or at most one trailing underscore, Python stores the the name in the instance `__dict__` **prefixed with a leading underscore and the class name**.\n",
    "\n",
    "This feature is known as **name mangling**."
   ]
  },
  {
   "cell_type": "code",
   "execution_count": 6,
   "metadata": {},
   "outputs": [
    {
     "data": {
      "text/plain": [
       "{'_Vector2d__x': 3.0, '_Vector2d__y': 4.0}"
      ]
     },
     "execution_count": 6,
     "metadata": {},
     "output_type": "execute_result"
    }
   ],
   "source": [
    "v1 = Vector2d(3, 4)\n",
    "v1.__dict__"
   ]
  },
  {
   "cell_type": "code",
   "execution_count": 7,
   "metadata": {},
   "outputs": [
    {
     "data": {
      "text/plain": [
       "3.0"
      ]
     },
     "execution_count": 7,
     "metadata": {},
     "output_type": "execute_result"
    }
   ],
   "source": [
    "v1._Vector2d__x"
   ]
  },
  {
   "cell_type": "markdown",
   "metadata": {},
   "source": [
    "Name mangling is about safety, not security. It is **designed to prevent accidental acces and not intentional wrongdoing**.\n",
    "\n",
    "Some prefer to avoid the double underscore syntax and use just **one underscore prefix** to \"protect\" attributes by convention.\n",
    "\n",
    "The single underscore prefix has no special meaning to the Python interpreter when used in attribute names, but there are very strong conventions that such attributes **should not be accessed outside the class**."
   ]
  },
  {
   "cell_type": "markdown",
   "metadata": {},
   "source": [
    "## Saving Space with the `__slots__` Class Attribute\n",
    "\n",
    "By default, Python stores instance attributes in a per-instance `dict` named `__dict__`. \n",
    "\n",
    "As described in [chapter 3](), dictionaries have significant memory overhead due to the required hash tables.\n",
    "\n",
    "If you are dealing with millions of instances with few attributes, the `__slots__` class attribute can save a lot of memory by storing the instance attributes in a `tuple` instead of a `dict`.\n",
    "\n",
    "**Note**: A `__slots__` attribute inherited from a superclass has no effect. Python only takes into account `__slots__` attributes defined in each class individually.\n",
    "\n",
    "**Note**: When `__slots__` is specified in a class, its instances will not be allowed to have any other attributes other than those named in `__slots__`.\n",
    "\n",
    "**Note**: If you need instances to be targets of weak references, you need to add `__weakref__` to `__slots__`."
   ]
  },
  {
   "cell_type": "code",
   "execution_count": 1,
   "metadata": {},
   "outputs": [],
   "source": [
    "# Example 9.8. vector2d_v4_slots.py: slots attribute\n",
    "\n",
    "from array import array\n",
    "import math\n",
    "\n",
    "class Vector2d:\n",
    "    __slots__ = (\"__x\", \"__y\")\n",
    "    typecode = \"d\" # Used when converting Vector2d instances to/from bytes\n",
    "\n",
    "    def __init__(self, x, y):\n",
    "        self.__x = float(x) # Use exactly two leading underscores to make attribute private\n",
    "        self.__y = float(y)\n",
    "        \n",
    "    @property # Marks the getter method of a property\n",
    "    def x(self):\n",
    "        return self.__x\n",
    "    \n",
    "    @property # Marks the getter method of a property\n",
    "    def y(self):\n",
    "        return self.__y\n",
    "\n",
    "    def __iter__(self): # Makes Vector2d iterable, allows unpacking\n",
    "        return (i for i in (self.x, self.y))\n",
    "\n",
    "    def __repr__(self):\n",
    "        class_name = type(self).__name__\n",
    "        return \"{}({!r}, {!r})\".format(class_name, *self)\n",
    "\n",
    "    def __str__(self):\n",
    "        return str(tuple(self))\n",
    "\n",
    "    def __bytes__(self):\n",
    "        return (bytes([ord(self.typecode)]) + bytes(array(self.typecode, self)))\n",
    "\n",
    "    def __abs__(self):\n",
    "        return math.hypot(self.x, self.y)\n",
    "\n",
    "    def __bool__(self):\n",
    "        return bool(abs(self))\n",
    "\n",
    "    def __eq__(self, other):\n",
    "        return tuple(self) == tuple(other)\n",
    "\n",
    "    @classmethod\n",
    "    def frombytes(cls, octets):\n",
    "        typecode = chr(octets[0])\n",
    "        memv = memoryview(octets[1:]).cast(typecode)\n",
    "        return cls(*memv)\n",
    "    \n",
    "    def angle(self):\n",
    "        return math.atan2(self.y, self.x)\n",
    "    \n",
    "    def __format__(self, fmt_spec=\"\"):\n",
    "        if fmt_spec.endswith(\"p\"):\n",
    "            fmt_spec = fmt_spec[:-1]\n",
    "            coords = (abs(self), self.angle())\n",
    "            outer_fmt = \"<{}, {}>\"\n",
    "        else:\n",
    "            coords = self\n",
    "            outer_fmt = \"({}, {})\"\n",
    "        components = (format(c, fmt_spec) for c in coords)\n",
    "        return outer_fmt.format(*components)\n",
    "    \n",
    "    def __hash__(self):\n",
    "        return hash(self.x) ^ hash(self.y)\n",
    "    "
   ]
  },
  {
   "cell_type": "markdown",
   "metadata": {},
   "source": [
    "Running a memory test as shown in *example 9-12* yields the following results:\n",
    "\n",
    "```bash\n",
    "$ time python3 memtest.py vector2d_v3.py\n",
    "Selected Vector2d type: vector2d_v3.Vector2d\n",
    "Creating 10,000,000 Vector2d(3.0, 4.0) instances\n",
    "Initial RAM usage:        7249920\n",
    "  Final RAM usage:     1987338240\n",
    "python3 memtest.py vector2d_v3.py  10.02s user 0.65s system 99% cpu 10.696 total\n",
    "\n",
    "$ time python3 memtest.py vector2d_v3_slots.py\n",
    "Selected Vector2d type: vector2d_v3_slots.Vector2d\n",
    "Creating 10,000,000 Vector2d(3.0, 4.0) instances\n",
    "Initial RAM usage:        7290880\n",
    "  Final RAM usage:      684322816\n",
    "python3 memtest.py vector2d_v3_slots.py  7.93s user 0.28s system 99% cpu 8.222 total\n",
    "```\n",
    "\n",
    "The `__slots__` version is both faster and has a significantly smaller RAM footprint."
   ]
  },
  {
   "cell_type": "markdown",
   "metadata": {},
   "source": [
    "## Overriding Class Attributes\n",
    "\n",
    "A distinctive feature of Python is how class attributes can be used as default values for instance attributes.\n",
    "\n",
    "For example, `Vector2d` has a `typecode` class attrubute. Because `Vector2d` instances are created without a `typecode` attribute of their own, the `self.typecode` will get the `Vector2d.typecode` attribute by default.\n",
    "\n",
    "If you write to an instance attribute that doesn't exist (e.g. `typecode`), you create a *new instance attribute* and the class attribute of that same name is left untouched. From then on, the instance class attribute will be read.\n",
    "\n",
    "The idiomatic Python way of setting a new class attribute is to subclass, as in the following example:"
   ]
  },
  {
   "cell_type": "code",
   "execution_count": 19,
   "metadata": {},
   "outputs": [
    {
     "name": "stdout",
     "output_type": "stream",
     "text": [
      "ShortVector2d(0.09090909090909091, 0.037037037037037035) 9\n",
      "Vector2d(0.09090909090909091, 0.037037037037037035) 17\n"
     ]
    }
   ],
   "source": [
    "# Example 9-14. The ShortVector2d is a subclass of Vector2d, which only overwrite the default typecode\n",
    "\n",
    "class ShortVector2d(Vector2d):\n",
    "    typecode = \"f\"\n",
    "    \n",
    "sv = ShortVector2d(1/11, 1/27)\n",
    "v = Vector2d(1/11, 1/27)\n",
    "print(repr(sv), len(bytes(sv)))\n",
    "print(repr(v), len(bytes(v)))"
   ]
  }
 ],
 "metadata": {
  "kernelspec": {
   "display_name": "Python 3",
   "language": "python",
   "name": "python3"
  },
  "language_info": {
   "codemirror_mode": {
    "name": "ipython",
    "version": 3
   },
   "file_extension": ".py",
   "mimetype": "text/x-python",
   "name": "python",
   "nbconvert_exporter": "python",
   "pygments_lexer": "ipython3",
   "version": "3.8.1"
  }
 },
 "nbformat": 4,
 "nbformat_minor": 4
}
