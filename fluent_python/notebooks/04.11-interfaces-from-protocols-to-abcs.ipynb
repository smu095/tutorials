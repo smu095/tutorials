{
 "cells": [
  {
   "cell_type": "markdown",
   "metadata": {},
   "source": [
    "# Chapter 11: Interfaces: From Protocols to ABCs\n",
    "\n",
    "**Note:** This is a quite wordy chapter. The first half will be summarised very briefly.\n",
    "\n",
    "The subject of this chapter is interfaces, from the dynamic protocols that characterise duck typing to abstract base classes (ABCs) that make interfaces explicit and verify implementations for conformance.\n",
    "\n",
    "It is useful to reiterate the idea of *duck typing* when exploring interfaces:\n",
    "\n",
    "> Duck typing ignores an objects actual type, focusing instead on ensuring that the object implements the method names, signatures, and semantics required for its intended use.\n",
    "\n",
    "## Interfaces and Protocols in Python Culture\n",
    "\n",
    "Every class has an interface: the set public attributes (methods or data attributes) implemented or inherited by the class.\n",
    "\n",
    "An interface can be viewed as a set of methods to fulfill a role is what is known as a *protocol*. Protocols are independent of inheritance. A class may implement several protocols, enabling its instances to fulfill several roles.\n",
    "\n",
    "Because protocols are informal, the cannot be enforced like formal interfaces can.\n",
    "\n",
    "By definition, private and protected attributes are not part of an interface, even if \"protected\" is merely a naming convention.\n",
    "\n",
    "On the other hand, public data attributes can be part of the interface of an object because a data attribute can always be turned into a properting implementing getter/setter logic.\n",
    "\n",
    "A useful complementary definition of an interface is: the subset of an object's public methods that enable it to play a specific role in the system.\n",
    "\n",
    "This is what is implied when the Python documentation mentions a \"file-like object\" or \"an iterable\"."
   ]
  },
  {
   "cell_type": "markdown",
   "metadata": {},
   "source": [
    "## Python Digs Sequences\n",
    "\n",
    "The Python data model is designed to cooperate with essential protocols as much as possible.\n",
    "\n",
    "One of the most fundamental Python protocols is the sequence protocol. The UML diagram below shows how the formal `Sequence` interface is implemented as an ABC:\n",
    "\n",
    "![](../figs/uml-mutablesequence.png)\n",
    "\n",
    "However, given the importance of the sequence protocol, in the abscence of `__iter__` and `__contains__` methods, Python can still make iteration and the `in` operator work by invoking `__getitem__`.\n"
   ]
  },
  {
   "cell_type": "markdown",
   "metadata": {},
   "source": [
    "## Monkey-Patching to Implement a Protocol at Runtime\n",
    "\n",
    "The `FrenchDeck` class from example 11-4 cannot be shuffled because it does not support item assignment, because it implements the *immutable* sequence protocol.\n",
    "\n",
    "Mutable sequences must also provide a `__setitem__` method.\n",
    "\n",
    "Because Python is dynamic, we can fix this at runtime. The following shows an example of *monkey-patching*, which means changing a class or module at runtime."
   ]
  },
  {
   "cell_type": "code",
   "execution_count": 1,
   "metadata": {},
   "outputs": [
    {
     "ename": "TypeError",
     "evalue": "'FrenchDeck' object does not support item assignment",
     "output_type": "error",
     "traceback": [
      "\u001b[0;31m---------------------------------------------------------------------------\u001b[0m",
      "\u001b[0;31mTypeError\u001b[0m                                 Traceback (most recent call last)",
      "\u001b[0;32m<ipython-input-1-845498d7a09d>\u001b[0m in \u001b[0;36m<module>\u001b[0;34m\u001b[0m\n\u001b[1;32m      3\u001b[0m \u001b[0;34m\u001b[0m\u001b[0m\n\u001b[1;32m      4\u001b[0m \u001b[0mdeck\u001b[0m \u001b[0;34m=\u001b[0m \u001b[0mFrenchDeck\u001b[0m\u001b[0;34m(\u001b[0m\u001b[0;34m)\u001b[0m\u001b[0;34m\u001b[0m\u001b[0;34m\u001b[0m\u001b[0m\n\u001b[0;32m----> 5\u001b[0;31m \u001b[0mshuffle\u001b[0m\u001b[0;34m(\u001b[0m\u001b[0mdeck\u001b[0m\u001b[0;34m)\u001b[0m\u001b[0;34m\u001b[0m\u001b[0;34m\u001b[0m\u001b[0m\n\u001b[0m",
      "\u001b[0;32m~/miniconda3/envs/python3.8/lib/python3.8/random.py\u001b[0m in \u001b[0;36mshuffle\u001b[0;34m(self, x, random)\u001b[0m\n\u001b[1;32m    305\u001b[0m                 \u001b[0;31m# pick an element in x[:i+1] with which to exchange x[i]\u001b[0m\u001b[0;34m\u001b[0m\u001b[0;34m\u001b[0m\u001b[0;34m\u001b[0m\u001b[0m\n\u001b[1;32m    306\u001b[0m                 \u001b[0mj\u001b[0m \u001b[0;34m=\u001b[0m \u001b[0mrandbelow\u001b[0m\u001b[0;34m(\u001b[0m\u001b[0mi\u001b[0m\u001b[0;34m+\u001b[0m\u001b[0;36m1\u001b[0m\u001b[0;34m)\u001b[0m\u001b[0;34m\u001b[0m\u001b[0;34m\u001b[0m\u001b[0m\n\u001b[0;32m--> 307\u001b[0;31m                 \u001b[0mx\u001b[0m\u001b[0;34m[\u001b[0m\u001b[0mi\u001b[0m\u001b[0;34m]\u001b[0m\u001b[0;34m,\u001b[0m \u001b[0mx\u001b[0m\u001b[0;34m[\u001b[0m\u001b[0mj\u001b[0m\u001b[0;34m]\u001b[0m \u001b[0;34m=\u001b[0m \u001b[0mx\u001b[0m\u001b[0;34m[\u001b[0m\u001b[0mj\u001b[0m\u001b[0;34m]\u001b[0m\u001b[0;34m,\u001b[0m \u001b[0mx\u001b[0m\u001b[0;34m[\u001b[0m\u001b[0mi\u001b[0m\u001b[0;34m]\u001b[0m\u001b[0;34m\u001b[0m\u001b[0;34m\u001b[0m\u001b[0m\n\u001b[0m\u001b[1;32m    308\u001b[0m         \u001b[0;32melse\u001b[0m\u001b[0;34m:\u001b[0m\u001b[0;34m\u001b[0m\u001b[0;34m\u001b[0m\u001b[0m\n\u001b[1;32m    309\u001b[0m             \u001b[0m_int\u001b[0m \u001b[0;34m=\u001b[0m \u001b[0mint\u001b[0m\u001b[0;34m\u001b[0m\u001b[0;34m\u001b[0m\u001b[0m\n",
      "\u001b[0;31mTypeError\u001b[0m: 'FrenchDeck' object does not support item assignment"
     ]
    }
   ],
   "source": [
    "from examples.deck import FrenchDeck\n",
    "from random import shuffle\n",
    "\n",
    "deck = FrenchDeck()\n",
    "shuffle(deck)"
   ]
  },
  {
   "cell_type": "code",
   "execution_count": 2,
   "metadata": {},
   "outputs": [
    {
     "data": {
      "text/plain": [
       "[Card(rank='8', suit='clubs'),\n",
       " Card(rank='4', suit='hearts'),\n",
       " Card(rank='7', suit='hearts'),\n",
       " Card(rank='6', suit='diamonds'),\n",
       " Card(rank='Q', suit='spades')]"
      ]
     },
     "execution_count": 2,
     "metadata": {},
     "output_type": "execute_result"
    }
   ],
   "source": [
    "# Example 11-6\n",
    "def setitem(deck, position, card):\n",
    "    deck._cards[position] = card\n",
    "\n",
    "FrenchDeck.__setitem__ = setitem\n",
    "shuffle(deck)\n",
    "deck[:5]"
   ]
  },
  {
   "cell_type": "markdown",
   "metadata": {},
   "source": [
    "The above example highlights that protocols are dynamic: `random.shuffle` doesn't care about what type of argument it gets, in only needs the object to implement part of the mutable sequence protocol."
   ]
  },
  {
   "cell_type": "markdown",
   "metadata": {},
   "source": [
    "## Alex Martellis Waterfowl\n",
    "\n",
    "This section presents a guest essay by Alex Martelli, explaining why he believes the addition of ABCs is a good thing in Python. See **pp. 326-329**. The essay is a bit lofty, but I think the main takeaways are:\n",
    "\n",
    "* The use of `isinstance` and `issubclass` is more acceptable when testing against ABCs. Otherwise they are a [code smell](https://en.wikipedia.org/wiki/Code_smell). StackOverflow [explains](https://stackoverflow.com/questions/13636149/is-using-python-isinstance-ever-right) [why](https://stackoverflow.com/questions/13636149/is-using-python-isinstance-ever-right).\n",
    "\n",
    "* Duck typing is usually simpler and more flexible than type checks. In practice this means wrapping code in `try`/`except` blocks (`try` something assuming some behaviour, catch any errors with `except`).\n",
    "\n",
    "* Use restraint when creating ABCs. They are meant to encapsulate very general concepts and abstractions introduced by a framework. Readers usually just need to use existing ABCs correctly, to get 99.9% of the benefits without serious risk of misdesign.\n",
    "\n",
    "* Martelli coins the word *goose typing*:\n",
    "\n",
    "> What goose typing means is: `isinstance(obj, cls)` is now just fine... as long as `cls` is an Abstract Base Class."
   ]
  },
  {
   "cell_type": "markdown",
   "metadata": {},
   "source": [
    "## Subclassing an ABC\n",
    "\n",
    "The following example leverages an existing ABC, `collections.MutableSequence`, to create a new version of `FrenchDeck`."
   ]
  },
  {
   "cell_type": "code",
   "execution_count": 19,
   "metadata": {},
   "outputs": [],
   "source": [
    "# Example 11-8. frenchdeck2.py: FrenchDeck2, a subclass of collections.MutableSequence\n",
    "\n",
    "import collections\n",
    "\n",
    "Card = collections.namedtuple(\"Card\", [\"rank\", \"suit\"])\n",
    "\n",
    "class FrenchDeck2(collections.MutableSequence):\n",
    "    ranks = [str(n) for n in range(11)] + list(\"JQKA\")\n",
    "    suits = \"spades diamonds clubs hearts\".split()\n",
    "    \n",
    "    def __init__(self):\n",
    "        self._cards = [Card(rank, suit) for suit in suits for rank in ranks]\n",
    "        \n",
    "    def __len__(self):\n",
    "        return len(self._cards)\n",
    "    \n",
    "    def __getitem__(self, position):\n",
    "        return self._cards[position]\n",
    "    \n",
    "    # Implemented to allow shuffling\n",
    "    def __setitem__(self, position, value):\n",
    "        self._cards[position] = value\n",
    "        \n",
    "    # Enforced by collections.MutableSequence\n",
    "    def __delitem__(self, position):\n",
    "        del self._cards[position]\n",
    "        \n",
    "    # Enforced by collections.MutableSequence\n",
    "    def insert(self, position, value):\n",
    "        self._cards.insert(position, value)\n",
    "        "
   ]
  },
  {
   "cell_type": "markdown",
   "metadata": {},
   "source": [
    "Python does not check for the implementation of the abstract methods at import time (when module is loaded and compiled), only at runtime.\n",
    "\n",
    "However, when we try to instantiate an instance of `FrenchDeck2`, **we will get a `TypeError` if we have failed to implement any of the abstract methods** (`__delitem__` and `insert`).\n",
    "\n",
    "From `Sequence` (see figure in **Python Digs Sequences** section), `FrenchDeck2` inherits the following ready-to-use concrete methods (also called \"mixin methods\"):\n",
    "\n",
    "* `__contains__`\n",
    "\n",
    "* `__iter__`\n",
    "\n",
    "* `__reversed__`\n",
    "\n",
    "* `index`\n",
    "\n",
    "* `count`\n",
    "\n",
    "From `MutableSequence` it gets:\n",
    "\n",
    "* `append`\n",
    "\n",
    "* `reverse`\n",
    "\n",
    "* `extend`\n",
    "\n",
    "* `pop`\n",
    "\n",
    "* `remove`\n",
    "\n",
    "* `__iadd__`\n",
    "\n",
    "The concrete methods in each `collections.abc` ABC are implemented in terms of the public interface of the class.\n",
    "\n",
    "They work without any knowledge of the internal structure of the instances.\n",
    "\n",
    "**Note:** Methods inherited from ABCs can be overwritten with more efficient implentations (such as writing a more efficient `__contains__` if your concrete sequence keeps its items sorted, using `bisect`)."
   ]
  },
  {
   "cell_type": "markdown",
   "metadata": {},
   "source": [
    "## ABCs in the Standard Library\n",
    "\n",
    "Most ABCs are defined in `collections.abc`, but some are also in the `numbers` and `io` packages.\n",
    "\n",
    "Note that there are two `abc` modules in the standard library, the other is is where `abc.ABC` is defined. Every ABC depends on it, but we don't need to import it except to create our own ABC.\n",
    "\n",
    "The following figure is a summary UML class diagram (without attribute names) of all 16 [ABCs defined in](https://docs.python.org/3/library/collections.abc.html) `collections.abc` as of Python 3.4:\n",
    "\n",
    "![](../figs/uml-abc.png)\n",
    "\n",
    "#### `Iterable`, `Container`, and `Sized`\n",
    "\n",
    "Every collection should either inherit from the ABCs or at least implement compatible protocols.\n",
    "\n",
    "#### `Sequence`, `Mapping`, and `Set`\n",
    "\n",
    "These are the main immutable collection types, and each has a mutable subclass\n",
    "\n",
    "#### `MappingView`\n",
    "\n",
    "The objects returned from mapping methods `.items()`, `keys()` and `.values()` inherit from `ItemsView`, `KeysView`, and `ValuesView` respectively. The first two also inherit the interface of `Set`.\n",
    "\n",
    "#### `Callable` and `Hashable`\n",
    "\n",
    "Their main use is to support the `isinstance` built-in as a safe way of determining whether an object is callable or hashable.\n",
    "\n",
    "#### `Iterator`\n",
    "\n",
    "Discussed further in [Chapter 14](). Not that `Iterator` subclasses `Iterable`.\n",
    "\n"
   ]
  },
  {
   "cell_type": "markdown",
   "metadata": {},
   "source": [
    "## The Numbers Tower of ABCs\n",
    "\n",
    "The `numbers` package defines the linear hierarchy of of ABCs, where `Numbers` is the topmost superclass, `Complex` is it's immediate subclass, and so on, down to `Integral`:\n",
    "\n",
    "* `Number`\n",
    "\n",
    "* `Complex`\n",
    "\n",
    "* `Real`\n",
    "\n",
    "* `Rational`\n",
    "\n",
    "* `Integral`"
   ]
  },
  {
   "cell_type": "markdown",
   "metadata": {},
   "source": [
    "## Defining and Using an ABC\n",
    "\n",
    "In the following example we will create an ABC. \n",
    "\n",
    "**Problem statement:** Assume we are creating an ad management framework called `ADAM`. One of its requirements is to support user-provided nonrepeating random-picking classes. To make it clear to `ADAM` users what is expected of a \"nonrepeating random-picking\" component, we'll define an ABC.\n",
    "\n",
    "We will use real-world metaphors (bingo cages and lottery blowers) to name our ABCs, to get across the point that we are picking items from a finite set, without repeating, until the set is exhausted. The ABC will be named `Tombola`, after the Italian name of bingo and the tumbling container it uses to mix number.\n",
    "\n",
    "![](../figs/tombola.png)"
   ]
  },
  {
   "cell_type": "code",
   "execution_count": null,
   "metadata": {},
   "outputs": [],
   "source": [
    "import abc\n",
    "\n",
    "class Tombola(abc.ABC):\n",
    "    \n",
    "    @abc.abstractmethod\n",
    "    def load(self, iterable):\n",
    "        \"\"\"Add items from an iterable\"\"\"\n",
    "        \n",
    "    @abc.abstractmethod\n",
    "    def pick(self):\n",
    "        \"\"\"Remove item at random, returning it.\n",
    "\n",
    "        This method should raise 'LookupError' when the instance is empty.\n",
    "        \"\"\"\n",
    "        \n",
    "    def loaded(self):\n",
    "        \"\"\"Return 'True' if there's at least 1 item, 'False' otherwise.\"\"\"\n",
    "        \n",
    "    def inspect(self):\n",
    "        \"\"\"Return a sorted tuple with the items currently inside.\"\"\"\n",
    "        items = []\n",
    "        while True:\n",
    "            try:\n",
    "                items.append(self.pick())\n",
    "            except LookupError:\n",
    "                break\n",
    "        self.load(items)\n",
    "        return tuple(sorted(items))"
   ]
  },
  {
   "cell_type": "markdown",
   "metadata": {},
   "source": [
    "#### Main takeaways regarding about the above implementation:\n",
    "\n",
    "* An abstract method is marked with the `@abstractmethod` decorator, and often its body is empty except for a docstring.\n",
    "\n",
    "* An abstract method can have an implementation, but subclasses will be forced to override it. However, they will be able to invoke the abstract method using `super()`, adding functionality instead of implementing it from scratch.\n",
    "\n",
    "* It's OK to implement concrete methods in ABCs, as long as they only depend on the other methods in the interface.\n",
    "\n",
    "#### Other things to note:\n",
    "\n",
    "* The `LookupError` may be raised, but there is no way to declare this in Python, except in the documenation.\n",
    "\n",
    "* `LookupError` was chosen because of it's place in the Python hierarchy of exceptions in relation to `IndexError` and `KeyError`, which are the most likely to be raised by `Tombola`. See the [documentation](https://docs.python.org/3/library/exceptions.html#exception-hierarchy) for the complete tree.\n",
    "\n",
    "In the following example we create a `Fake` class to see how ABCs enforce interfaces."
   ]
  },
  {
   "cell_type": "code",
   "execution_count": 7,
   "metadata": {},
   "outputs": [
    {
     "name": "stdout",
     "output_type": "stream",
     "text": [
      "<class '__main__.Fake'> <class 'abc.ABCMeta'>\n"
     ]
    },
    {
     "ename": "TypeError",
     "evalue": "Can't instantiate abstract class Fake with abstract methods load",
     "output_type": "error",
     "traceback": [
      "\u001b[0;31m---------------------------------------\u001b[0m",
      "\u001b[0;31mTypeError\u001b[0mTraceback (most recent call last)",
      "\u001b[0;32m<ipython-input-7-20206286d6ba>\u001b[0m in \u001b[0;36m<module>\u001b[0;34m\u001b[0m\n\u001b[1;32m      8\u001b[0m \u001b[0;34m\u001b[0m\u001b[0m\n\u001b[1;32m      9\u001b[0m \u001b[0mprint\u001b[0m\u001b[0;34m(\u001b[0m\u001b[0mrepr\u001b[0m\u001b[0;34m(\u001b[0m\u001b[0mFake\u001b[0m\u001b[0;34m)\u001b[0m\u001b[0;34m,\u001b[0m \u001b[0mtype\u001b[0m\u001b[0;34m(\u001b[0m\u001b[0mFake\u001b[0m\u001b[0;34m)\u001b[0m\u001b[0;34m)\u001b[0m\u001b[0;34m\u001b[0m\u001b[0;34m\u001b[0m\u001b[0m\n\u001b[0;32m---> 10\u001b[0;31m \u001b[0mf\u001b[0m \u001b[0;34m=\u001b[0m \u001b[0mFake\u001b[0m\u001b[0;34m(\u001b[0m\u001b[0;34m)\u001b[0m\u001b[0;34m\u001b[0m\u001b[0;34m\u001b[0m\u001b[0m\n\u001b[0m",
      "\u001b[0;31mTypeError\u001b[0m: Can't instantiate abstract class Fake with abstract methods load"
     ]
    }
   ],
   "source": [
    "# Example 11-11. A fake Tombola doesn't go undetected.\n",
    "\n",
    "from examples.tombola import Tombola\n",
    "\n",
    "class Fake(Tombola):\n",
    "    def pick(self):\n",
    "        return 13\n",
    "\n",
    "print(repr(Fake), type(Fake))\n",
    "f = Fake()"
   ]
  },
  {
   "cell_type": "markdown",
   "metadata": {},
   "source": [
    "### ABC Syntax Details\n",
    "\n",
    "**Note:** There are some changes to more recent versions of Python. Check the [documentation](https://docs.python.org/3/library/abc.html#abc.ABC).\n",
    "\n",
    "The best way to declare an ABC is to subclass `abc.ABC` or any other ABC."
   ]
  },
  {
   "cell_type": "code",
   "execution_count": 9,
   "metadata": {},
   "outputs": [
    {
     "name": "stdout",
     "output_type": "stream",
     "text": [
      "Help on class ABC in module abc:\n",
      "\n",
      "class ABC(builtins.object)\n",
      " |  Helper class that provides a standard way to create an ABC using\n",
      " |  inheritance.\n",
      " |  \n",
      " |  Data and other attributes defined here:\n",
      " |  \n",
      " |  __abstractmethods__ = frozenset()\n",
      "\n"
     ]
    }
   ],
   "source": [
    "import abc\n",
    "help(abc.ABC)"
   ]
  },
  {
   "cell_type": "markdown",
   "metadata": {},
   "source": [
    "It is possible to stack decorators on top of `@abstractmethod`. \n",
    "\n",
    "The order of stacked function decorators usually matters. When `abstractmethod()` is applied in combination with other method descriptors, it **should be applied as the innermost decorator**."
   ]
  },
  {
   "cell_type": "markdown",
   "metadata": {},
   "source": [
    "### Subclassing the Tombola ABC\n",
    "\n",
    "We will develop two concrete subclasses that satisfy the `Tombola` ABC interface (see the figure in **Defining and Using an ABC**).\n",
    "\n",
    "`BingoCage`, which implements a variation of example 5-8 using a better randomiser. It overrides `inspect` and adds `__call__`."
   ]
  },
  {
   "cell_type": "code",
   "execution_count": 13,
   "metadata": {},
   "outputs": [],
   "source": [
    "# Example 11-12. BingoCage is a concrete subclass of Tombola.\n",
    "\n",
    "import random\n",
    "from examples.tombola import Tombola\n",
    "\n",
    "\n",
    "class BingoCage(Tombola):\n",
    "    def __init__(self, items):\n",
    "        self._randomiser = random.SystemRandom()\n",
    "        self._items = []\n",
    "        self.load(items)\n",
    "\n",
    "    def load(self, items):\n",
    "        self._items.extend(items)\n",
    "        self._randomiser.shuffle(self._items)\n",
    "\n",
    "    def pick(self):\n",
    "        try:\n",
    "            return self._items.pop()\n",
    "        except IndexError:\n",
    "            raise LookupError(\"pick from empty BingoCage\")\n",
    "\n",
    "    def __call__(self):\n",
    "        self.pick()\n",
    "        "
   ]
  },
  {
   "cell_type": "markdown",
   "metadata": {},
   "source": [
    "The methods inherited from `Tombola` are not as fast as they could be for `BingoCage`. The point is to illustrate that we can lazily inherit suboptimal concrete methods from an ABC.\n",
    "\n",
    "The following example shows a different but equally valid implementation of the `Tombola` interface."
   ]
  },
  {
   "cell_type": "code",
   "execution_count": 15,
   "metadata": {},
   "outputs": [],
   "source": [
    "# Example 11-13. LotteryBlower is a concrete subclass that overrides the inspect \n",
    "# and loaded methods from Tombola.\n",
    "\n",
    "import random\n",
    "from examples.tombola import Tombola\n",
    "\n",
    "class LotterBlower(Tombola):\n",
    "    \n",
    "    def __init__(self, iterable):\n",
    "        self._balls = list(iterable)\n",
    "        \n",
    "    def load(self, iterable):\n",
    "        self._balls.extend(iterable)\n",
    "        \n",
    "    def pick(self):\n",
    "        try:\n",
    "            position = random.randrange(len(self._balls))\n",
    "        except ValueError:\n",
    "            raise LookupError(\"pick from empty BingoCage\")\n",
    "        return self._balls.pop(position)\n",
    "    \n",
    "    def loaded(self):\n",
    "        return bool(self._balls)\n",
    "    \n",
    "    def inspect(self):\n",
    "        return tuple(sorted(self._balls))\n",
    "    "
   ]
  },
  {
   "cell_type": "markdown",
   "metadata": {},
   "source": [
    "#### Things to not about the above implementation\n",
    "\n",
    "* `random.randrange(...)` raises a `ValueError` if the range is empty, which we catch and throw a `LookupError` instead to be compatible with `Tombola`.\n",
    "\n",
    "* We override `loaded` to avoid calling `inspect`.\n",
    "\n",
    "* In `__init__`, `self._balls` is not just a reference to `iterable`, but stores it as a `list`. This makes the class more flexible, as it can now accept any iterable as an argument.\n",
    "\n",
    "* `self._balls = list(iterable)` also grants access to the `pop` method, and it stores the argument as a copy. This is good practice if the input is a `list`, since we are removing items and the user may not anticipate that the provided `list` of items may change."
   ]
  },
  {
   "cell_type": "markdown",
   "metadata": {},
   "source": [
    "## A Virtual Subclass of Tombola\n",
    "\n",
    "An essential characteristic of goose typing is the ability to register a class as a *virtual subclass* of an ABC, even if it does not inherit from it.\n",
    "\n",
    "This is done by calling the `register` method on the ABC.\n",
    "\n",
    "**The registered class then becomes a virtual subclass of the ABC, and will be recognised as such by functions like `issubclass` and `isinstance`, but will not inherit any methods or attributes from the ABC**.\n",
    "\n",
    "See this [StackOverflow thread](https://stackoverflow.com/questions/51666120/whats-the-usage-of-a-virtual-subclass) for intuition on why virtual subclasses are useful."
   ]
  },
  {
   "cell_type": "code",
   "execution_count": 16,
   "metadata": {},
   "outputs": [],
   "source": [
    "# Example 11-14. class TomboList is a virtual subclass of Tombola\n",
    "\n",
    "from random import randrange\n",
    "from examples.tombola import Tombola\n",
    "\n",
    "@Tombola.register\n",
    "class TomboList(list):\n",
    "    \n",
    "    def pick(self):\n",
    "        if self: \n",
    "            position = randrange(len(self))\n",
    "            return self.pop(position)\n",
    "        else:\n",
    "            raise LookupError(\"pop from empty TomboList\")\n",
    "    \n",
    "    # TomboList.load is the same as list.extend\n",
    "    load = list.extend\n",
    "    \n",
    "    def loaded(self):\n",
    "        return bool(self)\n",
    "    \n",
    "    def inspect(self):\n",
    "        return tuple(sorted(self))\n",
    "    "
   ]
  },
  {
   "cell_type": "markdown",
   "metadata": {},
   "source": [
    "#### Things to not about the above implementation\n",
    "\n",
    "* Because of the registration, `issubclass` and `isinstance` act as if `TomboList`is a subclass of `Tombola`.\n",
    "\n",
    "* Inheritance is guided by a special class attribute names `__mro__` (**m**ethod **r**esolution **o**rder), which lists the class and its superflasses in the order Python uses to search for methods. `Tombola` is not in this list."
   ]
  },
  {
   "cell_type": "code",
   "execution_count": 17,
   "metadata": {},
   "outputs": [
    {
     "data": {
      "text/plain": [
       "(__main__.TomboList, list, object)"
      ]
     },
     "execution_count": 17,
     "metadata": {},
     "output_type": "execute_result"
    }
   ],
   "source": [
    "TomboList.__mro__"
   ]
  },
  {
   "cell_type": "markdown",
   "metadata": {},
   "source": [
    "There are details on **pp. 347-350** on Ramalho's use of `__subclasses__()` and `_abc_registry` to write tests for the above implementations."
   ]
  },
  {
   "cell_type": "markdown",
   "metadata": {},
   "source": [
    "## Usage of `register` in Practice"
   ]
  },
  {
   "cell_type": "markdown",
   "metadata": {},
   "source": [
    "The above example uses the decorator syntax to register the virtual subclass.\n",
    "\n",
    "In practice it is more widely deployed as a function to register classes defined elsewhere. See for example the [source code](https://github.com/python/cpython/blob/3.8/Lib/_collections_abc.py) for `collections.abc`\n",
    "\n",
    "**Example of virtual subclasses of `Sequence`.** The built-in types `tuple`, `str`, `range` and `memoryview` are registered as virutal subclasses like this:\n",
    "\n",
    "```python\n",
    "Sequence.register(tuple)\n",
    "Sequence.register(str)\n",
    "Sequence.register(range)\n",
    "Sequence.register(memoryview)\n",
    "```"
   ]
  },
  {
   "cell_type": "markdown",
   "metadata": {},
   "source": [
    "## Geese Can Behave as Ducks\n",
    "\n",
    "Some ABCs, such as `abc.Sized`, implement a special class method named `__subclasshook__`, which adds some duck typing DNA to the goose typing proposition.\n",
    "\n",
    "In the case of `abc.Sized`, this means that any class that defines the `__len__` special method will be considered a virtual subclass of `abc.Sized` by `issubclass` and `isinstance`.\n",
    "\n",
    "In other words, `__subclasshook__` allows classes to be recognised as virtual subclasses even without explicit registration.\n",
    "\n",
    "**Note:** It is usually not a good idea to implement your own `__subclasshook__`. See **pp. 351-352** for more details."
   ]
  }
 ],
 "metadata": {
  "file_extension": ".py",
  "kernelspec": {
   "display_name": "Python 3",
   "language": "python",
   "name": "python3"
  },
  "language_info": {
   "codemirror_mode": {
    "name": "ipython",
    "version": 3
   },
   "file_extension": ".py",
   "mimetype": "text/x-python",
   "name": "python",
   "nbconvert_exporter": "python",
   "pygments_lexer": "ipython3",
   "version": "3.7.5"
  },
  "mimetype": "text/x-python",
  "name": "python",
  "npconvert_exporter": "python",
  "pygments_lexer": "ipython3",
  "version": 3
 },
 "nbformat": 4,
 "nbformat_minor": 2
}
