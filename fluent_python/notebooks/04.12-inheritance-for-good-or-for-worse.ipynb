{
 "cells": [
  {
   "cell_type": "markdown",
   "metadata": {},
   "source": [
    "# Chapter 12: Inheritance: For Good or For Worse\n",
    "\n",
    "This chapter is about inheritance and subclassing, discussing good and bad practices when building class hierarchies. Chapter 12 emphasises two particulars very specific to Python:\n",
    "\n",
    "* The pitfalls of subclassing from built-in types.\n",
    "\n",
    "* Multiple inheritance and the method resolution order.\n",
    "\n",
    "Multiple inheritance is illustrated using two important Python projects: the TKinter GUI toolkit and the Django Web framework. In this summary we do not repeat these examples, but instead give a high-level overview. Refer to the book for details."
   ]
  },
  {
   "cell_type": "markdown",
   "metadata": {},
   "source": [
    "## Subclassing Built-In Types is Tricky\n",
    "\n",
    "Since Python 2.2 it has been possible to subclass built-in types such as `list` or `dict`. The is **one major caveat**: the code of the built-ins (written in C) does not all special methods overriden by user-defined classes."
   ]
  },
  {
   "cell_type": "code",
   "execution_count": 1,
   "metadata": {},
   "outputs": [
    {
     "data": {
      "text/plain": [
       "{'one': 1}"
      ]
     },
     "execution_count": 1,
     "metadata": {},
     "output_type": "execute_result"
    }
   ],
   "source": [
    "# Example 12-1. __setitem__ override is ignored by __init__ and __update__\n",
    "\n",
    "class DoppelDict(dict):\n",
    "    def __setitem__(self, key, value):\n",
    "        super().__setitem__(key, [value] * 2)\n",
    "        \n",
    "dd = DoppelDict(one=1)\n",
    "dd"
   ]
  },
  {
   "cell_type": "code",
   "execution_count": 2,
   "metadata": {},
   "outputs": [
    {
     "data": {
      "text/plain": [
       "{'one': 1, 'two': [2, 2]}"
      ]
     },
     "execution_count": 2,
     "metadata": {},
     "output_type": "execute_result"
    }
   ],
   "source": [
    "dd[\"two\"] = 2\n",
    "dd"
   ]
  },
  {
   "cell_type": "code",
   "execution_count": 3,
   "metadata": {},
   "outputs": [
    {
     "data": {
      "text/plain": [
       "{'one': 1, 'two': [2, 2], 'three': 3}"
      ]
     },
     "execution_count": 3,
     "metadata": {},
     "output_type": "execute_result"
    }
   ],
   "source": [
    "dd.update(three=3)\n",
    "dd"
   ]
  },
  {
   "cell_type": "markdown",
   "metadata": {},
   "source": [
    "#### Things to note about the above implementation:\n",
    "\n",
    "* `[]` calls our `__setitem__` and works as expected.\n",
    "\n",
    "* The `update` method from `dict` does not use our version of `__setitem__`.\n",
    "\n",
    "* This built-in behaviour violates a basic rule of OOP: the search for methods should always start from the class of the target instance (`self`), even when the call happens inside a method implemented in a superclass.\n",
    "\n",
    "**Takeaway:** Subclassing built-ins is error-prone. Instead, derive classes from `collections` module using `UserDict`, `UserList`, and `UserString` which are designed to be easily extended."
   ]
  },
  {
   "cell_type": "code",
   "execution_count": 4,
   "metadata": {},
   "outputs": [
    {
     "data": {
      "text/plain": [
       "{'one': [1, 1]}"
      ]
     },
     "execution_count": 4,
     "metadata": {},
     "output_type": "execute_result"
    }
   ],
   "source": [
    "# Example 12-3. DoppelDict now works as expected because it extends UserDict and not dict\n",
    "\n",
    "import collections\n",
    "\n",
    "class DoppelDict(collections.UserDict):\n",
    "    def __setitem__(self, key, value):\n",
    "        super().__setitem__(key, [value] * 2)\n",
    "        \n",
    "dd = DoppelDict(one=1)\n",
    "dd"
   ]
  },
  {
   "cell_type": "code",
   "execution_count": 5,
   "metadata": {},
   "outputs": [
    {
     "data": {
      "text/plain": [
       "{'one': [1, 1], 'two': [2, 2]}"
      ]
     },
     "execution_count": 5,
     "metadata": {},
     "output_type": "execute_result"
    }
   ],
   "source": [
    "dd[\"two\"] = 2\n",
    "dd"
   ]
  },
  {
   "cell_type": "code",
   "execution_count": 6,
   "metadata": {},
   "outputs": [
    {
     "data": {
      "text/plain": [
       "{'one': [1, 1], 'two': [2, 2], 'three': [3, 3]}"
      ]
     },
     "execution_count": 6,
     "metadata": {},
     "output_type": "execute_result"
    }
   ],
   "source": [
    "dd.update(three=3)\n",
    "dd"
   ]
  },
  {
   "cell_type": "markdown",
   "metadata": {},
   "source": [
    "## Multiple Inheritance and Method Resolution Order\n",
    "\n",
    "Any language implementing multiple inheritance needs to deal with potential naming conflicts when unrelated ancestor classes implement a method by the same name. This is called the **\"diamond problem\"**.\n",
    "\n",
    "![](../figs/uml-diamondproblem.png)"
   ]
  },
  {
   "cell_type": "code",
   "execution_count": 7,
   "metadata": {},
   "outputs": [],
   "source": [
    "# Example 12-4. classes A, B, C, and D for the graph in the above figure\n",
    "\n",
    "class A:\n",
    "    def ping(self):\n",
    "        print(\"ping\", self)\n",
    "        \n",
    "class B(A):\n",
    "    def pong(self):\n",
    "        print(\"pong\", self)\n",
    "        \n",
    "class C(A):\n",
    "    def pong(self):\n",
    "        print(\"PONG\", self)\n",
    "        \n",
    "class D(B, C):\n",
    "    def ping(self):\n",
    "        super().ping()\n",
    "        print(\"post-ping\", self)\n",
    "        \n",
    "    def pingpong(self):\n",
    "        self.ping()\n",
    "        super().ping()\n",
    "        self.pong()\n",
    "        super().pong()\n",
    "        C.pong(self)\n",
    "        "
   ]
  },
  {
   "cell_type": "code",
   "execution_count": 8,
   "metadata": {},
   "outputs": [
    {
     "name": "stdout",
     "output_type": "stream",
     "text": [
      "pong <__main__.D object at 0x104327340>\n"
     ]
    }
   ],
   "source": [
    "d = D()\n",
    "d.pong()"
   ]
  },
  {
   "cell_type": "code",
   "execution_count": 9,
   "metadata": {},
   "outputs": [
    {
     "name": "stdout",
     "output_type": "stream",
     "text": [
      "PONG <__main__.D object at 0x104327340>\n"
     ]
    }
   ],
   "source": [
    "C.pong(d)"
   ]
  },
  {
   "cell_type": "markdown",
   "metadata": {},
   "source": [
    "#### Things to note about the above implementation\n",
    "\n",
    "* Both `B` and `C` implement a `pong` method.\n",
    "\n",
    "* You can always call a method on a superclass directly, passing the instance as an explicit argument (`C.pong(d)`).\n",
    "\n",
    "* The ambiguity of the call `d.pong()`(which `pong()` method does it call, `B` or `C`?) is resolved because Python follows a specific order when traversing the inheritance graph.\n",
    "\n",
    "* The order is called **MRO (method resolution order)**. This is stored in the `__mro__` special method, which holds a tuple of references to the superclasses in MRO order."
   ]
  },
  {
   "cell_type": "code",
   "execution_count": 10,
   "metadata": {},
   "outputs": [
    {
     "data": {
      "text/plain": [
       "\"(<class '__main__.D'>, <class '__main__.B'>, <class '__main__.C'>, <class '__main__.A'>, <class 'object'>)\""
      ]
     },
     "execution_count": 10,
     "metadata": {},
     "output_type": "execute_result"
    }
   ],
   "source": [
    "repr(D.__mro__)"
   ]
  },
  {
   "cell_type": "markdown",
   "metadata": {},
   "source": [
    "The recommended way to delegate method calls to superclasses is the `super()` built-in function.\n",
    "\n",
    "Sometimes it is convenient to bypass the MRO and invoke a method on a superclass directly. In this case, `self` must be passed explicitly since we are accessing an *unbound method*."
   ]
  },
  {
   "cell_type": "code",
   "execution_count": 11,
   "metadata": {},
   "outputs": [
    {
     "name": "stdout",
     "output_type": "stream",
     "text": [
      "ping <__main__.D object at 0x104327430>\n",
      "post-ping <__main__.D object at 0x104327430>\n"
     ]
    }
   ],
   "source": [
    "d = D()\n",
    "d.ping()"
   ]
  },
  {
   "cell_type": "markdown",
   "metadata": {},
   "source": [
    "`ping` of `D` makes two calls:\n",
    "\n",
    "1. `super().ping()`, which delegates the call to class `A`.\n",
    "\n",
    "2. `print(\"post-ping\", self)` which outputs this line."
   ]
  },
  {
   "cell_type": "code",
   "execution_count": 12,
   "metadata": {},
   "outputs": [
    {
     "name": "stdout",
     "output_type": "stream",
     "text": [
      "ping <__main__.D object at 0x104344670>\n",
      "post-ping <__main__.D object at 0x104344670>\n",
      "ping <__main__.D object at 0x104344670>\n",
      "pong <__main__.D object at 0x104344670>\n",
      "pong <__main__.D object at 0x104344670>\n",
      "PONG <__main__.D object at 0x104344670>\n"
     ]
    }
   ],
   "source": [
    "d = D()\n",
    "d.pingpong()"
   ]
  },
  {
   "cell_type": "markdown",
   "metadata": {},
   "source": [
    "`pingpong` of `D` makes five calls:\n",
    "\n",
    "1. `self.ping()` which runs `ping` method of `D`.\n",
    "\n",
    "2. `super().ping()` which bypasses `ping` in `D` and delegates to `A`.\n",
    "\n",
    "3. `self.pong()` which finds the `B` implementation of `pong`, according to `__mro__`.\n",
    "\n",
    "4. `super().pong()` which finds the `B.pong` implementation, also following `__mro__`.\n",
    "\n",
    "5. `C.pong(self)`, which finds `C.pong`, ignoring `__mro__`.\n",
    "\n",
    "The MRO not only takes into account the inheritance graph, but also the order in which superclasses are listed in a subclass declaration.\n",
    "\n",
    "If the `D` class where declared `D(C, B)`, the `__mro__` of class `D` would be different: `C` would be searched before `B`."
   ]
  },
  {
   "cell_type": "markdown",
   "metadata": {},
   "source": [
    "## Multiple Inheritance in the Real World\n",
    "\n",
    "It's easy to create brittle and incomprehensible design using multiple inheritance. Here are som tips to avoid spaghetti class graphs.\n",
    "\n",
    "### 1. Distinguish Interface Inheritance from Implementation Inheritance\n",
    "\n",
    "The main reasons for subclassing is:\n",
    "\n",
    "1. Inheritance of interface creates a subtype, implying \"is-a\" relationship.\n",
    "\n",
    "2. Inheritance of implementation avoids duplication by reuse.\n",
    "\n",
    "Whenever possible, make the intent clear. Inheritance for code reuse is an implementation detail and can often be replaced by composition and delegation. On the other hand, interface inheritance is the backbone of a framework.\n",
    "\n",
    "### 2. Make Interfaces Explicit with ABCs\n",
    "\n",
    "If a class is designed to define an interface, it should be an explicit ABC. In other words, subclass `abc.ABC` or another ABC.\n",
    "\n",
    "### 3. Use Mixins for Code Reuse\n",
    "\n",
    "If a class is designed to provide method implementations for reuse by multiple  unrelated subclasses, without implying an \"is-a\" relationship, it should be an explicit **mixin class**. \n",
    "\n",
    "Mixins bundle methods for reuse. They should never be instantiated, and concrete classes should not inherit only from a mixin. Each mixin should provide a single specific behaviour, implementing few and very closely related methods.\n",
    "\n",
    "### 4. Make Mixins Explicit by Naming\n",
    "\n",
    "It is highly recommended that mixins are named with a `...Mixin` suffix.\n",
    "\n",
    "### 5. An ABC May Also Be a Mixin; The Reverse Is Not True\n",
    "\n",
    "Because an ABC can implement concrete methods, it works as a mixin as well. An ABC also defines a type, which a mixin does not. An ABC can be the sole base class of any other class, while a mixin should never be subclasses alone, except by another, more specialised mixin.\n",
    "\n",
    "One restriction applies to ABCs but not mixins: concrete methods implemented in ABCs should only collaberate with methods of the same ABC and its superclasses. \n",
    "\n",
    "This implies that concrete methods in an ABC are always for convenience. A user of the class should be able do everything the concrete methods do by calling other methods of the ABC.\n",
    "\n",
    "### 6. Don't Subclass from More Than One Concrete Class\n",
    "\n",
    "Concrete classes should have zero or at most one **concrete superclass**. All but one of the superclasses of a concrete class should be ABCs or mixins.\n",
    "\n",
    "### 7. Provide Aggregate Classes to Users\n",
    "\n",
    "If some combination of ABCs or mixins is particularly useful to client code, provide a class that brings them together in a sensible way. This is called an **aggregate class**.\n",
    "\n",
    "### 8. \"Favour Object Composition Over Class Inheritance.\"\n",
    "\n",
    "**Note:** See the article [Inheritance and Composition: A Python OOP Guide @ RealPython.com](https://realpython.com/inheritance-composition-python/#whats-composition) for supplementary reading material related to this topic.\n",
    "\n",
    "It is easy to overuse inheritance. However, favouring composition leads to more flexible designs. Composition implies a \"has-a\" relationship.\n",
    "\n",
    "Instead of inheriting methods from multiple superclasses, instances of the subclass could hold references to these superclasses and invoke their methods.\n",
    "\n",
    "Composition and delegation can replace the use of mixins to make behaviours available to different classes, but cannot replace the use of interface inheritance to define a hierarchy of types."
   ]
  }
 ],
 "metadata": {
  "kernelspec": {
   "display_name": "Python 3",
   "language": "python",
   "name": "python3"
  },
  "language_info": {
   "codemirror_mode": {
    "name": "ipython",
    "version": 3
   },
   "file_extension": ".py",
   "mimetype": "text/x-python",
   "name": "python",
   "nbconvert_exporter": "python",
   "pygments_lexer": "ipython3",
   "version": "3.8.1"
  }
 },
 "nbformat": 4,
 "nbformat_minor": 4
}
