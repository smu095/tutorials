{
 "cells": [
  {
   "cell_type": "markdown",
   "metadata": {},
   "source": [
    "# Chapter 13: Operator Overloading: Doing It Right\n",
    "\n",
    "There are different kinds of operators in Python:\n",
    "\n",
    "* An operator that requires two operands is a binary operator. All the binary operators use **infix** notation, which means that the operator appears between its operands. `+` and `|` are examples of **infix operators**.\n",
    "\n",
    "* An operator that requires one operand is called a **unary operator**. `-` and `~` are examples of unary operators.\n",
    "\n",
    "* `()` (function invocation), `.` (attribute access) and `[]` (item access/slicing) are also examples of operators.\n",
    "\n",
    "This chapter deals mainly with infix and unary operators, and will cover:\n",
    "\n",
    "* How Python supports infix operators with operands of different types.\n",
    "\n",
    "* Using duck typing or explicit type checks to deal with operands of various types.\n",
    "\n",
    "* How an infix operator method should signal it cannot handle an operand.\n",
    "\n",
    "* The special behaviour of the rich comparison operators (e.g., `==`, `>`, `<`, `<=`, etc.).\n",
    "\n",
    "* The default handling of augmented assignment operators, like `+=`, and how to overload them."
   ]
  },
  {
   "cell_type": "markdown",
   "metadata": {},
   "source": [
    "## Operator Overloading 101\n",
    "\n",
    "There are some limitations imposed on operator overloading in Python. **We cannot:**\n",
    "\n",
    "* overload the operators of built-in types.\n",
    "* create new operators (only overload existing).\n",
    "* overload `is`, `and`, `or` and `not`.\n",
    "\n",
    "The rich comparison operators (e.g. `==`, `!=`, `>`, `<`, etc.) are special cases in operator overloading, which will be covered later."
   ]
  },
  {
   "cell_type": "markdown",
   "metadata": {},
   "source": [
    "## Unary Operators\n",
    "\n",
    "*The Python Language Reference* lists three unary operators and their associated special methods:\n",
    "\n",
    "`-` (`__neg__`): Arithmetic unary negation. If `x == -2` then `-x == 2`.\n",
    "\n",
    "`+` (`__pos__`): Arithmetic unary plus. `x == +x`, excluding some special cases (see **p. 388**).\n",
    "\n",
    "`~` (`__invert__`): Bitwise inverse of an integer. Defined as `~x == -(x+1)`If `x == 2` then `~x == -3`.\n",
    "\n",
    "*The Python Language Reference* also lists `abs(...)` as a unary operator. The associated special method is `__abs__`.\n",
    "\n",
    "The unary operators are easily implemented by defining the above special methods (requires only `self` argument).\n",
    "\n",
    "However, remember the **fundamental rule of operators**: Always return a new object, i.e. create and return a new instance of a suitable type. **Special methods implementing unary or infix operators should never change their operands.**\n",
    "\n",
    "The exception to this rule is `+`, where it is the best approach is (usually) to return a copy of `self`.\n",
    "\n",
    "For `abs(...)` the result should be a scalar number."
   ]
  },
  {
   "cell_type": "code",
   "execution_count": 1,
   "metadata": {},
   "outputs": [],
   "source": [
    "# Example 13-1. vector_v6.py: unary operators - and +\n",
    "\n",
    "def __abs__(self):\n",
    "    return math.sqrt(sum(x * x for x in self))\n",
    "\n",
    "def __neg__(self):\n",
    "    return Vector(-x for x in self)\n",
    "\n",
    "def __pos__(self):\n",
    "    return Vector(self)"
   ]
  },
  {
   "cell_type": "markdown",
   "metadata": {},
   "source": [
    "## Overloading `+` for Vector Addition\n",
    "\n",
    "According to the [Data Model chapter](https://docs.python.org/3/reference/datamodel.html) in the official docs, sequences should support the `+` operator for concatenation and `*` operator for repetition.\n",
    "\n",
    "In our `Vector` class we will instead implement these as mathematical vector operations, which makes more sense for the type.\n",
    "\n",
    "We will also allow for addition of vectors of different lengths, due to practical considerations (may be used for information retrieval, etc.). To facilitate this, we use `zip_longest` and fill out the shortest `Vector` with zeros."
   ]
  },
  {
   "cell_type": "code",
   "execution_count": 2,
   "metadata": {},
   "outputs": [],
   "source": [
    "# Example 13-4. Vector.add method, take #1\n",
    "\n",
    "import itertools\n",
    "\n",
    "def __add__(self, other):\n",
    "    pairs = itertools.zip_longest(self, other, fill_value=0.0)\n",
    "    return Vector(a + b for a, b in pairs)"
   ]
  },
  {
   "cell_type": "markdown",
   "metadata": {},
   "source": [
    "Note that this implementation allows for addition of a `Vector` with any iterable, because `zip_longest` can consume any iterable."
   ]
  },
  {
   "cell_type": "code",
   "execution_count": 3,
   "metadata": {},
   "outputs": [
    {
     "data": {
      "text/plain": [
       "Vector([1.0, 3.0, 5.0, 7.0, 5.0, ...])"
      ]
     },
     "execution_count": 3,
     "metadata": {},
     "output_type": "execute_result"
    }
   ],
   "source": [
    "from examples.vector_v6 import Vector\n",
    "\n",
    "v = Vector(range(4))\n",
    "v + [1, 2, 3, 4, 5, 6]"
   ]
  },
  {
   "cell_type": "markdown",
   "metadata": {},
   "source": [
    "However, if the operands are reversed, this fails:"
   ]
  },
  {
   "cell_type": "code",
   "execution_count": 4,
   "metadata": {},
   "outputs": [
    {
     "ename": "TypeError",
     "evalue": "can only concatenate list (not \"Vector\") to list",
     "output_type": "error",
     "traceback": [
      "\u001b[0;31m----------------------------------------------------------\u001b[0m",
      "\u001b[0;31mTypeError\u001b[0m                Traceback (most recent call last)",
      "\u001b[0;32m<ipython-input-4-a11d06d861b5>\u001b[0m in \u001b[0;36m<module>\u001b[0;34m\u001b[0m\n\u001b[0;32m----> 1\u001b[0;31m \u001b[0;34m[\u001b[0m\u001b[0;36m1\u001b[0m\u001b[0;34m,\u001b[0m \u001b[0;36m2\u001b[0m\u001b[0;34m,\u001b[0m \u001b[0;36m3\u001b[0m\u001b[0;34m,\u001b[0m \u001b[0;36m4\u001b[0m\u001b[0;34m,\u001b[0m \u001b[0;36m5\u001b[0m\u001b[0;34m,\u001b[0m \u001b[0;36m6\u001b[0m\u001b[0;34m]\u001b[0m \u001b[0;34m+\u001b[0m \u001b[0mv\u001b[0m\u001b[0;34m\u001b[0m\u001b[0;34m\u001b[0m\u001b[0m\n\u001b[0m",
      "\u001b[0;31mTypeError\u001b[0m: can only concatenate list (not \"Vector\") to list"
     ]
    }
   ],
   "source": [
    "[1, 2, 3, 4, 5, 6] + v"
   ]
  },
  {
   "cell_type": "markdown",
   "metadata": {},
   "source": [
    "This happens because Python implements a special dispatching mechanism for the infix operator special methods. \n",
    "\n",
    "Given `a + b`, the interpreter performs the following steps:\n",
    "\n",
    "1. If `a` has `__add__`, call `a.__add__(b)` and return unless it is `NotImplemented`.\n",
    "2. If `a` does not have `__add__`, or calling it returns `NotImplemented`, check if `b` has `__radd__`, then call `b.__radd__(a)` and return result unless it is not implemented.\n",
    "3. If `b` does not have `__radd__`, or calling it returns `NotImplemented`, raise `TypeError` with an *unsupported operand types* message.\n",
    "\n",
    "The `__radd__` method is called the **\"reflected\"** or **\"reversed\"** version of `__add__`.\n",
    "\n",
    "To make the mixed-type addition work in `Vector`, we must implement the `__radd__` special method. Note that this is as simple as delegating to the `__add__` method."
   ]
  },
  {
   "cell_type": "code",
   "execution_count": 5,
   "metadata": {},
   "outputs": [],
   "source": [
    "# Example 13-4. Vector.__add__ and .__radd__ methods\n",
    "\n",
    "import itertools\n",
    "\n",
    "def __add__(self, other):\n",
    "    pairs = itertools.zip_longest(self, other, fill_value=0.0)\n",
    "    return Vector(a + b for a, b in pairs)\n",
    "\n",
    "def __radd__(self, other):\n",
    "    return self + other"
   ]
  },
  {
   "cell_type": "markdown",
   "metadata": {},
   "source": [
    "The above methods work with any iterable with numeric items, but fails when provided with a non-iterable object or iterables with non-numeric items:"
   ]
  },
  {
   "cell_type": "code",
   "execution_count": 6,
   "metadata": {},
   "outputs": [
    {
     "ename": "TypeError",
     "evalue": "zip_longest argument #2 must support iteration",
     "output_type": "error",
     "traceback": [
      "\u001b[0;31m----------------------------------------------------------\u001b[0m",
      "\u001b[0;31mTypeError\u001b[0m                Traceback (most recent call last)",
      "\u001b[0;32m<ipython-input-6-6d19cae86e0e>\u001b[0m in \u001b[0;36m<module>\u001b[0;34m\u001b[0m\n\u001b[0;32m----> 1\u001b[0;31m \u001b[0mv\u001b[0m \u001b[0;34m+\u001b[0m \u001b[0;36m1\u001b[0m\u001b[0;34m\u001b[0m\u001b[0;34m\u001b[0m\u001b[0m\n\u001b[0m",
      "\u001b[0;32m~/Documents/github/tutorials/fluent_python/examples/vector_v6.py\u001b[0m in \u001b[0;36m__add__\u001b[0;34m(self, other)\u001b[0m\n\u001b[1;32m    116\u001b[0m \u001b[0;34m\u001b[0m\u001b[0m\n\u001b[1;32m    117\u001b[0m     \u001b[0;32mdef\u001b[0m \u001b[0m__add__\u001b[0m\u001b[0;34m(\u001b[0m\u001b[0mself\u001b[0m\u001b[0;34m,\u001b[0m \u001b[0mother\u001b[0m\u001b[0;34m)\u001b[0m\u001b[0;34m:\u001b[0m\u001b[0;34m\u001b[0m\u001b[0;34m\u001b[0m\u001b[0m\n\u001b[0;32m--> 118\u001b[0;31m         \u001b[0mpairs\u001b[0m \u001b[0;34m=\u001b[0m \u001b[0mitertools\u001b[0m\u001b[0;34m.\u001b[0m\u001b[0mzip_longest\u001b[0m\u001b[0;34m(\u001b[0m\u001b[0mself\u001b[0m\u001b[0;34m,\u001b[0m \u001b[0mother\u001b[0m\u001b[0;34m,\u001b[0m \u001b[0mfillvalue\u001b[0m\u001b[0;34m=\u001b[0m\u001b[0;36m0.0\u001b[0m\u001b[0;34m)\u001b[0m\u001b[0;34m\u001b[0m\u001b[0;34m\u001b[0m\u001b[0m\n\u001b[0m\u001b[1;32m    119\u001b[0m         \u001b[0;32mreturn\u001b[0m \u001b[0mVector\u001b[0m\u001b[0;34m(\u001b[0m\u001b[0ma\u001b[0m \u001b[0;34m+\u001b[0m \u001b[0mb\u001b[0m \u001b[0;32mfor\u001b[0m \u001b[0ma\u001b[0m\u001b[0;34m,\u001b[0m \u001b[0mb\u001b[0m \u001b[0;32min\u001b[0m \u001b[0mpairs\u001b[0m\u001b[0;34m)\u001b[0m\u001b[0;34m\u001b[0m\u001b[0;34m\u001b[0m\u001b[0m\n",
      "\u001b[0;31mTypeError\u001b[0m: zip_longest argument #2 must support iteration"
     ]
    }
   ],
   "source": [
    "v + 1"
   ]
  },
  {
   "cell_type": "code",
   "execution_count": 7,
   "metadata": {},
   "outputs": [
    {
     "ename": "TypeError",
     "evalue": "unsupported operand type(s) for +: 'float' and 'str'",
     "output_type": "error",
     "traceback": [
      "\u001b[0;31m----------------------------------------------------------\u001b[0m",
      "\u001b[0;31mTypeError\u001b[0m                Traceback (most recent call last)",
      "\u001b[0;32m<ipython-input-7-f2b23e0fd7f8>\u001b[0m in \u001b[0;36m<module>\u001b[0;34m\u001b[0m\n\u001b[0;32m----> 1\u001b[0;31m \u001b[0mv\u001b[0m \u001b[0;34m+\u001b[0m \u001b[0;34m\"ABC\"\u001b[0m\u001b[0;34m\u001b[0m\u001b[0;34m\u001b[0m\u001b[0m\n\u001b[0m",
      "\u001b[0;32m~/Documents/github/tutorials/fluent_python/examples/vector_v6.py\u001b[0m in \u001b[0;36m__add__\u001b[0;34m(self, other)\u001b[0m\n\u001b[1;32m    117\u001b[0m     \u001b[0;32mdef\u001b[0m \u001b[0m__add__\u001b[0m\u001b[0;34m(\u001b[0m\u001b[0mself\u001b[0m\u001b[0;34m,\u001b[0m \u001b[0mother\u001b[0m\u001b[0;34m)\u001b[0m\u001b[0;34m:\u001b[0m\u001b[0;34m\u001b[0m\u001b[0;34m\u001b[0m\u001b[0m\n\u001b[1;32m    118\u001b[0m         \u001b[0mpairs\u001b[0m \u001b[0;34m=\u001b[0m \u001b[0mitertools\u001b[0m\u001b[0;34m.\u001b[0m\u001b[0mzip_longest\u001b[0m\u001b[0;34m(\u001b[0m\u001b[0mself\u001b[0m\u001b[0;34m,\u001b[0m \u001b[0mother\u001b[0m\u001b[0;34m,\u001b[0m \u001b[0mfillvalue\u001b[0m\u001b[0;34m=\u001b[0m\u001b[0;36m0.0\u001b[0m\u001b[0;34m)\u001b[0m\u001b[0;34m\u001b[0m\u001b[0;34m\u001b[0m\u001b[0m\n\u001b[0;32m--> 119\u001b[0;31m         \u001b[0;32mreturn\u001b[0m \u001b[0mVector\u001b[0m\u001b[0;34m(\u001b[0m\u001b[0ma\u001b[0m \u001b[0;34m+\u001b[0m \u001b[0mb\u001b[0m \u001b[0;32mfor\u001b[0m \u001b[0ma\u001b[0m\u001b[0;34m,\u001b[0m \u001b[0mb\u001b[0m \u001b[0;32min\u001b[0m \u001b[0mpairs\u001b[0m\u001b[0;34m)\u001b[0m\u001b[0;34m\u001b[0m\u001b[0;34m\u001b[0m\u001b[0m\n\u001b[0m",
      "\u001b[0;32m~/Documents/github/tutorials/fluent_python/examples/vector_v6.py\u001b[0m in \u001b[0;36m__init__\u001b[0;34m(self, components)\u001b[0m\n\u001b[1;32m     15\u001b[0m \u001b[0;34m\u001b[0m\u001b[0m\n\u001b[1;32m     16\u001b[0m     \u001b[0;32mdef\u001b[0m \u001b[0m__init__\u001b[0m\u001b[0;34m(\u001b[0m\u001b[0mself\u001b[0m\u001b[0;34m,\u001b[0m \u001b[0mcomponents\u001b[0m\u001b[0;34m)\u001b[0m\u001b[0;34m:\u001b[0m\u001b[0;34m\u001b[0m\u001b[0;34m\u001b[0m\u001b[0m\n\u001b[0;32m---> 17\u001b[0;31m         \u001b[0mself\u001b[0m\u001b[0;34m.\u001b[0m\u001b[0m_components\u001b[0m \u001b[0;34m=\u001b[0m \u001b[0marray\u001b[0m\u001b[0;34m(\u001b[0m\u001b[0mself\u001b[0m\u001b[0;34m.\u001b[0m\u001b[0mtypecode\u001b[0m\u001b[0;34m,\u001b[0m \u001b[0mcomponents\u001b[0m\u001b[0;34m)\u001b[0m\u001b[0;34m\u001b[0m\u001b[0;34m\u001b[0m\u001b[0m\n\u001b[0m\u001b[1;32m     18\u001b[0m \u001b[0;34m\u001b[0m\u001b[0m\n\u001b[1;32m     19\u001b[0m     \u001b[0;32mdef\u001b[0m \u001b[0m__iter__\u001b[0m\u001b[0;34m(\u001b[0m\u001b[0mself\u001b[0m\u001b[0;34m)\u001b[0m\u001b[0;34m:\u001b[0m\u001b[0;34m\u001b[0m\u001b[0;34m\u001b[0m\u001b[0m\n",
      "\u001b[0;32m~/Documents/github/tutorials/fluent_python/examples/vector_v6.py\u001b[0m in \u001b[0;36m<genexpr>\u001b[0;34m(.0)\u001b[0m\n\u001b[1;32m    117\u001b[0m     \u001b[0;32mdef\u001b[0m \u001b[0m__add__\u001b[0m\u001b[0;34m(\u001b[0m\u001b[0mself\u001b[0m\u001b[0;34m,\u001b[0m \u001b[0mother\u001b[0m\u001b[0;34m)\u001b[0m\u001b[0;34m:\u001b[0m\u001b[0;34m\u001b[0m\u001b[0;34m\u001b[0m\u001b[0m\n\u001b[1;32m    118\u001b[0m         \u001b[0mpairs\u001b[0m \u001b[0;34m=\u001b[0m \u001b[0mitertools\u001b[0m\u001b[0;34m.\u001b[0m\u001b[0mzip_longest\u001b[0m\u001b[0;34m(\u001b[0m\u001b[0mself\u001b[0m\u001b[0;34m,\u001b[0m \u001b[0mother\u001b[0m\u001b[0;34m,\u001b[0m \u001b[0mfillvalue\u001b[0m\u001b[0;34m=\u001b[0m\u001b[0;36m0.0\u001b[0m\u001b[0;34m)\u001b[0m\u001b[0;34m\u001b[0m\u001b[0;34m\u001b[0m\u001b[0m\n\u001b[0;32m--> 119\u001b[0;31m         \u001b[0;32mreturn\u001b[0m \u001b[0mVector\u001b[0m\u001b[0;34m(\u001b[0m\u001b[0ma\u001b[0m \u001b[0;34m+\u001b[0m \u001b[0mb\u001b[0m \u001b[0;32mfor\u001b[0m \u001b[0ma\u001b[0m\u001b[0;34m,\u001b[0m \u001b[0mb\u001b[0m \u001b[0;32min\u001b[0m \u001b[0mpairs\u001b[0m\u001b[0;34m)\u001b[0m\u001b[0;34m\u001b[0m\u001b[0;34m\u001b[0m\u001b[0m\n\u001b[0m",
      "\u001b[0;31mTypeError\u001b[0m: unsupported operand type(s) for +: 'float' and 'str'"
     ]
    }
   ],
   "source": [
    "v + \"ABC\""
   ]
  },
  {
   "cell_type": "markdown",
   "metadata": {},
   "source": [
    "If an operator cannot return a valid result because of type incompatibility, it should return `NotImplemented` instead of raising a `TypeError`. \n",
    "\n",
    "By returning `NotImplemented`, you leave the door open for the implementer of the other operand type to perform the operation when Python tries the reversed method call.\n",
    "\n",
    "**In the spirit of duck typing, we do not test the input type of `other`, and instead catch exceptions and return `NotImplemented`.**\n",
    "\n",
    "If the reverse method call returns `NotImplemented`, then Python will raise `TypeError` with a standard error message."
   ]
  },
  {
   "cell_type": "code",
   "execution_count": 8,
   "metadata": {},
   "outputs": [],
   "source": [
    "# Example 13-10. vector_v6_final.py: final operator + methods\n",
    "\n",
    "def __add__(self, other):\n",
    "    try:\n",
    "        pairs = itertools.zip_longest(self, other, fill_value=0.0)\n",
    "        return Vector(a + b for a, b in pairs)\n",
    "    except TypeError:\n",
    "        raise NotImplemented\n",
    "        \n",
    "def __radd__(self, other):\n",
    "    return self + other"
   ]
  },
  {
   "cell_type": "markdown",
   "metadata": {},
   "source": [
    "**Takeaway:** If an infix operator raises an exception, it aborts the operator dispatch algorithm. In the particular case of `TypeError`, it is often better to catch it and return `NotImplemented`. This allows the interpreter to  try calling the reversed operator method, which may correctly handle the computation with the swapped operands, if the are of different types."
   ]
  },
  {
   "cell_type": "markdown",
   "metadata": {},
   "source": [
    "## Overloading `*` for Scalar Multiplication\n",
    "\n",
    "There should be two kinds of multiplications available for `Vector` instances: scalar multiplication and dot products.\n",
    "\n",
    "In the case of scalar multiplications, Ramalho shows a practical example of goose typing (an explicit check against an abstract type, see [chapter 11]()):"
   ]
  },
  {
   "cell_type": "code",
   "execution_count": 9,
   "metadata": {},
   "outputs": [
    {
     "ename": "SyntaxError",
     "evalue": "invalid syntax (<ipython-input-9-e90464a95449>, line 17)",
     "output_type": "error",
     "traceback": [
      "\u001b[0;36m  File \u001b[0;32m\"<ipython-input-9-e90464a95449>\"\u001b[0;36m, line \u001b[0;32m17\u001b[0m\n\u001b[0;31m    else:\u001b[0m\n\u001b[0m       ^\u001b[0m\n\u001b[0;31mSyntaxError\u001b[0m\u001b[0;31m:\u001b[0m invalid syntax\n"
     ]
    }
   ],
   "source": [
    "# inside the Vector class (see vector_v7.py)\n",
    "\n",
    "import numbers\n",
    "\n",
    "def __mul__(self, scalar):\n",
    "    if isinstance(scalar, numbers.Real):\n",
    "        return Vector(scalar * x for x in self)\n",
    "    else:\n",
    "        raise NotImplemented\n",
    "        \n",
    "def __rmul__(self, scalar):\n",
    "    return self * scalar\n",
    "\n",
    "def __matmul__(self, other):\n",
    "    try:\n",
    "        return sum(a * b for a, b in zip(self, other))\n",
    "    else:\n",
    "        raise NotImplemented\n",
    "        \n",
    "def __rmatmul__(self, other):\n",
    "    return self @ other"
   ]
  },
  {
   "cell_type": "markdown",
   "metadata": {},
   "source": [
    "Above we use `isinstance()` to check the type of `scalar`, but instead of hardcoding some concrete types, we check against the `numbers.Real` ABC, which covers all the types we need.\n",
    "\n",
    "This keeps our implementation open to future numeric types that declare themselves as actual or virtual subclasses of the `numbers.Real` ABC.\n",
    "\n",
    "The patterns used when implementing `+` and `*` illustrate the most common patterns for coding infix operators, and are applicable to all operators listed in table 13-1 on **p. 397**."
   ]
  },
  {
   "cell_type": "markdown",
   "metadata": {},
   "source": [
    "## Rich Comparison Operators\n",
    "\n",
    "The handling of rich comparison operators by the Python interpreter is similar to those described above, but differs in two important ways:\n",
    "\n",
    "* The same set of methods are used in forward and reverse operator calls, summarised in the table below.\n",
    "* In the case of `==` and `!=`, if the reverse call fails, Python compares the object IDs instead of raising `TypeError`.\n",
    "\n",
    "| Group    | Infix operator | Forward method call | Reverse method call | Fall back               |\n",
    "| -------- | -------------- | ------------------- | ------------------- | ----------------------- |\n",
    "| Equality | `a == b`       | `a.__eq__(b)`       | `b.__eq__(a)`       | Return `id(a) == id(b)` |\n",
    "|          | `a != b`       | `a.__ne__(b)`       | `b.__ne__(a)`       | Return `not (a == b)`   |\n",
    "| Ordering | `a > b`        | `a.__gt__(b)`       | `b.__lt__(a)`       | Raise `TypeError`       |\n",
    "|          | `a < b`        | `a.__lt__(b)`       | `b.__gt__(a)`       | Raise `TypeError`       |\n",
    "|          | `a >= b`       | `a.__ge__(b)`       | `b.__le__(a)`       | Raise `TypeError`       |\n",
    "|          | `a <= b`       | `a.__le__(b)`       | `b.__ge__(a)`       | Raise `TypeError`       |"
   ]
  },
  {
   "cell_type": "markdown",
   "metadata": {},
   "source": [
    "Recall the original implementation of `Vector.__eq__`:\n",
    "\n",
    "```python\n",
    "def __eq__(self, other):\n",
    "    return len(self) == len(other) and all(a == b for a, b in zip(self, other))\n",
    "```\n",
    "\n",
    "This method produces the following results:"
   ]
  },
  {
   "cell_type": "code",
   "execution_count": 10,
   "metadata": {},
   "outputs": [],
   "source": [
    "from examples.vector2d_v3 import Vector2d\n",
    "from examples.vector_v5 import Vector\n",
    "\n",
    "va = Vector([1.0, 2.0, 3.0])\n",
    "vb = Vector(range(1, 4))\n",
    "vc = Vector([1, 2])\n",
    "v2d = Vector2d(1, 2)\n",
    "t3 = (1, 2, 3)"
   ]
  },
  {
   "cell_type": "code",
   "execution_count": 11,
   "metadata": {},
   "outputs": [
    {
     "name": "stdout",
     "output_type": "stream",
     "text": [
      "va == vb: True\n",
      "vc == v2d: True\n",
      "va == t3: True\n"
     ]
    }
   ],
   "source": [
    "print(\"va == vb:\", va == vb)\n",
    "print(\"vc == v2d:\", vc == v2d)\n",
    "print(\"va == t3:\", va == t3)"
   ]
  },
  {
   "cell_type": "markdown",
   "metadata": {},
   "source": [
    "The last result is probably not desirable.\n",
    "\n",
    "To solve this, Ramalho suggests explicitly type checking to be conservative. Using the rules listed in the table above, we improve `Vector.__eq__`:"
   ]
  },
  {
   "cell_type": "code",
   "execution_count": 12,
   "metadata": {},
   "outputs": [],
   "source": [
    "# in Vector class\n",
    "\n",
    "def __eq__(self, other):\n",
    "    if isinstance(other, Vector):\n",
    "        return len(self) == len(other) and all(a == b for a, b in zip(self, other))\n",
    "    else:\n",
    "        raise NotImplemented"
   ]
  },
  {
   "cell_type": "code",
   "execution_count": 13,
   "metadata": {},
   "outputs": [
    {
     "name": "stdout",
     "output_type": "stream",
     "text": [
      "va == vb: True\n",
      "vc == v2d: True\n",
      "va == t3: False\n"
     ]
    }
   ],
   "source": [
    "from examples.vector2d_v3 import Vector2d\n",
    "from examples.vector_v8 import Vector\n",
    "\n",
    "va = Vector([1.0, 2.0, 3.0])\n",
    "vb = Vector(range(1, 4))\n",
    "v2d = Vector2d(1, 2)\n",
    "t3 = (1, 2, 3)\n",
    "\n",
    "print(\"va == vb:\", va == vb)\n",
    "print(\"vc == v2d:\", vc == v2d)\n",
    "print(\"va == t3:\", va == t3)"
   ]
  },
  {
   "cell_type": "markdown",
   "metadata": {},
   "source": [
    "In this case, the reversed call delegates the equality check to a `tuple`, which compares object IDs as a fall back, returning `False`.\n",
    "\n",
    "Because of the fall back behaviour of `__ne__` (see table above), we don't need to implement it in `Vector` (`not (a == b) -> not (False)`)."
   ]
  },
  {
   "cell_type": "markdown",
   "metadata": {},
   "source": [
    "## Augmented Assignment Operators\n",
    "\n",
    "If you have implemented `__add__` then `+=` will work with no additional code.\n",
    "\n",
    "This is because if a class does not implement the in-place operators listed in table 13-1, the augmented assignment operators are just syntactic sugar: `a += b` is evaluated as `a = a + b`.\n",
    "\n",
    "However, if an in-place operator such as `__iadd__` is implemented, that method is called to compute the result of `a += b`. **It is very important that augmented assignment special methods return `self`.**\n",
    "\n",
    "As the name suggests, these operators are expected to change the left hand operator *in place* and not create a new object.\n",
    "\n",
    "**In-place methods should never be implemented in immutable types, like our `Vector` class.**\n",
    "\n",
    "To show the implementation of an in-place operator, we extend `BingoCage` from example 11-12:"
   ]
  },
  {
   "cell_type": "code",
   "execution_count": 14,
   "metadata": {},
   "outputs": [],
   "source": [
    "# Example 13-18. bingoaddable.py: AddableBingoCage extends BingoCage to support + and +=\n",
    "\n",
    "import itertools\n",
    "from examples.tombola import Tombola\n",
    "from examples.bingo import BingoCage\n",
    "\n",
    "\n",
    "class AddableBingoCage(BingoCage):\n",
    "    def __add__(self, other):\n",
    "        if isinstance(other, Tombola):\n",
    "            return AddableBingoCage(self.inspect() + other.inspect())\n",
    "        else:\n",
    "            return NotImplemented  # noqa: F901\n",
    "\n",
    "    def __iadd__(self, other):\n",
    "        if isinstance(other, Tombola):\n",
    "            other_iterable = other.inspect()\n",
    "        else:\n",
    "            try:\n",
    "                other_iterable = iter(other)\n",
    "            except TypeError:\n",
    "                self_cls = type(self).__name__\n",
    "                msg = f\"right operand in += must be {self_cls!r} or an iterable\"\n",
    "                raise TypeError(msg)\n",
    "        self.load(other_iterable)\n",
    "        return self\n"
   ]
  },
  {
   "cell_type": "code",
   "execution_count": 15,
   "metadata": {},
   "outputs": [
    {
     "name": "stdout",
     "output_type": "stream",
     "text": [
      "Original length: 3\n",
      "Length after in-place addition: 5\n",
      "Check if object returned is the same: True\n",
      "\n",
      "We expect this to fail:\n"
     ]
    },
    {
     "ename": "TypeError",
     "evalue": "right operand in += must be 'AddableBingoCage' or an iterable",
     "output_type": "error",
     "traceback": [
      "\u001b[0;31m----------------------------------------------------------\u001b[0m",
      "\u001b[0;31mTypeError\u001b[0m                Traceback (most recent call last)",
      "\u001b[0;32m<ipython-input-14-69bf28cfcae7>\u001b[0m in \u001b[0;36m__iadd__\u001b[0;34m(self, other)\u001b[0m\n\u001b[1;32m     19\u001b[0m             \u001b[0;32mtry\u001b[0m\u001b[0;34m:\u001b[0m\u001b[0;34m\u001b[0m\u001b[0;34m\u001b[0m\u001b[0m\n\u001b[0;32m---> 20\u001b[0;31m                 \u001b[0mother_iterable\u001b[0m \u001b[0;34m=\u001b[0m \u001b[0miter\u001b[0m\u001b[0;34m(\u001b[0m\u001b[0mother\u001b[0m\u001b[0;34m)\u001b[0m\u001b[0;34m\u001b[0m\u001b[0;34m\u001b[0m\u001b[0m\n\u001b[0m\u001b[1;32m     21\u001b[0m             \u001b[0;32mexcept\u001b[0m \u001b[0mTypeError\u001b[0m\u001b[0;34m:\u001b[0m\u001b[0;34m\u001b[0m\u001b[0;34m\u001b[0m\u001b[0m\n",
      "\u001b[0;31mTypeError\u001b[0m: 'int' object is not iterable",
      "\nDuring handling of the above exception, another exception occurred:\n",
      "\u001b[0;31mTypeError\u001b[0m                Traceback (most recent call last)",
      "\u001b[0;32m<ipython-input-15-bd630e9b9afc>\u001b[0m in \u001b[0;36m<module>\u001b[0;34m\u001b[0m\n\u001b[1;32m      9\u001b[0m \u001b[0;34m\u001b[0m\u001b[0m\n\u001b[1;32m     10\u001b[0m \u001b[0mprint\u001b[0m\u001b[0;34m(\u001b[0m\u001b[0;34m\"\\nWe expect this to fail:\"\u001b[0m\u001b[0;34m)\u001b[0m\u001b[0;34m\u001b[0m\u001b[0;34m\u001b[0m\u001b[0m\n\u001b[0;32m---> 11\u001b[0;31m \u001b[0mfirst_globe\u001b[0m \u001b[0;34m+=\u001b[0m \u001b[0;36m1\u001b[0m\u001b[0;34m\u001b[0m\u001b[0;34m\u001b[0m\u001b[0m\n\u001b[0m",
      "\u001b[0;32m<ipython-input-14-69bf28cfcae7>\u001b[0m in \u001b[0;36m__iadd__\u001b[0;34m(self, other)\u001b[0m\n\u001b[1;32m     22\u001b[0m                 \u001b[0mself_cls\u001b[0m \u001b[0;34m=\u001b[0m \u001b[0mtype\u001b[0m\u001b[0;34m(\u001b[0m\u001b[0mself\u001b[0m\u001b[0;34m)\u001b[0m\u001b[0;34m.\u001b[0m\u001b[0m__name__\u001b[0m\u001b[0;34m\u001b[0m\u001b[0;34m\u001b[0m\u001b[0m\n\u001b[1;32m     23\u001b[0m                 \u001b[0mmsg\u001b[0m \u001b[0;34m=\u001b[0m \u001b[0;34mf\"right operand in += must be {self_cls!r} or an iterable\"\u001b[0m\u001b[0;34m\u001b[0m\u001b[0;34m\u001b[0m\u001b[0m\n\u001b[0;32m---> 24\u001b[0;31m                 \u001b[0;32mraise\u001b[0m \u001b[0mTypeError\u001b[0m\u001b[0;34m(\u001b[0m\u001b[0mmsg\u001b[0m\u001b[0;34m)\u001b[0m\u001b[0;34m\u001b[0m\u001b[0;34m\u001b[0m\u001b[0m\n\u001b[0m\u001b[1;32m     25\u001b[0m         \u001b[0mself\u001b[0m\u001b[0;34m.\u001b[0m\u001b[0mload\u001b[0m\u001b[0;34m(\u001b[0m\u001b[0mother_iterable\u001b[0m\u001b[0;34m)\u001b[0m\u001b[0;34m\u001b[0m\u001b[0;34m\u001b[0m\u001b[0m\n\u001b[1;32m     26\u001b[0m         \u001b[0;32mreturn\u001b[0m \u001b[0mself\u001b[0m\u001b[0;34m\u001b[0m\u001b[0;34m\u001b[0m\u001b[0m\n",
      "\u001b[0;31mTypeError\u001b[0m: right operand in += must be 'AddableBingoCage' or an iterable"
     ]
    }
   ],
   "source": [
    "first_globe = AddableBingoCage([1, 2, 3])\n",
    "globe_orig = first_globe\n",
    "second_globe = AddableBingoCage([4, 5])\n",
    "print(\"Original length:\", len(first_globe.inspect()))\n",
    "\n",
    "first_globe += second_globe \n",
    "print(\"Length after in-place addition:\", len(first_globe.inspect()))\n",
    "print(\"Check if object returned is the same:\", first_globe is globe_orig)\n",
    "\n",
    "print(\"\\nWe expect this to fail:\")\n",
    "first_globe += 1"
   ]
  },
  {
   "cell_type": "markdown",
   "metadata": {},
   "source": [
    "## Comments to chapter\n",
    "\n",
    "A final note in this chapter is that if a forward method only deals with righthand operands of the same type, then there is **no need to implement a reverse method.**\n",
    "\n",
    "This chapter is slightly inconsistent. In the chapter summary, Ramalho writes:\n",
    "\n",
    "> Mixing operand types means we need to detect when we get an operand we can't handle. In this chapter, we did this in two ways: in the duck typing way, we just went ahead and tried the operation, catching a `TypeError` exception if it happened; later, we [...] did it with an explicit `isinstance` test. [...] When we did use `isinstance`, we were careful to avoid testing with a concrete class [...].\n",
    "\n",
    "However, in the `Vector` example above, we explicitly test against a concrete class."
   ]
  }
 ],
 "metadata": {
  "kernelspec": {
   "display_name": "Python 3",
   "language": "python",
   "name": "python3"
  },
  "language_info": {
   "codemirror_mode": {
    "name": "ipython",
    "version": 3
   },
   "file_extension": ".py",
   "mimetype": "text/x-python",
   "name": "python",
   "nbconvert_exporter": "python",
   "pygments_lexer": "ipython3",
   "version": "3.7.5"
  }
 },
 "nbformat": 4,
 "nbformat_minor": 4
}
