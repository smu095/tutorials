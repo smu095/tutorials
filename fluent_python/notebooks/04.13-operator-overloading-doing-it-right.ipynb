{
 "cells": [
  {
   "cell_type": "markdown",
   "metadata": {},
   "source": [
    "# Chapter 13: Operator Overloading: Doing It Right\n",
    "\n",
    "There are different kinds of operators in Python:\n",
    "\n",
    "* `+` and `|` are examples of **infix operators**.\n",
    "\n",
    "* `-` and `~` are examples of **unary operators**.\n",
    "\n",
    "* `()` (function invocation), `.` (attribute access) and `[]` (item access/slicing) are also examples of operators.\n",
    "\n",
    "This chapter deals mainly with infix and unary operators, and will cover:\n",
    "\n",
    "* How Python supports infix operators with operands of different types.\n",
    "\n",
    "* Using duck typing or explicit type checks to deal with operands of various types.\n",
    "\n",
    "* How an infix operator method should signal it cannot handle an operand.\n",
    "\n",
    "* The special behaviour of the rich comparison operators (e.g., `==`, `>`, `<`, `<=`, etc.).\n",
    "\n",
    "* The default handling of augmented assignment operators, like `+=`, and how to overload them."
   ]
  },
  {
   "cell_type": "markdown",
   "metadata": {},
   "source": [
    "## Operator Overloading 101\n",
    "\n",
    "TODO."
   ]
  },
  {
   "cell_type": "code",
   "execution_count": null,
   "metadata": {},
   "outputs": [],
   "source": []
  }
 ],
 "metadata": {
  "kernelspec": {
   "display_name": "Python 3",
   "language": "python",
   "name": "python3"
  },
  "language_info": {
   "codemirror_mode": {
    "name": "ipython",
    "version": 3
   },
   "file_extension": ".py",
   "mimetype": "text/x-python",
   "name": "python",
   "nbconvert_exporter": "python",
   "pygments_lexer": "ipython3",
   "version": "3.7.5"
  }
 },
 "nbformat": 4,
 "nbformat_minor": 4
}
