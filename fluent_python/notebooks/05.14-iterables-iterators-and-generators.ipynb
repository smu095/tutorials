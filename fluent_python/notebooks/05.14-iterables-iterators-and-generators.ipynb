{
 "cells": [
  {
   "cell_type": "markdown",
   "metadata": {},
   "source": [
    "# Chapter 14: Iterables, Iterators, and Generators\n",
    "\n",
    "This chapter is about the [Iterator pattern](https://en.wikipedia.org/wiki/Iterator_pattern), which among other things lets us *lazily* fetch items one at a time when scanning datasets that don't fit in memory. The Iterator pattern is built into Python.\n",
    "\n",
    "The `yield` keyword, introduces in Python 2.2, allows the construction of generators, which work as iterators.\n",
    "\n",
    "> Every generator is an iterator: generators fully implement the iterator interface. But an iterator [...] retrieves items from a collection, while a generator can produce items \"out of thin air\". [...] be aware that the Python community treats *iterator* and *generator* as synonyms most of the time.\n",
    "\n",
    "Every collection in Python is *iterable*, and iterators are used internally to support:\n",
    "\n",
    "* `for` loops\n",
    "* Collection types construction and extension\n",
    "* Looping over text files line by line\n",
    "* List, dict and set comprehensions\n",
    "* Tuple unpacking\n",
    "* Unpacking actual parameters with `*` in function calls\n",
    "\n",
    "This chapter covers the following topics:\n",
    "\n",
    "* How the `iter(...)` built-in function works\n",
    "* How to implement the Iterator pattern\n",
    "* How a generator function works in detail\n",
    "* How the Iterator pattern can be replaced by a generator function or expression\n",
    "* General purpose generator functions from the standard library\n",
    "* Using the new `yield` statement to combine generators\n",
    "* A case study: using generator functions in a database conversion utility designed to work with large datasets\n",
    "* Why generators and coroutines look alike but are very different and should not be mixed"
   ]
  },
  {
   "cell_type": "markdown",
   "metadata": {},
   "source": [
    "## Sequence Take #1: A Sequence of Words\n",
    "\n",
    "We will explore iterables by implementing a `Sequence` class."
   ]
  },
  {
   "cell_type": "code",
   "execution_count": 1,
   "metadata": {},
   "outputs": [],
   "source": [
    "# Example 14-1. sentence.py: A Sentence as a sequence of words\n",
    "\n",
    "import re\n",
    "import reprlib\n",
    "\n",
    "RE_WORD = re.compile(\"\\w+\")\n",
    "\n",
    "class Sentence:\n",
    "    \n",
    "    def __init__(self, text):\n",
    "        self.text = text\n",
    "        self.words = RE_WORD.findall(text)\n",
    "        \n",
    "    def __getitem__(self, index):\n",
    "        return self.words[index]\n",
    "    \n",
    "    def __len__(self):\n",
    "        return len(self.words)\n",
    "    \n",
    "    def __repr__(self):\n",
    "        return f\"Sentence({reprlib.repr(self.text)})\"\n"
   ]
  },
  {
   "cell_type": "code",
   "execution_count": 2,
   "metadata": {},
   "outputs": [
    {
     "data": {
      "text/plain": [
       "Sentence(\"'The time ha... Walrus said.\")"
      ]
     },
     "execution_count": 2,
     "metadata": {},
     "output_type": "execute_result"
    }
   ],
   "source": [
    "s = Sentence(\"'The time has come,' the Walrus said.\")\n",
    "s"
   ]
  },
  {
   "cell_type": "code",
   "execution_count": 3,
   "metadata": {},
   "outputs": [
    {
     "name": "stdout",
     "output_type": "stream",
     "text": [
      "The\n",
      "time\n",
      "has\n",
      "come\n",
      "the\n",
      "Walrus\n",
      "said\n"
     ]
    }
   ],
   "source": [
    "for word in s:\n",
    "    print(word)"
   ]
  },
  {
   "cell_type": "markdown",
   "metadata": {},
   "source": [
    "### Why Sequences Are Iterable: The `iter` Function\n",
    "\n",
    "Whenever the interpreter needs to iterate over an object `x`, it automatically calls `iter(x)`. The `iter` built-in function:\n",
    "\n",
    "1. Checks if the object implements `__iter__`, and calls that to obtain iterator.\n",
    "2. If `__iter__` is not found, but `__getitem__` is implemented, Python creates an iterator that attempts to fetch items in order (starting from index 0).\n",
    "3. If that fails, Python raises `TypeError`.\n",
    "\n",
    "This is why any Python sequence is iterable; they all implement `__getitem__`.\n",
    "\n",
    "> As of Python 3.4, the most accurate way of checking whether an object is iterable is to call `iter(x)` and handle a `TypeError` exception if it fails."
   ]
  },
  {
   "cell_type": "markdown",
   "metadata": {},
   "source": [
    "## Iterables Versus Iterators\n",
    "\n",
    "It's important to be clear about the relationship between iterables and iterators: **Python obtains iterators from iterables.**\n",
    "\n",
    "Here are the definitions:\n",
    "\n",
    ">*__iterable__*<br>\n",
    "Any object from which the `iter` built-in function can obtain an iterator. Objects implementing an `__iter__` method returning an *iterator*  are iterable. Sequences are always iterable; as are objects implementing a `__getitem__` method that takes 0-based indexes.\n",
    ">\n",
    ">*__iterator__*<br>\n",
    "Any object that implements the `__next__` no-argument method that returns the next item in a series or raises `StopIteration` when there are no more items. Python iterators also implement the `__iter__` method so they are *iterable* as well.\n",
    "\n",
    "The standard interface for an iterator has two methods:\n",
    "\n",
    "`__next__`: Returns the next available item, raising `StopIteration` when exhausted.\n",
    "\n",
    "`__iter__`: Returns `self`; this allows iterators to be used where an iterable is expected, for example, in a `for` loop.\n",
    "\n",
    "Because the only methods required of an iterator are `__next__` and `__iter__`, there is no way to check whether there are remaining items, other than to call `next()` and catch `StopIteration`.\n",
    "\n",
    "It is not possible to \"restart\" an iterator. To start over, call `iter(...)` on the iterable that built the iterator."
   ]
  },
  {
   "cell_type": "markdown",
   "metadata": {},
   "source": [
    "## Sentence Take #2: A Classic Iterator\n",
    "\n",
    "The next `Sentence` class is built according to the classic Iterator pattern. \n",
    "\n",
    "Note that this is **not idiomatic Python**, which the next refactoring will make clear. The example serves to make explicit the relationship between the iterable collection and the iterator object."
   ]
  },
  {
   "cell_type": "code",
   "execution_count": 6,
   "metadata": {},
   "outputs": [],
   "source": [
    "# Example 14-4. sentence_iter.py: Sentence implemented using the Iterator pattern\n",
    "\n",
    "import re\n",
    "import reprlib\n",
    "\n",
    "RE_WORDS = re.compile(\"\\w+\")\n",
    "\n",
    "class Sentence:\n",
    "    \"\"\"Iterables must implement __iter__\"\"\"\n",
    "    def __init__(self, text):\n",
    "        self.text = text\n",
    "        self.words = RE_WORDS.findall(text)\n",
    "        \n",
    "    def __repr__(self):\n",
    "        return f\"Sentence({reprlib.repr(self.text)})\"\n",
    "    \n",
    "    def __iter__(self):\n",
    "        return SentenceIterator(self.words)\n",
    "    \n",
    "\n",
    "class SentenceIterator:\n",
    "    \"\"\"Iterators are supposed to implement both __next__ AND __iter__\"\"\"\n",
    "    def __init__(self, words):\n",
    "        self.words = words\n",
    "        self.index = 0\n",
    "        \n",
    "    def __next__(self):\n",
    "        try:\n",
    "            word = self.words[index]\n",
    "        except IndexError:\n",
    "            raise StopIteration()\n",
    "        self.index += 1\n",
    "        return word\n",
    "    \n",
    "    def __iter__(self):\n",
    "        return self\n",
    "        "
   ]
  },
  {
   "cell_type": "markdown",
   "metadata": {},
   "source": [
    "### Making Sentence an Iterator: Bad Idea\n",
    "\n",
    "A common cause of errors in building iterables and iterators is to confuse the two. To be clear: \n",
    "\n",
    "* **iterables have an `__iter__` method that instantiates a new iterator every time.**\n",
    "* **iterators implement a `__next__` method that returns individual items, and an `__iter__` method that returns `self`.**\n",
    "\n",
    "Therefore, iterators are also iterable, but iterables are not iterators.\n",
    "\n",
    "An iterable should never act as an iterator over itself. In other words, iterables must implement `__iter__`, but not `__next__`.\n",
    "\n",
    "On the other hand, iterators should always be iterable. An iterator's `__iter__` should just return `self`."
   ]
  },
  {
   "cell_type": "markdown",
   "metadata": {},
   "source": [
    "## Sentence Take #3: A Generator Function\n",
    "\n",
    "A Pythonic implementation of the classic  Iterator pattern uses a generator function to replace the `SentenceIterator` class."
   ]
  },
  {
   "cell_type": "code",
   "execution_count": 7,
   "metadata": {},
   "outputs": [],
   "source": [
    "# Example 14-5. sentence_gen.py: Sentence implemented using a generator function.\n",
    "\n",
    "import re\n",
    "import reprlib\n",
    "\n",
    "RE_WORD = re.compile(\"\\w+\")\n",
    "\n",
    "class Sentence:\n",
    "    \n",
    "    def __init__(self, text):\n",
    "        self.text = text\n",
    "        self.words = RE_WORDS.findall(text)\n",
    "        \n",
    "    def __repr__(self):\n",
    "        return f\"Sentence({reprlib.repr(self.text)})\"\n",
    "    \n",
    "    def __iter__(self):\n",
    "        \"\"\"__iter__ here is a generator function\"\"\"\n",
    "        for word in self.words:\n",
    "            yield word\n",
    "        "
   ]
  },
  {
   "cell_type": "markdown",
   "metadata": {},
   "source": [
    "### How a Generator Function Works\n",
    "\n",
    "Any Python function that has the `yield` keyword in its body is a **generator function**: a function which, when called, returns a generator object.\n",
    "\n",
    "In other words, a generator function is a generator factory. \n",
    "\n",
    "A generator function builds a generator object that wraps the body of the function. \n",
    "\n",
    "When `next(...)` is invoked on the generator object, execution advances to the next `yield` in the function body, and `next(...)` evaluates to the value yielded when the function body is suspended.\n",
    "\n",
    "Finally, when the function body returns, the enclosing generaotr object raises `StopIteration`, in accordance with the Iterator protocol."
   ]
  },
  {
   "cell_type": "code",
   "execution_count": 8,
   "metadata": {},
   "outputs": [
    {
     "name": "stdout",
     "output_type": "stream",
     "text": [
      "start\n",
      "--> A\n",
      "continue\n",
      "--> B\n",
      "end\n"
     ]
    }
   ],
   "source": [
    "def gen_AB():\n",
    "    print(\"start\")\n",
    "    yield \"A\"\n",
    "    print(\"continue\")\n",
    "    yield \"B\"\n",
    "    print(\"end\")\n",
    "    \n",
    "for c in gen_AB():\n",
    "    print(\"-->\", c)"
   ]
  },
  {
   "cell_type": "markdown",
   "metadata": {},
   "source": [
    "## Sentence Take #4: A Lazy Implementation\n",
    "\n",
    "A lazy implementation postpones producing values to the last possible moment. This saves memory and may avoid useless processing as well.\n",
    "\n",
    "Previously, `__init__` eagerly builds a list of all the words in `text`, which means processing the entire text itself.\n",
    "\n",
    "In the following implementation we use `re.finditer()` which builds an iterator over matches of `RE_WORD` on `self.text`, yielding `MatchObject` instances. Calling `.group()` returns the actual matched text."
   ]
  },
  {
   "cell_type": "code",
   "execution_count": 10,
   "metadata": {},
   "outputs": [],
   "source": [
    "# Example 14-7. sentence_gen2.py: Sentence implemented using generator function calling re.finditer\n",
    "\n",
    "import re\n",
    "import reprlib\n",
    "\n",
    "RE_WORD = re.compile(\"\\w+\")\n",
    "\n",
    "class Sentence:\n",
    "    \n",
    "    def __init__(self, text):\n",
    "        self.text = text\n",
    "    \n",
    "    def __repr__(self):\n",
    "        return f\"Sentence({reprlib.repr(self.text)})\"\n",
    "    \n",
    "    def __iter__(self):\n",
    "        for match in RE_WORD.finditer(self.text):\n",
    "            yield match.group()"
   ]
  },
  {
   "cell_type": "markdown",
   "metadata": {},
   "source": [
    "## Sentence Take #5: A Generator Expression\n",
    "\n",
    "A generator expression (genexp) can be understood as a lazy version of a list comprehension: it does not eagerly build a list, but returns a generator that will lazily produce the items on demand.\n",
    "\n",
    "Genexps are syntactic sugar: they can always be replaced by generator functions, but are sometimes more convenient.\n",
    "\n",
    "Ramalho's rule of thumb: **if the generator expression spans more than a couple of lines, use a generator function for readability**."
   ]
  },
  {
   "cell_type": "code",
   "execution_count": null,
   "metadata": {},
   "outputs": [],
   "source": [
    "# Example 14-9. sentence_genexp.py: Sentence implemented using generator expression\n",
    "\n",
    "import re\n",
    "import reprlib\n",
    "\n",
    "RE_WORD = re.compile(\"\\w+\")\n",
    "\n",
    "class Sentence:\n",
    "    \n",
    "    def __init__(self, text):\n",
    "        self.text = text\n",
    "    \n",
    "    def __repr__(self):\n",
    "        return f\"Sentence({reprlib.repr(self.text)})\"\n",
    "    \n",
    "    def __iter__(self):\n",
    "        return (match.group() for match in RE_WORD.finditer(self.text))"
   ]
  },
  {
   "cell_type": "markdown",
   "metadata": {},
   "source": [
    "## Another Example: Arithmetic Progression Generator\n",
    "\n",
    "TODO."
   ]
  },
  {
   "cell_type": "code",
   "execution_count": 1,
   "metadata": {},
   "outputs": [],
   "source": [
    "# Example 14-11. The ArithmeticProgression class\n",
    "\n",
    "class ArithmeticProgression:\n",
    "    \n",
    "    def __init__(self, begin, step, end=None):\n",
    "        self.begin = begin\n",
    "        self.step = step\n",
    "        self.end = end # None -> \"infinite\" series\n",
    "        \n",
    "    def __iter__(self):\n",
    "        result = type(self.begin + self.step)(self.begin)\n",
    "        forever = self.end is None\n",
    "        index = 0\n",
    "        while forever or result < self.end:\n",
    "            yield result\n",
    "            index += 1\n",
    "            result = self.begin + self.step * index\n",
    "            "
   ]
  },
  {
   "cell_type": "markdown",
   "metadata": {},
   "source": [
    "**Things to note about the above implementation:**\n",
    "\n",
    "* The first line of `__iter__` coerces the type of `self.begin` to the type of the subsequent additions (in `while` loop).\n",
    "* The `index` variable is used to calculate each `result` to reduce cumulative error when working with floats.\n",
    "\n",
    "If the point of a class is to build a generator by implementing `__iter__`, the class can be reduced to a generator function:"
   ]
  },
  {
   "cell_type": "code",
   "execution_count": 3,
   "metadata": {},
   "outputs": [],
   "source": [
    "# Example 14-12. The aritprog_gen generator function\n",
    "\n",
    "def aritprog_gen(begin, step, end=None):\n",
    "    result = type(begin + step)(begin)\n",
    "    forever = end is None\n",
    "    index = 0\n",
    "    while forever or result < end:\n",
    "        yield result\n",
    "        index += 1\n",
    "        result = begin + step * index\n",
    "        "
   ]
  },
  {
   "cell_type": "markdown",
   "metadata": {},
   "source": [
    "### Arithmetic Progression with `itertools`\n",
    "\n",
    "`itertools` has, at time of publication, 19 generator functions that can be combined in different ways. We can rewrite `aritprog_gen` using `itertools.count` and `itertools.takewhile`:"
   ]
  },
  {
   "cell_type": "markdown",
   "metadata": {},
   "source": [
    "```\n",
    "class count(builtins.object)\n",
    " |  count(start=0, step=1) --> count object\n",
    " |  \n",
    " |  Return a count object whose .__next__() method returns consecutive values.\n",
    " |  Equivalent to:\n",
    " |  \n",
    " |      def count(firstval=0, step=1):\n",
    " |          x = firstval\n",
    " |          while 1:\n",
    " |              yield x\n",
    " |              x += step\n",
    "```"
   ]
  },
  {
   "cell_type": "markdown",
   "metadata": {},
   "source": [
    "```\n",
    "class takewhile(builtins.object)\n",
    " |  takewhile(predicate, iterable) --> takewhile object\n",
    " |  \n",
    " |  Return successive entries from an iterable as long as the \n",
    " |  predicate evaluates to true for each entry.)\n",
    " ```"
   ]
  },
  {
   "cell_type": "code",
   "execution_count": 6,
   "metadata": {},
   "outputs": [],
   "source": [
    "# Example 14-13. aritprog_gen leveraging itertools\n",
    "\n",
    "def aritprog_gen(begin, step, end=None):\n",
    "    first = type(begin + step)(begin)\n",
    "    ap_gen = itertools.count(first, step)\n",
    "    if end is not None:\n",
    "        ap_gen = itertools.takewhile(lambda n: n < end, ap_gen)\n",
    "    return ap_gen\n"
   ]
  },
  {
   "cell_type": "markdown",
   "metadata": {},
   "source": [
    "Note the example 14-13 is not a generator function. It returns a generator, so it operates as a generator factory."
   ]
  },
  {
   "cell_type": "markdown",
   "metadata": {},
   "source": [
    "## Generator Functions in the Standard Library\n",
    "\n",
    "### *Table 14-1. Filtering generator functions*\n",
    "\n",
    "| Module      | Function                                                | Description                                                  |\n",
    "| ----------- | ------------------------------------------------------- | ------------------------------------------------------------ |\n",
    "| `itertools` | `compress(it, selector_it)`                             | Consumes two iterables in parallell; yields items from `it` whenever the corresponding item in `selector_it` is truthy. |\n",
    "| `itertools` | `dropwhile(predicate, it)`                              | Consumes `it` skipping items while `predicate` computes truthy, then yields every remaining item (no further checks are made). |\n",
    "| (built-in)  | `filter(predicate, it)`                                 | Applies `predicate` to each item of `iterable`, yielding the item if `predicate(item)` is truthy; if `predicate` is `None`, only truthy items are yielded. |\n",
    "| `itertools` | `filterfalse(predicate, it)`                            | Same as `filter`, with the `predicate` logic negated: yields items whenever `predicate` computes falsy. |\n",
    "| `itertools` | `islice(it, stop)` or `islice(it, start, stop, step=1)` | Yields items from a slice of `it`, similar to `s[:stop]` or `s[start:stop:step]` except it can be any iterable, and the operation is lazy. |\n",
    "| `itertools` | `takewhile(predicate, it)`                              | Yields items while `predicate` computes truthy, then stops and no further checks are made. |\n"
   ]
  },
  {
   "cell_type": "markdown",
   "metadata": {},
   "source": [
    "#### Examples"
   ]
  },
  {
   "cell_type": "code",
   "execution_count": 7,
   "metadata": {},
   "outputs": [
    {
     "data": {
      "text/plain": [
       "['A', 'r', 'd', 'a']"
      ]
     },
     "execution_count": 7,
     "metadata": {},
     "output_type": "execute_result"
    }
   ],
   "source": [
    "import itertools\n",
    "\n",
    "def vowel(c):\n",
    "    return c.lower() in \"aeiou\"\n",
    "\n",
    "list(itertools.compress(\"Aardvark\", (1, 0, 1, 1, 0 ,1)))"
   ]
  },
  {
   "cell_type": "code",
   "execution_count": 8,
   "metadata": {},
   "outputs": [
    {
     "data": {
      "text/plain": [
       "['r', 'd', 'v', 'a', 'r', 'k']"
      ]
     },
     "execution_count": 8,
     "metadata": {},
     "output_type": "execute_result"
    }
   ],
   "source": [
    "list(itertools.dropwhile(vowel, \"Aardvark\"))"
   ]
  },
  {
   "cell_type": "code",
   "execution_count": 9,
   "metadata": {},
   "outputs": [
    {
     "data": {
      "text/plain": [
       "['A', 'a', 'a']"
      ]
     },
     "execution_count": 9,
     "metadata": {},
     "output_type": "execute_result"
    }
   ],
   "source": [
    "list(filter(vowel, \"Aardvark\"))"
   ]
  },
  {
   "cell_type": "code",
   "execution_count": 10,
   "metadata": {},
   "outputs": [
    {
     "data": {
      "text/plain": [
       "['r', 'd', 'v', 'r', 'k']"
      ]
     },
     "execution_count": 10,
     "metadata": {},
     "output_type": "execute_result"
    }
   ],
   "source": [
    "list(itertools.filterfalse(vowel, \"Aardvark\"))"
   ]
  },
  {
   "cell_type": "code",
   "execution_count": 11,
   "metadata": {},
   "outputs": [
    {
     "data": {
      "text/plain": [
       "['A', 'a', 'r', 'd']"
      ]
     },
     "execution_count": 11,
     "metadata": {},
     "output_type": "execute_result"
    }
   ],
   "source": [
    "list(itertools.islice(\"Aardvark\", 4))"
   ]
  },
  {
   "cell_type": "code",
   "execution_count": 12,
   "metadata": {},
   "outputs": [
    {
     "data": {
      "text/plain": [
       "['v', 'a', 'r']"
      ]
     },
     "execution_count": 12,
     "metadata": {},
     "output_type": "execute_result"
    }
   ],
   "source": [
    "list(itertools.islice(\"Aardvark\", 4, 7))"
   ]
  },
  {
   "cell_type": "code",
   "execution_count": 13,
   "metadata": {},
   "outputs": [
    {
     "data": {
      "text/plain": [
       "['a', 'd', 'a']"
      ]
     },
     "execution_count": 13,
     "metadata": {},
     "output_type": "execute_result"
    }
   ],
   "source": [
    "list(itertools.islice(\"Aardvark\", 1, 7, 2))"
   ]
  },
  {
   "cell_type": "code",
   "execution_count": 14,
   "metadata": {},
   "outputs": [
    {
     "data": {
      "text/plain": [
       "['A', 'a']"
      ]
     },
     "execution_count": 14,
     "metadata": {},
     "output_type": "execute_result"
    }
   ],
   "source": [
    "list(itertools.takewhile(vowel, \"Aardvark\"))"
   ]
  },
  {
   "cell_type": "markdown",
   "metadata": {},
   "source": [
    "### *Table 14-2. Mapping generator functions*\n",
    "\n",
    "| Module      | Function                          | Description                                                  |\n",
    "| ----------- | --------------------------------- | ------------------------------------------------------------ |\n",
    "| `itertools` | `accumulate(it, [func])`          | Yields accumulated sums; if `func` is provided, yields the result of applying it to the first pair of items, then to the first result and next item, etc. |\n",
    "| (built-in)  | `enumerate(iterable, start=0)`    | Yields 2-tuples of the form `(index, item)`, where `index` is counted from `start` and `items` is taken from the `iterable`. |\n",
    "| (built-in)  | `map(func, it1, [it2, ..., itN])` | Applies `func` to each item of `it`, yielding the result; if N iterables are given, `func` must take N arguments and the iterables will be consumed in parallel. |\n",
    "| `itertools` | `starmap(func, it)`               | Applies `func` to each item of `it`, yielding the result; the input iterable should yield iterable items `iit`, and `func` is applied as `func(*iit)`. |"
   ]
  },
  {
   "cell_type": "markdown",
   "metadata": {},
   "source": [
    "#### Examples\n",
    "\n"
   ]
  },
  {
   "cell_type": "code",
   "execution_count": 22,
   "metadata": {},
   "outputs": [
    {
     "data": {
      "text/plain": [
       "[5, 9, 11, 19, 26, 32, 35, 35, 44, 45]"
      ]
     },
     "execution_count": 22,
     "metadata": {},
     "output_type": "execute_result"
    }
   ],
   "source": [
    "import itertools\n",
    "import operator\n",
    "sample = [5, 4, 2, 8, 7, 6, 3, 0, 9, 1]\n",
    "\n",
    "list(itertools.accumulate(sample))"
   ]
  },
  {
   "cell_type": "code",
   "execution_count": 23,
   "metadata": {},
   "outputs": [
    {
     "data": {
      "text/plain": [
       "[5, 4, 2, 2, 2, 2, 2, 0, 0, 0]"
      ]
     },
     "execution_count": 23,
     "metadata": {},
     "output_type": "execute_result"
    }
   ],
   "source": [
    "list(itertools.accumulate(sample, min))"
   ]
  },
  {
   "cell_type": "code",
   "execution_count": 24,
   "metadata": {},
   "outputs": [
    {
     "data": {
      "text/plain": [
       "[5, 5, 5, 8, 8, 8, 8, 8, 9, 9]"
      ]
     },
     "execution_count": 24,
     "metadata": {},
     "output_type": "execute_result"
    }
   ],
   "source": [
    "list(itertools.accumulate(sample, max))"
   ]
  },
  {
   "cell_type": "code",
   "execution_count": 25,
   "metadata": {},
   "outputs": [
    {
     "data": {
      "text/plain": [
       "[5, 20, 40, 320, 2240, 13440, 40320, 0, 0, 0]"
      ]
     },
     "execution_count": 25,
     "metadata": {},
     "output_type": "execute_result"
    }
   ],
   "source": [
    "list(itertools.accumulate(sample, operator.mul))"
   ]
  },
  {
   "cell_type": "code",
   "execution_count": 26,
   "metadata": {},
   "outputs": [
    {
     "data": {
      "text/plain": [
       "[1, 2, 6, 24, 120, 720, 5040, 40320, 362880, 3628800]"
      ]
     },
     "execution_count": 26,
     "metadata": {},
     "output_type": "execute_result"
    }
   ],
   "source": [
    "# Factorials from 1! to 10!\n",
    "list(itertools.accumulate(range(1, 11), operator.mul))"
   ]
  },
  {
   "cell_type": "code",
   "execution_count": 27,
   "metadata": {},
   "outputs": [
    {
     "data": {
      "text/plain": [
       "[(1, 'a'),\n",
       " (2, 'l'),\n",
       " (3, 'b'),\n",
       " (4, 'a'),\n",
       " (5, 't'),\n",
       " (6, 'r'),\n",
       " (7, 'o'),\n",
       " (8, 'z')]"
      ]
     },
     "execution_count": 27,
     "metadata": {},
     "output_type": "execute_result"
    }
   ],
   "source": [
    "list(enumerate(\"albatroz\", 1))"
   ]
  },
  {
   "cell_type": "code",
   "execution_count": 28,
   "metadata": {},
   "outputs": [
    {
     "data": {
      "text/plain": [
       "[0, 1, 4, 9, 16, 25, 36, 49, 64, 81, 100]"
      ]
     },
     "execution_count": 28,
     "metadata": {},
     "output_type": "execute_result"
    }
   ],
   "source": [
    "list(map(operator.mul, range(11), range(11)))"
   ]
  },
  {
   "cell_type": "code",
   "execution_count": 29,
   "metadata": {},
   "outputs": [
    {
     "data": {
      "text/plain": [
       "[0, 4, 16]"
      ]
     },
     "execution_count": 29,
     "metadata": {},
     "output_type": "execute_result"
    }
   ],
   "source": [
    "list(map(operator.mul, range(11), [2, 4, 8]))"
   ]
  },
  {
   "cell_type": "code",
   "execution_count": 30,
   "metadata": {},
   "outputs": [
    {
     "data": {
      "text/plain": [
       "[(0, 2), (1, 4), (2, 8)]"
      ]
     },
     "execution_count": 30,
     "metadata": {},
     "output_type": "execute_result"
    }
   ],
   "source": [
    "list(map(lambda a, b: (a, b), range(11), [2, 4, 8]))"
   ]
  },
  {
   "cell_type": "code",
   "execution_count": 33,
   "metadata": {},
   "outputs": [
    {
     "data": {
      "text/plain": [
       "[5.0,\n",
       " 4.5,\n",
       " 3.6666666666666665,\n",
       " 4.75,\n",
       " 5.2,\n",
       " 5.333333333333333,\n",
       " 5.0,\n",
       " 4.375,\n",
       " 4.888888888888889,\n",
       " 4.5]"
      ]
     },
     "execution_count": 33,
     "metadata": {},
     "output_type": "execute_result"
    }
   ],
   "source": [
    "# Running average\n",
    "list(itertools.starmap(lambda a, b: b/a, enumerate(itertools.accumulate(sample), 1)))"
   ]
  }
 ],
 "metadata": {
  "kernelspec": {
   "display_name": "Python 3",
   "language": "python",
   "name": "python3"
  },
  "language_info": {
   "codemirror_mode": {
    "name": "ipython",
    "version": 3
   },
   "file_extension": ".py",
   "mimetype": "text/x-python",
   "name": "python",
   "nbconvert_exporter": "python",
   "pygments_lexer": "ipython3",
   "version": "3.7.5"
  }
 },
 "nbformat": 4,
 "nbformat_minor": 4
}
