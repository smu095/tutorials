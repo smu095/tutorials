{
 "cells": [
  {
   "cell_type": "markdown",
   "metadata": {},
   "source": [
    "# Chapter 15: Context Managers and `else` Blocks"
   ]
  },
  {
   "cell_type": "markdown",
   "metadata": {},
   "source": [
    "This chapter explores control flow features which are not so common in other languages, namely\n",
    "\n",
    "* The `with` statement and context managers\n",
    "* The `else` clause in `for`, `while`, and `try` statements"
   ]
  },
  {
   "cell_type": "markdown",
   "metadata": {},
   "source": [
    "## Do This, Then That: `else` Blocks Beyond `if`\n",
    "\n",
    "Here are the rules\n",
    "\n",
    "**`for/else`:**<br>\n",
    "The `else` block will run only if and when the `for` loop runs to completion (i.e. **not** if the `for` is aborted with a `break`).\n",
    "\n",
    "**`while/else`:**<br>\n",
    "The `else` block will run only if and when the `while` loop exits because the condition became *falsy* (i.e. not when the `while` is aborted with a `break`).\n",
    "\n",
    "**`try/else`:**<br>\n",
    "The `else` block will only run if no exception is raised in the `try` block.\n",
    "\n",
    "**Note:** In all cases, the `else` clause is skipped if an exception or a `return`, `break`, or `continue` statement causes control to jump out of the main block of the compound statement.\n",
    "\n",
    "### Examples\n",
    "\n",
    "The use of `else` blocks in `for` loops generally follows this pattern:\n",
    "\n",
    "```python\n",
    "for item in my_list:\n",
    "    if item.flavour == \"banana\":\n",
    "        break\n",
    "else:\n",
    "    raise ValueError(\"No banana flavour found\")\n",
    "```\n",
    "\n",
    "In `try/except` blocks, the `try` block should only have statements that may generate the expected exceptions. Instead of\n",
    "\n",
    "```python\n",
    "try:\n",
    "    dangerous_call()\n",
    "    after_call()\n",
    "except OSError:\n",
    "    log(\"OSError...\" )\n",
    "```\n",
    "\n",
    "use the `else` block for clarity and correctness:\n",
    "\n",
    "```python\n",
    "try:\n",
    "    dangerous_call()\n",
    "except OSError:\n",
    "    log(\"OSError...\" )\n",
    "else:\n",
    "    after_call()\n",
    "```\n",
    "\n",
    "In Python, `try/except` is commonly used for control flow, and not just for error handling. See e.g. the [offical Python glossary](https://docs.python.org/3/glossary.html#term-eafp):\n",
    "\n",
    "> **EAFP:**<br>Easier to ask for forgiveness than permission. This common Python coding style assumes the existence of valid keys or attributes and catches exceptions if the assumption proves false. This clean and fast style is characterized by the presence of many `try` and `except` statements. The technique contrasts with the [LBYL](https://docs.python.org/3/glossary.html#term-lbyl) style common to many other languages such as C."
   ]
  },
  {
   "cell_type": "markdown",
   "metadata": {},
   "source": [
    "## Context Managers and `with` Blocks\n",
    "\n",
    "The `with` statement sets up a temporary context and reliably tears it down, preventing errors and reducing boilerplate code.\n",
    "\n",
    "The **context manager protocol** exists to control a `with` statement, just like the iterator protocol exists to control a `for` statement.\n",
    "\n",
    "The `with` statement was designed to simplify the `try/finally` pattern, which guarantees that some operation, usually releasing resources or restoring some changed state, is **always** performed after a block of code.\n",
    "\n",
    "The context manager protocol consists of the `__enter__` and `__exit__` methods.\n",
    "\n",
    "At the start of the `with`, `__enter__` is invoked on the context manager object.\n",
    "\n",
    "The role of the `finally` clause is played by a call to `__exit__` on the context manager object at the end of the `with` block."
   ]
  },
  {
   "cell_type": "code",
   "execution_count": 1,
   "metadata": {},
   "outputs": [],
   "source": [
    "# Example 15-1. Demonstration of a file object as a context manager\n",
    "with open(\"../examples/mirror.py\") as fp:\n",
    "    src = fp.read(60)"
   ]
  },
  {
   "cell_type": "markdown",
   "metadata": {},
   "source": [
    "The **context manager object** is the result of evaluating the expression after `with`:"
   ]
  },
  {
   "cell_type": "code",
   "execution_count": 2,
   "metadata": {},
   "outputs": [
    {
     "data": {
      "text/plain": [
       "60"
      ]
     },
     "execution_count": 2,
     "metadata": {},
     "output_type": "execute_result"
    }
   ],
   "source": [
    "len(src)"
   ]
  },
  {
   "cell_type": "markdown",
   "metadata": {},
   "source": [
    "The value bound to the target variable in the `as` clause is the result of calling `__enter__` on the context manager object.\n",
    "\n",
    "In the above example, `open()` returns an instance of `TextIOWrapper`, and its `__enter__` method returns `self`. But the `__enter__` method may return some other object instead of the context manager."
   ]
  },
  {
   "cell_type": "code",
   "execution_count": 3,
   "metadata": {},
   "outputs": [
    {
     "data": {
      "text/plain": [
       "<_io.TextIOWrapper name='../examples/mirror.py' mode='r' encoding='UTF-8'>"
      ]
     },
     "execution_count": 3,
     "metadata": {},
     "output_type": "execute_result"
    }
   ],
   "source": [
    "fp"
   ]
  },
  {
   "cell_type": "markdown",
   "metadata": {},
   "source": [
    "The target variable `fp` is still available, and its attributes can be read. We can, however, **not** perform I/O with `fp`, because `TextWrapperIO.__exit__` has been called at the end of the `with` block, closing the file: "
   ]
  },
  {
   "cell_type": "code",
   "execution_count": 4,
   "metadata": {},
   "outputs": [
    {
     "ename": "ValueError",
     "evalue": "I/O operation on closed file.",
     "output_type": "error",
     "traceback": [
      "\u001b[0;31m----------------------------------------\u001b[0m",
      "\u001b[0;31mValueError\u001b[0mTraceback (most recent call last)",
      "\u001b[0;32m<ipython-input-4-132011e948ad>\u001b[0m in \u001b[0;36m<module>\u001b[0;34m\u001b[0m\n\u001b[0;32m----> 1\u001b[0;31m \u001b[0mfp\u001b[0m\u001b[0;34m.\u001b[0m\u001b[0mread\u001b[0m\u001b[0;34m(\u001b[0m\u001b[0;36m60\u001b[0m\u001b[0;34m)\u001b[0m\u001b[0;34m\u001b[0m\u001b[0;34m\u001b[0m\u001b[0m\n\u001b[0m",
      "\u001b[0;31mValueError\u001b[0m: I/O operation on closed file."
     ]
    }
   ],
   "source": [
    "fp.read(60)"
   ]
  },
  {
   "cell_type": "markdown",
   "metadata": {},
   "source": [
    "When the control flow exits the `with` block in any way, the **`__exit__` method is invoked on the context manager object, not on whatever is returned by `__enter__`**.\n",
    "\n",
    "The `as` clause is optional, except in the case of `open` which needs a reference to the file. Some context managers return `None` because they have no useful object to return to the user.\n",
    "\n",
    "**The following example is meant to show the distinction between the context manager and the object returned by its `__enter__` method:**"
   ]
  },
  {
   "cell_type": "code",
   "execution_count": 5,
   "metadata": {},
   "outputs": [
    {
     "name": "stdout",
     "output_type": "stream",
     "text": [
      "class LookingGlass:\n",
      "    def __enter__(self):\n",
      "        import sys\n",
      "\n",
      "        self.original_write = sys.stdout.write\n",
      "        sys.stdout.write = self.reverse_write\n",
      "        return \"JABBERWOCKY\"\n",
      "\n",
      "    def reverse_write(self, text):\n",
      "        self.original_write(text[::-1])\n",
      "\n",
      "    def __exit__(self, exc_type, exc_value, traceback):\n",
      "        import sys\n",
      "\n",
      "        sys.stdout.write = self.original_write\n",
      "        if exc_type is ZeroDivisionError:\n",
      "            print(\"Please DO NOT divide by zero!\")\n",
      "            return True\n",
      "\n",
      "pordwonS dna yttiK ,ecilA\n",
      "YKCOWREBBAJ\n",
      "JABBERWOCKY\n",
      "Back to normal.\n"
     ]
    }
   ],
   "source": [
    "# Example 15-2: Test driving the LookingGlass context manager class\n",
    "\n",
    "from examples.mirror import LookingGlass\n",
    "import inspect\n",
    "\n",
    "SRC = inspect.getsource(LookingGlass)\n",
    "print(SRC)\n",
    "\n",
    "with LookingGlass() as what:\n",
    "    print(\"Alice, Kitty and Snowdrop\")\n",
    "    print(what)\n",
    "    \n",
    "print(what)\n",
    "print(\"Back to normal.\")"
   ]
  },
  {
   "cell_type": "markdown",
   "metadata": {},
   "source": [
    "## The `contextlib` Utilities\n",
    "\n",
    "The [`contextlib`](https://docs.python.org/3/library/contextlib.html) module provides utilities for common tasks involving the `with` statement.\n",
    "\n",
    "**One of the most widely used utilites is the `@contextmanager` decorator.**\n",
    "\n",
    "It reduces the boilerplate of creating context managers. Instead of writing a whole class with `__enter__`/`__exit__` methods, simply write a generator with a single `yield` that should produce whatever you want the `__enter__` method to return."
   ]
  },
  {
   "cell_type": "code",
   "execution_count": 6,
   "metadata": {},
   "outputs": [
    {
     "name": "stdout",
     "output_type": "stream",
     "text": [
      "pordwonS dna yttiK ,ecilA\n",
      "YKCOWREBBAJ\n",
      "JABBERWOCKY\n"
     ]
    }
   ],
   "source": [
    "# Example 15-5. a context manager implemented with a generator\n",
    "\n",
    "from contextlib import contextmanager\n",
    "\n",
    "@contextmanager\n",
    "def looking_glass():\n",
    "    import sys\n",
    "    original_write = sys.stdout.write\n",
    "    \n",
    "    def reverse_write(text):\n",
    "        return original_write(text[::-1])\n",
    "    \n",
    "    sys.stdout.write = reverse_write\n",
    "    msg = \"\"\n",
    "    \n",
    "    try:\n",
    "        yield \"JABBERWOCKY\"\n",
    "    except ZeroDivisionError:\n",
    "        msg = \"Please DO NOT divide by zero!\"\n",
    "    finally:\n",
    "        sys.stdout.write = original_write\n",
    "        if msg:\n",
    "            print(msg)\n",
    "    \n",
    "\n",
    "with looking_glass() as what:\n",
    "    print(\"Alice, Kitty and Snowdrop\")\n",
    "    print(what)\n",
    "\n",
    "print(what)"
   ]
  },
  {
   "cell_type": "markdown",
   "metadata": {},
   "source": [
    "Essentially, everything up to and including the returned value from the `yield` statement is wrapped in and `__enter__` method, and everything after `yield` is wrapped in an `__exit__` method. This is greatly simplified, refer to **pp. 471-474** for details.\n",
    "\n",
    "### Comment on material\n",
    "\n",
    "I find this part of the book a bit hard to grasp, and the overly-engineered examples don't really have a pedagogical function. They are just confusing.\n",
    "\n",
    "Ramalho suggests studying the [following example](https://www.zopatista.com/python/2013/11/26/inplace-file-rewriting/) of a real-life example of `@contextmanager`.\n",
    "\n",
    "Other useful references include Raymond Hettinger's answer to [\"Is it a good practice to use try-except-else in Python?\"](https://stackoverflow.com/questions/16138232/is-it-a-good-practice-to-use-try-except-else-in-python) on Stack Overflow."
   ]
  }
 ],
 "metadata": {
  "kernelspec": {
   "display_name": "Python 3",
   "language": "python",
   "name": "python3"
  },
  "language_info": {
   "codemirror_mode": {
    "name": "ipython",
    "version": 3
   },
   "file_extension": ".py",
   "mimetype": "text/x-python",
   "name": "python",
   "nbconvert_exporter": "python",
   "pygments_lexer": "ipython3",
   "version": "3.8.1"
  }
 },
 "nbformat": 4,
 "nbformat_minor": 4
}
