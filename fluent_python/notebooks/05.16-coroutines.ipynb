{
 "cells": [
  {
   "cell_type": "markdown",
   "metadata": {},
   "source": [
    "# Chapter 16: Coroutines\n",
    "\n",
    "#### Disclaimer\n",
    "\n",
    "This chapter is quite technical, and delves into themes that currently are beyond my understanding of computer science. Consequently, the notes from this chapter will be somewhat superficial.\n",
    "\n",
    "This chapter deals with [coroutines](). A coroutine is syntactically like a generator: just a function with a `yield` keyword in its body.\n",
    "\n",
    "However, in a coroutine, `yield` usually appears on the right side og an expression (e.g. `datum = yield`) , and it may or may not produce a value - if there is no value after the `yield` keyword, the generator yields `None`.\n",
    "\n",
    "The **coroutine may receive data from the sender** using the `.send(datum)` method instead of `next(...)` to feed the coroutine.\n",
    "\n",
    "Usually, the user pushes values to the coroutine.\n",
    "\n",
    "Regardless of the flow of data, `yield` is a control flow device that can be used to implement cooperative multitasking: eache coroutine yields control to a central scheduler so that other coroutines can be activated."
   ]
  },
  {
   "cell_type": "markdown",
   "metadata": {},
   "source": [
    "## Digression: Coroutines explained to a five-year old\n",
    "\n",
    "The [following explanation](https://www.reddit.com/r/learnprogramming/comments/29yzlm/eli5_coroutines/) is from the reddit user [zirak_](https://www.reddit.com/user/zirak_/):\n",
    "\n",
    "(Note: This assumes you are a 5 year old programmer who knows words like \"concurrency\" and \"asynchronous\").\n",
    "\n",
    "It's 13:00 o'clock in the afternoon, and you know what that means...it's time for Ms. Applebee, the most lovable kindergarten teacher in all of the kindergarten, to take us inside and play!\n",
    "\n",
    "Accompanied by cries of joy and glee, you and several dozen other youngsters dashed to the playroom, where most of your toys were: Doll houses, their occupants, cars and pirates, board games and card games and a big ball pit.\n",
    "\n",
    "You approached Ms. Applebee, who always smelled vaguely of peaches, whether you can play with the big Lego bricks. You always liked to build things like houses and evil lairs. \"Why of course, snickerdoodle!\" she replied, using your favourite nickname (a fact you deny to this day), \"I'll go fetch the box of Legos!\"\n",
    "\n",
    "She came back with, as promised, a box filled with big plastic Lego pieces of different sizes and colours. But what's this? \"Oh my, someone must have mixed all those different toys in one box! Never mind, I'm sure we can find a solution!\"\n",
    "\n",
    "\"Now\", she said, \"you build your Lego masterpiece, and I can help you get all the Legos out of the box!\"\n",
    "\n",
    "But how exactly will that be done? Inspecting the universe, it looks like we have two functions:\n",
    "\n",
    "1. `buildAwesomeLegoHouse`\n",
    "2. `msApplebee`\n",
    "\n",
    "How will `buildAwesomeLegoHouse` use `msApplebee`?\n",
    "\n",
    "#### 1. Loops\n",
    "\n",
    "Overconfident as you are, you say \"Just weed out all the Legos and leave them to me!\"\n",
    "\n",
    "\"As you wish\", Ms. Applebee replied, and begins the tedious task of filtering out the Lego pieces. Some time passes. You stare intently at Ms. Applebee.\n",
    "\n",
    "...\n",
    "\n",
    "Kids around you play and frolic.\n",
    "\n",
    "...\n",
    "\n",
    "\"There we go!\" she exclaims once she's finally finished, \"now play safe!\", and throws the box of Legos at you. You now have to deal with both retrieving the next Lego piece, and doing something with it.\n",
    "\n",
    "While it seems fine at first, you discover that it's a problem as the number of Lego bricks grow. Suddenly, you don't have to handle 10 bricks, you need to handle 100, and then 100,000! You can't possibly need all of those Lego bricks at once! What's more, it takes a while for Ms. Applebee to weed out all the yucky non-Legos. You just stood there like a fool, staring at her, doing nothing.\n",
    "\n",
    "The above can be expressed in pseudo-Python as such:\n",
    "\n",
    "```python\n",
    "def buildAwesomeLegoHouse():\n",
    "    legos = msApplebee()\n",
    "    # TODO: Build house logic.\n",
    "\n",
    "def msApplebee():\n",
    "    return filter(isALegoBrick, boxOfToys)\n",
    "```\n",
    "\n",
    "This is clearly not ideal.\n",
    "\n",
    "#### 2. Callbacks/Events\n",
    "\n",
    "\"How about whenever you find a Lego block, you tell me about it?\" you suggest.\n",
    "\n",
    "\"Good idea! What a smart boy!\" Ms. Applebee says and pats you on the head.\n",
    "\n",
    "This goes better than the alternate universe, as two jobs can run in parallel (or seemingly in parallel, if only a single thread is present). You're given a block and you do something with it. Ms. Applebee gets a block, and gives it to you when you're free. If it's a multi-threaded environment, there's time for you and Ms. Applebee to do other things while you're waiting for the other to finish.\n",
    "\n",
    "(Note: Under some implementations, instead of waiting for you to take the block each and every time, Ms. Applebee can fill a queue of blocks, from which you can get at your own pace. One notable example of this is the Windows Message Queue and, come to think of it, practically any socket library.)\n",
    "\n",
    "In pseudo-Python (callback style):\n",
    "\n",
    "```python\n",
    "def buildAwesomeLegoHouse():\n",
    "    def gotLego(lego):\n",
    "        # TODO: Build house logic.\n",
    "    msApplebee(gotLego)\n",
    "\n",
    "def msApplebee(cb):\n",
    "    for toy in boxOfToys:\n",
    "        if isALegoBrick(toy):\n",
    "            cb(toy)\n",
    "```   \n",
    "\n",
    "(Note that callbacks, event-listeners and Promises are identical in spirit, for better and for worse.)\n",
    "\n",
    "This is all nice and dandy, and you manage to finish your Lego house. Awesome! But...what's Ms. Applebee doing? She keeps getting more and more blocks! \"You can stop now, Ms. Applebee\" you say, and she ignores. She keeps handing you blocks.\n",
    "\n",
    "\"Really, I'm all done!\" More blocks.\n",
    "\n",
    "\"Shouldn't you be watching the other kids?\" (you're a very responsible 5 year old). She keeps handing you blocks.\n",
    "\n",
    "There's no true way in the callback model to signify \"stop\". With event listeners, you can stop paying attention to events, but Ms. Applebee will still be there, sorting out Lego bricks. Poor Ms. Applebee. There are some solutions to this problem, but none inherent in the model.\n",
    "\n",
    "You can probably see where this is going.\n",
    "\n",
    "#### 3. Co-routines\n",
    "\n",
    "\"How about I ask you for a block every time I need one?\"\n",
    "\n",
    "\"Why, a great idea!\"\n",
    "\n",
    "Ms. Applebee gives you a block, and you happily arrange it. You then ask her nicely for another block, and then another, and so forth. When you're done with your awesome Lego house, you simply stop asking for more blocks.\n",
    "\n",
    "In our beloved psuedo-Python:\n",
    "\n",
    "```python\n",
    "def buildAwesomeLegoHouse():\n",
    "    for lego in msApplebee():\n",
    "        # TODO: Build house logic.\n",
    "        if houseIsFinished:\n",
    "            break\n",
    "\n",
    "def msApplebee():\n",
    "    for toy in boxOfToys:\n",
    "        if isALegoBrick(toy):\n",
    "            yield toy\n",
    "```\n",
    "\n",
    "(Looks familiar?)\n",
    "\n",
    "This combines the two previous methods. On the one hand, we have to wait for Ms. Applebee to filter out a Lego before we can put it. On the other, we don't have to deal with everything in one hit. Plus, we're once again the active party: We are only given blocks we asked for.\n",
    "\n",
    "#### Conclusion\n",
    "\n",
    "Co-routines are very much like callbacks (many things you can do with one, you can do with the other without working too much). However, they provide a cleaner interface over a function, give you greater control over the output, and enable you to feed data back into the co-routine. They are very powerful things when used correctly, and even if you don't see the need for them right now, remember they exist."
   ]
  },
  {
   "cell_type": "markdown",
   "metadata": {},
   "source": [
    "## Basic Behaviour of a Generator Used as a Coroutine"
   ]
  },
  {
   "cell_type": "code",
   "execution_count": 5,
   "metadata": {},
   "outputs": [],
   "source": [
    "# Example 16-1. Simplest possible demonstration of a coroutine in action\n",
    "\n",
    "def simple_coroutine():\n",
    "    print(\"-> coroutine started\")\n",
    "    x = yield\n",
    "    print(\"-> coroutine received: \", x)"
   ]
  },
  {
   "cell_type": "code",
   "execution_count": 6,
   "metadata": {},
   "outputs": [
    {
     "data": {
      "text/plain": [
       "<generator object simple_coroutine at 0x10def0cd0>"
      ]
     },
     "execution_count": 6,
     "metadata": {},
     "output_type": "execute_result"
    }
   ],
   "source": [
    "coro = simple_coroutine()\n",
    "coro"
   ]
  },
  {
   "cell_type": "code",
   "execution_count": 7,
   "metadata": {},
   "outputs": [
    {
     "name": "stdout",
     "output_type": "stream",
     "text": [
      "-> coroutine started\n"
     ]
    }
   ],
   "source": [
    "next(coro)"
   ]
  },
  {
   "cell_type": "code",
   "execution_count": 8,
   "metadata": {},
   "outputs": [
    {
     "name": "stdout",
     "output_type": "stream",
     "text": [
      "-> coroutine received:  42\n"
     ]
    },
    {
     "ename": "StopIteration",
     "evalue": "",
     "output_type": "error",
     "traceback": [
      "\u001b[0;31m---------------------------------------------------------------------------\u001b[0m",
      "\u001b[0;31mStopIteration\u001b[0m                             Traceback (most recent call last)",
      "\u001b[0;32m<ipython-input-8-1c0cadfe97a8>\u001b[0m in \u001b[0;36m<module>\u001b[0;34m\u001b[0m\n\u001b[0;32m----> 1\u001b[0;31m \u001b[0mcoro\u001b[0m\u001b[0;34m.\u001b[0m\u001b[0msend\u001b[0m\u001b[0;34m(\u001b[0m\u001b[0;36m42\u001b[0m\u001b[0;34m)\u001b[0m\u001b[0;34m\u001b[0m\u001b[0;34m\u001b[0m\u001b[0m\n\u001b[0m",
      "\u001b[0;31mStopIteration\u001b[0m: "
     ]
    }
   ],
   "source": [
    "coro.send(42)"
   ]
  },
  {
   "cell_type": "markdown",
   "metadata": {},
   "source": [
    "A coroutine can be in one of four states:\n",
    "\n",
    "1. `GEN_CREATED`: Waiting to start exection.\n",
    "2. `GEN_RUNNING`: Currently being executed.\n",
    "3. `GEN_SUSPENDED`: Currently suspended at a `yield` expresison.\n",
    "4. `GEN_CLOSED`: Execution completed.\n",
    "\n",
    "Because the argument to the `send` method will become the value of the pending `yield` expression, you can only make a call like `coro.send(42)` *if the coroutine has been activated*.\n",
    "\n",
    "The first activation of a coroutine is *always* done with `next(coro)`. This is called **priming** the coroutine. `coro.send(None)` has the same effect."
   ]
  },
  {
   "cell_type": "code",
   "execution_count": 10,
   "metadata": {},
   "outputs": [],
   "source": [
    "# Example 16-2. A coroutine that yields twice\n",
    "\n",
    "from inspect import getgeneratorstate\n",
    "\n",
    "def simple_coro2(a):\n",
    "    print(\"-> Started: a = \", a)\n",
    "    b = yield a\n",
    "    print(\"-> Received: b = \", b)\n",
    "    c = yield a + b\n",
    "    print(\"-> Received c = \", c)"
   ]
  },
  {
   "cell_type": "code",
   "execution_count": 12,
   "metadata": {},
   "outputs": [
    {
     "data": {
      "text/plain": [
       "'GEN_CREATED'"
      ]
     },
     "execution_count": 12,
     "metadata": {},
     "output_type": "execute_result"
    }
   ],
   "source": [
    "# Coroutine has not started\n",
    "coro2 = simple_coro2(14)\n",
    "getgeneratorstate(coro2)"
   ]
  },
  {
   "cell_type": "code",
   "execution_count": 13,
   "metadata": {},
   "outputs": [
    {
     "name": "stdout",
     "output_type": "stream",
     "text": [
      "-> Started: a =  14\n"
     ]
    },
    {
     "data": {
      "text/plain": [
       "14"
      ]
     },
     "execution_count": 13,
     "metadata": {},
     "output_type": "execute_result"
    }
   ],
   "source": [
    "# Advance to first yield, yielding value of a\n",
    "next(coro2)"
   ]
  },
  {
   "cell_type": "code",
   "execution_count": 14,
   "metadata": {},
   "outputs": [
    {
     "data": {
      "text/plain": [
       "'GEN_SUSPENDED'"
      ]
     },
     "execution_count": 14,
     "metadata": {},
     "output_type": "execute_result"
    }
   ],
   "source": [
    "# Coroutine suspended to wait for value to be assigned to b\n",
    "getgeneratorstate(coro2)"
   ]
  },
  {
   "cell_type": "code",
   "execution_count": 15,
   "metadata": {},
   "outputs": [
    {
     "name": "stdout",
     "output_type": "stream",
     "text": [
      "-> Received: b =  28\n"
     ]
    },
    {
     "data": {
      "text/plain": [
       "42"
      ]
     },
     "execution_count": 15,
     "metadata": {},
     "output_type": "execute_result"
    }
   ],
   "source": [
    "# Send 28 to suspended coroutine\n",
    "# yield evaluates to 28 and is bound to b\n",
    "# The value of a + b is yielded (42)\n",
    "# Coroutine is suspended waiting for the value to be assigned to c\n",
    "coro2.send(28)"
   ]
  },
  {
   "cell_type": "code",
   "execution_count": 16,
   "metadata": {},
   "outputs": [
    {
     "name": "stdout",
     "output_type": "stream",
     "text": [
      "-> Received c =  99\n"
     ]
    },
    {
     "ename": "StopIteration",
     "evalue": "",
     "output_type": "error",
     "traceback": [
      "\u001b[0;31m---------------------------------------------------------------------------\u001b[0m",
      "\u001b[0;31mStopIteration\u001b[0m                             Traceback (most recent call last)",
      "\u001b[0;32m<ipython-input-16-88a99ab78cd2>\u001b[0m in \u001b[0;36m<module>\u001b[0;34m\u001b[0m\n\u001b[0;32m----> 1\u001b[0;31m \u001b[0mcoro2\u001b[0m\u001b[0;34m.\u001b[0m\u001b[0msend\u001b[0m\u001b[0;34m(\u001b[0m\u001b[0;36m99\u001b[0m\u001b[0;34m)\u001b[0m\u001b[0;34m\u001b[0m\u001b[0;34m\u001b[0m\u001b[0m\n\u001b[0m",
      "\u001b[0;31mStopIteration\u001b[0m: "
     ]
    }
   ],
   "source": [
    "# Send number 99 to suspended coroutine\n",
    "# yield evaluates to 99 and number is bound to c\n",
    "# Coroutine terminates\n",
    "coro2.send(99)"
   ]
  },
  {
   "cell_type": "code",
   "execution_count": 17,
   "metadata": {},
   "outputs": [
    {
     "data": {
      "text/plain": [
       "'GEN_CLOSED'"
      ]
     },
     "execution_count": 17,
     "metadata": {},
     "output_type": "execute_result"
    }
   ],
   "source": [
    "# Coroutine execution has completed\n",
    "getgeneratorstate(coro2)"
   ]
  },
  {
   "cell_type": "markdown",
   "metadata": {},
   "source": [
    "**It is crucial to understand that the execution of a coroutine is suspended exactly at the `yield` keyword.**\n",
    "\n",
    "In an assignment statement, the code to the right of `=` is evaluated *before* the actual assignment happens.\n",
    "\n",
    "This means that in a line like `b = yield a`, the value of `b` will only be set when the coroutine is activated later by client code."
   ]
  },
  {
   "cell_type": "markdown",
   "metadata": {},
   "source": [
    "## Example: Coroutine to Compute a Running Average"
   ]
  },
  {
   "cell_type": "markdown",
   "metadata": {},
   "source": [
    "The following example show how to implement **example 7-8** from [chapter 7]() as a coroutine:"
   ]
  },
  {
   "cell_type": "code",
   "execution_count": 28,
   "metadata": {},
   "outputs": [],
   "source": [
    "# Example 16-3. code for running average coroutine\n",
    "\n",
    "def averager():\n",
    "    total = 0\n",
    "    count = 0\n",
    "    average = None\n",
    "    while True:\n",
    "        term = yield average\n",
    "        total += term\n",
    "        count += 1\n",
    "        average = total / count\n",
    "        "
   ]
  },
  {
   "cell_type": "code",
   "execution_count": 29,
   "metadata": {},
   "outputs": [],
   "source": [
    "avg = averager()\n",
    "next(avg)"
   ]
  },
  {
   "cell_type": "code",
   "execution_count": 30,
   "metadata": {},
   "outputs": [
    {
     "data": {
      "text/plain": [
       "10.0"
      ]
     },
     "execution_count": 30,
     "metadata": {},
     "output_type": "execute_result"
    }
   ],
   "source": [
    "avg.send(10)"
   ]
  },
  {
   "cell_type": "code",
   "execution_count": 31,
   "metadata": {},
   "outputs": [
    {
     "data": {
      "text/plain": [
       "7.5"
      ]
     },
     "execution_count": 31,
     "metadata": {},
     "output_type": "execute_result"
    }
   ],
   "source": [
    "avg.send(5)"
   ]
  },
  {
   "cell_type": "code",
   "execution_count": 32,
   "metadata": {},
   "outputs": [
    {
     "data": {
      "text/plain": [
       "13.333333333333334"
      ]
     },
     "execution_count": 32,
     "metadata": {},
     "output_type": "execute_result"
    }
   ],
   "source": [
    "avg.send(25)"
   ]
  },
  {
   "cell_type": "code",
   "execution_count": 33,
   "metadata": {},
   "outputs": [
    {
     "data": {
      "text/plain": [
       "'GEN_CLOSED'"
      ]
     },
     "execution_count": 33,
     "metadata": {},
     "output_type": "execute_result"
    }
   ],
   "source": [
    "avg.close()\n",
    "getgeneratorstate(avg)"
   ]
  },
  {
   "cell_type": "markdown",
   "metadata": {},
   "source": [
    "Note the `.close()` must be called to terminate the coroutine. We can terminate coroutines in other ways. This will be covered in the **Coroutine Termination and Exception Handling** section below."
   ]
  },
  {
   "cell_type": "markdown",
   "metadata": {},
   "source": [
    "## Decorators for Coroutine Priming\n",
    "\n",
    "It can be easy to forget to prime coroutines. Ramalho implements a decorator that serves this function:"
   ]
  },
  {
   "cell_type": "code",
   "execution_count": 34,
   "metadata": {},
   "outputs": [],
   "source": [
    "# Example 16-5. decorator for priming a coroutine\n",
    "\n",
    "from functools import wraps\n",
    "\n",
    "def coroutine(func):\n",
    "    \"\"\"Decorator: primes `func` by advancing to first `yield`\"\"\"\n",
    "    @wraps(func)\n",
    "    def primer(*args, **kwargs):\n",
    "        gen = func(*args, **kwargs)\n",
    "        next(gen)\n",
    "        return gen\n",
    "    return primer\n"
   ]
  },
  {
   "cell_type": "code",
   "execution_count": 39,
   "metadata": {},
   "outputs": [],
   "source": [
    "# Example 16-6. decorated average coroutine\n",
    "\n",
    "@coroutine\n",
    "def averager():\n",
    "    total = 0\n",
    "    count = 0\n",
    "    average = None\n",
    "    while True:\n",
    "        term = yield average\n",
    "        total += term\n",
    "        count += 1\n",
    "        average = total / count\n"
   ]
  },
  {
   "cell_type": "code",
   "execution_count": 40,
   "metadata": {},
   "outputs": [
    {
     "data": {
      "text/plain": [
       "10.0"
      ]
     },
     "execution_count": 40,
     "metadata": {},
     "output_type": "execute_result"
    }
   ],
   "source": [
    "# We can immediately start send values to the coroutine\n",
    "avg = averager()\n",
    "avg.send(10)"
   ]
  },
  {
   "cell_type": "code",
   "execution_count": 41,
   "metadata": {},
   "outputs": [
    {
     "data": {
      "text/plain": [
       "7.5"
      ]
     },
     "execution_count": 41,
     "metadata": {},
     "output_type": "execute_result"
    }
   ],
   "source": [
    "avg.send(5)"
   ]
  },
  {
   "cell_type": "code",
   "execution_count": 42,
   "metadata": {},
   "outputs": [
    {
     "data": {
      "text/plain": [
       "13.333333333333334"
      ]
     },
     "execution_count": 42,
     "metadata": {},
     "output_type": "execute_result"
    }
   ],
   "source": [
    "avg.send(25)"
   ]
  },
  {
   "cell_type": "code",
   "execution_count": 43,
   "metadata": {},
   "outputs": [],
   "source": [
    "avg.close()"
   ]
  },
  {
   "cell_type": "markdown",
   "metadata": {},
   "source": [
    "## Note\n",
    "\n",
    "We skip the following subchapters:\n",
    "\n",
    "* **Coroutine Termination and Exception Handling** (pp. 488-491)\n",
    "* **Returning a Value from a Coroutine** (pp. 491-493)"
   ]
  },
  {
   "cell_type": "markdown",
   "metadata": {},
   "source": [
    "## Using `yield from`\n",
    "\n",
    "Ramalho notes that `yield from` is an arguably misleading reuse of the keyword `yield`, and further notes that similar constructs in other languages are named `await`.\n",
    "\n",
    "The key point is that when a generator `gen` calls `yield from subgen()`, the `subgen` will take over and will yield values to the caller of gen; the caller will in effect drive `subgen` directly.\n",
    "\n",
    "Meanwhile, `gen` will be blocked until `subgen` terminates."
   ]
  },
  {
   "cell_type": "code",
   "execution_count": 2,
   "metadata": {},
   "outputs": [
    {
     "name": "stdout",
     "output_type": "stream",
     "text": [
      "['A', 'B', 1, 2]\n",
      "['A', 'B', 1, 2]\n"
     ]
    }
   ],
   "source": [
    "# Example: yield from as a shortcut to yield in a for loop\n",
    "\n",
    "def gen():\n",
    "    for c in \"AB\":\n",
    "        yield c\n",
    "    for i in range(1, 3):\n",
    "        yield i\n",
    "\n",
    "print(list(gen()))\n",
    "\n",
    "def gen():\n",
    "    yield from \"AB\"\n",
    "    yield from range(1, 3)\n",
    "    \n",
    "print(list(gen()))"
   ]
  },
  {
   "cell_type": "markdown",
   "metadata": {},
   "source": [
    "The main feature of `yield from` is to \n",
    "\n",
    "1. open a bidirectional channel from the outermost caller to the innermost subgenerator, so that values can ve sent and yielded back and forth directly from them, and \n",
    "2. exceptions can be thrown all the way in without adding a lot of exception handling boilerplate code in the intermediate coroutines.\n",
    "\n",
    "The use of `yield from` requires some moving parts described in [PEP 380](https://www.python.org/dev/peps/pep-0380/):\n",
    "\n",
    "*delegating generator*<br>\n",
    "The generator function that contains the `yield from <iterable>` expression.\n",
    "\n",
    "*subgenerator*<br>\n",
    "The generator obtained from the `<iterable>` part of the `yield from` expression.\n",
    "\n",
    "*caller*<br>\n",
    "The client code that calls the delegating generator."
   ]
  },
  {
   "cell_type": "markdown",
   "metadata": {},
   "source": [
    "# Comments\n",
    "\n",
    "Coroutines are complicated, and `yield from` is mind-bending. Return to this material and learn it properly *when you need it*. For now it's OK to be aware of the `yield` keyword, and the main idea of `yield from`."
   ]
  }
 ],
 "metadata": {
  "kernelspec": {
   "display_name": "Python 3",
   "language": "python",
   "name": "python3"
  },
  "language_info": {
   "codemirror_mode": {
    "name": "ipython",
    "version": 3
   },
   "file_extension": ".py",
   "mimetype": "text/x-python",
   "name": "python",
   "nbconvert_exporter": "python",
   "pygments_lexer": "ipython3",
   "version": "3.7.5"
  }
 },
 "nbformat": 4,
 "nbformat_minor": 4
}
