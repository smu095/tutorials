{
 "cells": [
  {
   "cell_type": "markdown",
   "metadata": {},
   "source": [
    "# Chapter 3: Dictionaries and Sets"
   ]
  },
  {
   "cell_type": "markdown",
   "metadata": {},
   "source": [
    "The `dict` type is a fundamental part of Python impementation. Module namespaces, class and instance attributes and function keyword arguments are examples of where dictionaries are deployed.\n",
    "\n",
    "Dictionaries are highly optimised, powered by hash tables."
   ]
  },
  {
   "cell_type": "markdown",
   "metadata": {},
   "source": [
    "## Generic Mapping Types\n",
    "\n",
    "The `collections.abc` module provides the `Mapping` and `MutableMapping` ABCs to formalise the interfaces of `dict` and similar types (see **p. 68** for details).\n",
    "\n",
    "Implementations of specialised mapping often extend `dict` or `collections.UserDict` instead of these ABCs.\n",
    "\n",
    "All mapping types in the standard library require that the keys must be hashable."
   ]
  },
  {
   "cell_type": "markdown",
   "metadata": {},
   "source": [
    "## `dict` Comprehensions"
   ]
  },
  {
   "cell_type": "markdown",
   "metadata": {},
   "source": [
    "Dictionary comprehension (*dictcomp*) builds a `dict` instance by producing `key:value` pairs from any iterable."
   ]
  },
  {
   "cell_type": "code",
   "execution_count": 3,
   "metadata": {},
   "outputs": [
    {
     "data": {
      "text/plain": [
       "{91: 'India', 1: 'United States', 86: 'China'}"
      ]
     },
     "execution_count": 3,
     "metadata": {},
     "output_type": "execute_result"
    }
   ],
   "source": [
    "DIAL_CODES = {\n",
    "    (86, \"China\"),\n",
    "    (91, \"India\"),\n",
    "    (1, \"United States\"),\n",
    "}\n",
    "\n",
    "{code: country for code, country in DIAL_CODES}"
   ]
  },
  {
   "cell_type": "code",
   "execution_count": 4,
   "metadata": {},
   "outputs": [
    {
     "data": {
      "text/plain": [
       "{'India': 91, 'United States': 1, 'China': 86}"
      ]
     },
     "execution_count": 4,
     "metadata": {},
     "output_type": "execute_result"
    }
   ],
   "source": [
    "{country: code for code, country in DIAL_CODES}"
   ]
  },
  {
   "cell_type": "code",
   "execution_count": 5,
   "metadata": {},
   "outputs": [
    {
     "data": {
      "text/plain": [
       "{'INDIA': 91, 'UNITED STATES': 1, 'CHINA': 86}"
      ]
     },
     "execution_count": 5,
     "metadata": {},
     "output_type": "execute_result"
    }
   ],
   "source": [
    "{country.upper(): code for code, country in DIAL_CODES}"
   ]
  },
  {
   "cell_type": "markdown",
   "metadata": {},
   "source": [
    "## Overview of Common Mapping Methods"
   ]
  },
  {
   "cell_type": "markdown",
   "metadata": {},
   "source": [
    "See **p. 71** for common mapping methods implemented by `dict` and two of its mostt powerful variations, `defaultdict` and `OrderedDict`.\n",
    "\n",
    "Noteworthy methods are `dict.update(m, [**kwargs])` and `dict.setdefault(k, [default)`. \n",
    "\n",
    "The former is used internally by many constructors of Python mappings. `update` first checks if `m` has the `.keys()` method. If it does, it assumes it is a mapping. Otherwise, `update` iterates over `m`, assuming its items are `(key, value)` pairs."
   ]
  },
  {
   "cell_type": "code",
   "execution_count": 9,
   "metadata": {},
   "outputs": [
    {
     "data": {
      "text/plain": [
       "{91: 'India', 1: 'United States', 86: 'China', 47: 'Norway'}"
      ]
     },
     "execution_count": 9,
     "metadata": {},
     "output_type": "execute_result"
    }
   ],
   "source": [
    "iter_update = [(47, \"Norway\")]\n",
    "country_codes.update(iter_update)\n",
    "country_codes"
   ]
  },
  {
   "cell_type": "markdown",
   "metadata": {},
   "source": [
    "The latter provides a significant speedup by avoiding redundant key lookups."
   ]
  },
  {
   "cell_type": "markdown",
   "metadata": {},
   "source": [
    "### Handling Missing Keys with `setdefault`"
   ]
  },
  {
   "cell_type": "markdown",
   "metadata": {},
   "source": [
    "In line with Python's *fail-fast philosophy*, `d[k]` wil throw a `KeyError` if `k` is not an existing key.\n",
    "\n",
    "An alternative is to use `d.get(k, [default])`, which avoids the `KeyError` exception and returns default if `k` is not an existing key. However, this method can get slow and inefficient to work with when updating the value (if mutable), if the key is found.\n",
    "\n",
    "An alternative is to use `d.setdefault(k, [default])`."
   ]
  },
  {
   "cell_type": "code",
   "execution_count": null,
   "metadata": {},
   "outputs": [],
   "source": [
    "# For some key k and value v\n",
    "# Inefficient\n",
    "value = dict.get(k, []) # First search through dict\n",
    "value.update(v)\n",
    "d[k] = value # Second search through dict\n",
    "\n",
    "# Efficient\n",
    "dict.setdefault(k, []).append(v) # Only one search through dict"
   ]
  },
  {
   "cell_type": "markdown",
   "metadata": {},
   "source": [
    "### Mappings with Flexible Key Lookup"
   ]
  },
  {
   "cell_type": "markdown",
   "metadata": {},
   "source": [
    "Sometimes it is convenient to have mappings that return some made-up value when a missing key is search. There are two approaches:\n",
    "\n",
    "* `collections.defaultdict`\n",
    "\n",
    "* subclass `dict` (or any other mapping type) and add `__missing__` methods\n",
    "\n",
    "#### `defaultdict`\n",
    "\n",
    "A `defaultdict` is cofigured to create items on demand whenever a missing key is searched.\n",
    "\n",
    "When instantiating, provide a callable that is used to produce a default value whenever `__getitem__` is passed a non-existant key argument. The callable is stored in an instance attribute called `default_factory`."
   ]
  },
  {
   "cell_type": "code",
   "execution_count": 13,
   "metadata": {},
   "outputs": [
    {
     "data": {
      "text/plain": [
       "defaultdict(list, {'key': []})"
      ]
     },
     "execution_count": 13,
     "metadata": {},
     "output_type": "execute_result"
    }
   ],
   "source": [
    "from collections import defaultdict\n",
    "\n",
    "dd = defaultdict(list)\n",
    "dd[\"key\"]\n",
    "dd"
   ]
  },
  {
   "cell_type": "markdown",
   "metadata": {},
   "source": [
    "#### The `__missing__` method\n",
    "\n",
    "This method is not defined in the base `dict` class, but `dict` is aware of it. If `dict` is subclassed and a `__missing__` method is provided, the standard `dict.__getitem__` will call it whenever a key is not found (instead of returning `KeyError`). See **pp. 76-77** for an example."
   ]
  },
  {
   "cell_type": "markdown",
   "metadata": {},
   "source": [
    "### Variations of `dict`"
   ]
  },
  {
   "cell_type": "markdown",
   "metadata": {},
   "source": [
    "#### `collections.OrderedDict`\n",
    "\n",
    "Maintains key in insertion order, allowing predictable iteration. `popitem` method pops the last item by default, unless argument `last=False` in which case the first item is popped."
   ]
  },
  {
   "cell_type": "markdown",
   "metadata": {},
   "source": [
    "#### `collections.ChainMap`\n",
    "\n",
    "See **p. 79**."
   ]
  },
  {
   "cell_type": "markdown",
   "metadata": {},
   "source": [
    "#### `collections.Counter`\n",
    "\n",
    "A mapping that holds an integer count for each key. Implements `+`, `-` and `most_common([n])` for convenient manipulation"
   ]
  },
  {
   "cell_type": "code",
   "execution_count": 18,
   "metadata": {},
   "outputs": [
    {
     "data": {
      "text/plain": [
       "Counter({'a': 5, 'b': 2, 'r': 2, 'c': 1, 'd': 1})"
      ]
     },
     "execution_count": 18,
     "metadata": {},
     "output_type": "execute_result"
    }
   ],
   "source": [
    "from collections import Counter\n",
    "\n",
    "string = \"abracadabra\"\n",
    "counter = Counter(string)\n",
    "counter"
   ]
  },
  {
   "cell_type": "code",
   "execution_count": 19,
   "metadata": {},
   "outputs": [
    {
     "data": {
      "text/plain": [
       "Counter({'a': 11, 'b': 2, 'r': 2, 'c': 1, 'd': 1, 'z': 4})"
      ]
     },
     "execution_count": 19,
     "metadata": {},
     "output_type": "execute_result"
    }
   ],
   "source": [
    "counter.update(\"aaaaaazzzz\")\n",
    "counter"
   ]
  },
  {
   "cell_type": "code",
   "execution_count": 20,
   "metadata": {},
   "outputs": [
    {
     "data": {
      "text/plain": [
       "[('a', 11), ('z', 4)]"
      ]
     },
     "execution_count": 20,
     "metadata": {},
     "output_type": "execute_result"
    }
   ],
   "source": [
    "counter.most_common(2)"
   ]
  },
  {
   "cell_type": "markdown",
   "metadata": {},
   "source": [
    "#### `collections.UserDict`\n",
    "\n",
    "A pure Python implementation of a mapping that works like a standard `dict`."
   ]
  },
  {
   "cell_type": "markdown",
   "metadata": {},
   "source": [
    "### Subclassing `UserDict`"
   ]
  },
  {
   "cell_type": "markdown",
   "metadata": {},
   "source": [
    "`UserDict` should be preferred over `dict` when subclassing, because `dict` has some implementation shortcuts that forces us to override methods that can be inherited from `UserDict` with no problems (see example 3-7 and 3-8 on **pp. 77-81**).\n",
    "\n",
    "`UserDict` inherits from `MutableMapping`, which has some particularly useful methods such as `update` and `get` (see **p. 81**)."
   ]
  },
  {
   "cell_type": "markdown",
   "metadata": {},
   "source": [
    "## Immutable Mappings"
   ]
  },
  {
   "cell_type": "markdown",
   "metadata": {},
   "source": [
    "`types.MappingProxyType` returns an instance `mappingproxy` that is a dynamic view of the original mapping, but read-only. This prevents the user from inadvertantly changing a mapping by mistake."
   ]
  },
  {
   "cell_type": "code",
   "execution_count": 30,
   "metadata": {},
   "outputs": [
    {
     "data": {
      "text/plain": [
       "mappingproxy({1: 'A'})"
      ]
     },
     "execution_count": 30,
     "metadata": {},
     "output_type": "execute_result"
    }
   ],
   "source": [
    "from types import MappingProxyType\n",
    "\n",
    "d = {}\n",
    "d[1] = \"A\"\n",
    "d_proxy = MappingProxyType(d)\n",
    "d_proxy"
   ]
  },
  {
   "cell_type": "code",
   "execution_count": 31,
   "metadata": {},
   "outputs": [
    {
     "ename": "TypeError",
     "evalue": "'mappingproxy' object does not support item assignment",
     "output_type": "error",
     "traceback": [
      "\u001b[0;31m---------------------------------------------------------------------------\u001b[0m",
      "\u001b[0;31mTypeError\u001b[0m                                 Traceback (most recent call last)",
      "\u001b[0;32m<ipython-input-31-9bbb07cfa467>\u001b[0m in \u001b[0;36m<module>\u001b[0;34m\u001b[0m\n\u001b[0;32m----> 1\u001b[0;31m \u001b[0md_proxy\u001b[0m\u001b[0;34m[\u001b[0m\u001b[0;36m2\u001b[0m\u001b[0;34m]\u001b[0m \u001b[0;34m=\u001b[0m \u001b[0;34m\"B\"\u001b[0m\u001b[0;34m\u001b[0m\u001b[0;34m\u001b[0m\u001b[0m\n\u001b[0m",
      "\u001b[0;31mTypeError\u001b[0m: 'mappingproxy' object does not support item assignment"
     ]
    }
   ],
   "source": [
    "d_proxy[2] = \"B\""
   ]
  },
  {
   "cell_type": "code",
   "execution_count": 32,
   "metadata": {},
   "outputs": [
    {
     "data": {
      "text/plain": [
       "mappingproxy({1: 'A', 2: 'B'})"
      ]
     },
     "execution_count": 32,
     "metadata": {},
     "output_type": "execute_result"
    }
   ],
   "source": [
    "d[2] = \"B\"\n",
    "d_proxy"
   ]
  },
  {
   "cell_type": "markdown",
   "metadata": {},
   "source": [
    "## Set Theory"
   ]
  },
  {
   "cell_type": "markdown",
   "metadata": {},
   "source": [
    "A set is a collection of unique objects, and in the following \"set\" refers to both `set` and `frozenset`.\n",
    "\n",
    "Set elements must be hashable. The `set` type is not hashable, but `frozenset` is. `frozenset` elements can be included in a `set`.\n",
    "\n",
    "The infix operators `|`, `&` and `-` compute the union, intersection and difference, respectively."
   ]
  },
  {
   "cell_type": "markdown",
   "metadata": {},
   "source": [
    "### `set` Literals"
   ]
  },
  {
   "cell_type": "markdown",
   "metadata": {},
   "source": [
    "The syntax of `set` literals looks exactly like math notation - `{1, 2}` - with the exception of empty sets. In the case of an empty set, we must use `set()`.\n",
    "\n",
    "`frozenset` must be created by calling the constructor, e.g. `frozenset({1, 2, 3})`."
   ]
  },
  {
   "cell_type": "markdown",
   "metadata": {},
   "source": [
    "### `set` Comprehensions\n",
    "\n",
    "We can use *set comprehensions* (setcomps) to build sets, just like with dictcomps and listcomps."
   ]
  },
  {
   "cell_type": "markdown",
   "metadata": {},
   "source": [
    "### `set` Operations"
   ]
  },
  {
   "cell_type": "markdown",
   "metadata": {},
   "source": [
    "The infix operaters require that both operands be `set` types.\n",
    "\n",
    "All other methods can take one or more iterables as an argument.\n",
    "\n",
    "See table 3-2 on **p. 88** for a complete overview."
   ]
  },
  {
   "cell_type": "code",
   "execution_count": 41,
   "metadata": {},
   "outputs": [
    {
     "data": {
      "text/plain": [
       "{1, 4, 5}"
      ]
     },
     "execution_count": 41,
     "metadata": {},
     "output_type": "execute_result"
    }
   ],
   "source": [
    "a = {1, 2, 3, 4, 5}\n",
    "b = {1, 4, 5}\n",
    "c = [5, 7, 8]\n",
    "\n",
    "a & b"
   ]
  },
  {
   "cell_type": "code",
   "execution_count": 42,
   "metadata": {},
   "outputs": [
    {
     "ename": "TypeError",
     "evalue": "unsupported operand type(s) for &: 'set' and 'list'",
     "output_type": "error",
     "traceback": [
      "\u001b[0;31m---------------------------------------------------------------------------\u001b[0m",
      "\u001b[0;31mTypeError\u001b[0m                                 Traceback (most recent call last)",
      "\u001b[0;32m<ipython-input-42-84c3a231eba4>\u001b[0m in \u001b[0;36m<module>\u001b[0;34m\u001b[0m\n\u001b[0;32m----> 1\u001b[0;31m \u001b[0ma\u001b[0m \u001b[0;34m&\u001b[0m \u001b[0mc\u001b[0m\u001b[0;34m\u001b[0m\u001b[0;34m\u001b[0m\u001b[0m\n\u001b[0m",
      "\u001b[0;31mTypeError\u001b[0m: unsupported operand type(s) for &: 'set' and 'list'"
     ]
    }
   ],
   "source": [
    "a & c"
   ]
  },
  {
   "cell_type": "code",
   "execution_count": 43,
   "metadata": {},
   "outputs": [
    {
     "data": {
      "text/plain": [
       "{5}"
      ]
     },
     "execution_count": 43,
     "metadata": {},
     "output_type": "execute_result"
    }
   ],
   "source": [
    "a.intersection(b, c)"
   ]
  },
  {
   "cell_type": "markdown",
   "metadata": {},
   "source": [
    "`set` predicates are also available, and allow the user to check for e.g. subsets, supersets, etc.\n",
    "\n",
    "See table 3-3 on **p. 89** for a complete overview of these and additional `set` methods (table 3-4)."
   ]
  },
  {
   "cell_type": "code",
   "execution_count": 49,
   "metadata": {},
   "outputs": [
    {
     "data": {
      "text/plain": [
       "True"
      ]
     },
     "execution_count": 49,
     "metadata": {},
     "output_type": "execute_result"
    }
   ],
   "source": [
    "# a is a superset of b\n",
    "a >= b\n",
    "\n",
    "# b is a subset of a\n",
    "b <= a\n",
    "\n",
    "# b is a proper subset of a\n",
    "b < a"
   ]
  },
  {
   "cell_type": "markdown",
   "metadata": {},
   "source": [
    "## `dict` and `set` Under the Hood"
   ]
  },
  {
   "cell_type": "markdown",
   "metadata": {},
   "source": [
    "Python `set` and `dict` types are implemented using hash tables.\n",
    "\n",
    "A hash table is a sparse array (i.e. an array that always has empty cells).\n",
    "\n",
    "The cells in a hash table are often called \"buckets\".\n",
    "\n",
    "In a `dict` hash table, there is a bucket for each item containing two fields: A reference to the key and a reference to the value of the item. All buckets have the same size, and access to an individual bucket is done by offset (index).\n",
    "\n",
    "Python truies to keep at least 1/3 of the buckets empty. If the hash table becomes too crowded, Python wil create a new one.\n",
    "\n",
    "To put an item in a hash table, first a *hash value* must be calculated (done with the built-in `hash` function).\n",
    "\n",
    "If to objects are equal, their hash must also be equal.\n",
    "\n",
    "Furthermore, hash values should scatter around the index space as much as possible (i.e. similar values can have wildly different hashes).\n",
    "\n",
    "For details on Python's hash algorithm, see **p. 94**. Summarised, the value at `my_dict[search_key]` is found by:\n",
    "\n",
    "1. Calling `hash(search_key)` to determine hash value\n",
    "\n",
    "    a. If found bucket is empty, return `KeyError`\n",
    "    \n",
    "    b. Otherwise, a `found_key:found_value` pair is found\n",
    "    \n",
    "    \n",
    "2. If 1.b., check if `search_key == found_key`\n",
    "   \n",
    "    a. If match, return `found_value`\n",
    "    \n",
    "    b. If `search_key != found_key`, we have a *hash collision*\n",
    "    \n",
    "    \n",
    "3. If 3.b., resolve hash collision.\n",
    "\n",
    "    a. If bucket is empty, return `KeyError`\n",
    "    \n",
    "    b. If the bucket is not empty, return `found_value`\n",
    "    \n",
    "    c. If none of the above, collision resolution process is repeated\n",
    "    \n",
    "The process to update or insert an item is the same, except that when an empty bucket is located, the new item is put there. When a bucket with a matching key is found, the value is overwritten.\n",
    "\n",
    "If the hash table is too crowded upon insertion, Python rebuilds it with more room."
   ]
  },
  {
   "cell_type": "markdown",
   "metadata": {},
   "source": [
    "### Practical Consequences of How `dict` Works\n",
    "\n",
    "**Keys must be hashable objects**, which requires:\n",
    "\n",
    "1. It supports the `hash` function via a `__hash__` method thatt always returns the same value over the lifetime of the object.\n",
    "\n",
    "2. It supports equality via an `__eq__` method.\n",
    "\n",
    "3. If `a == b` is `True`, the `hash(a) == hash(b)` must also be `True`.\n",
    "\n",
    "*Note:* If a custom `__eq__` is implemented, a suitable `__hash__` must also be impemented to ensure point 3. in the above list.\n",
    "\n",
    "**`dicts` have significant memory overhead**, because the required sparse arrays are not space efficient.\n",
    "\n",
    "**Key search is very fast**, regardless of the size of the hash table.\n",
    "\n",
    "**Key ordering depends on insertion order**. If a hash collision occurs, a key ends up in a position it would not normally occupy. This means that two `dict` types could compare equal even though their key orderings are different.\n",
    "\n",
    "**Adding items to a dict may change the order of the existing keys**. Because hash tables can be rebuilt, we cannot reliably predict when new hash collision might happen when adding items to the new table.\n",
    "\n",
    "*Note:* This is the reason why we should never modify the contents of a `dict` while iterating over it. Instead, read `dict` from start to finish and collect needed additions in a second `dict`. Then update first `dict` with contents of second `dict`.\n",
    "\n",
    "The `set` type is also implemented with hash tables, but each bucket contains only a reference to an element. Everything above also applies to `set`:\n",
    "\n",
    "* Set elements must be hashable.\n",
    "\n",
    "* Sets have significant memory overhead.\n",
    "\n",
    "* Membership testing is very efficient.\n",
    "\n",
    "* Element ordering depends on insertion order.\n",
    "\n",
    "* Adding elements to a set may change the order of other elements."
   ]
  }
 ],
 "metadata": {
  "kernelspec": {
   "display_name": "Python 3",
   "language": "python",
   "name": "python3"
  },
  "language_info": {
   "codemirror_mode": {
    "name": "ipython",
    "version": 3
   },
   "file_extension": ".py",
   "mimetype": "text/x-python",
   "name": "python",
   "nbconvert_exporter": "python",
   "pygments_lexer": "ipython3",
   "version": "3.7.3"
  }
 },
 "nbformat": 4,
 "nbformat_minor": 2
}
