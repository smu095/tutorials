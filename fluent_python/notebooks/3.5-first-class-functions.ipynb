{
 "cells": [
  {
   "cell_type": "markdown",
   "metadata": {},
   "source": [
    "# Chapter 5: First-Class Functions"
   ]
  },
  {
   "cell_type": "markdown",
   "metadata": {},
   "source": [
    "Functions in Python are first-class objects, meaning they can be\n",
    "\n",
    "* created at runtime,\n",
    "\n",
    "* assigned to a variable or element in a data structure,\n",
    "\n",
    "* passed as an argument to a function,\n",
    "\n",
    "* returned as the result of a function.\n",
    "\n",
    "Having first-class functions enables programming in a functional style."
   ]
  },
  {
   "cell_type": "markdown",
   "metadata": {},
   "source": [
    "## Treating a Function Like an Object"
   ]
  },
  {
   "cell_type": "markdown",
   "metadata": {},
   "source": [
    "The cells below show that `factorial` is an instance of the `function` class, e.g. we can read its `__doc__` attribute."
   ]
  },
  {
   "cell_type": "code",
   "execution_count": 1,
   "metadata": {},
   "outputs": [],
   "source": [
    "def factorial(n):\n",
    "    \"\"\"Returns n!\"\"\"\n",
    "    return 1 if n < 2 else n * factorial(n - 1)"
   ]
  },
  {
   "cell_type": "code",
   "execution_count": 2,
   "metadata": {},
   "outputs": [
    {
     "data": {
      "text/plain": [
       "'Returns n!'"
      ]
     },
     "execution_count": 2,
     "metadata": {},
     "output_type": "execute_result"
    }
   ],
   "source": [
    "factorial.__doc__"
   ]
  },
  {
   "cell_type": "code",
   "execution_count": 7,
   "metadata": {},
   "outputs": [
    {
     "name": "stdout",
     "output_type": "stream",
     "text": [
      "<class 'function'>\n"
     ]
    }
   ],
   "source": [
    "print(type(factorial))"
   ]
  },
  {
   "cell_type": "code",
   "execution_count": 8,
   "metadata": {},
   "outputs": [
    {
     "data": {
      "text/plain": [
       "120"
      ]
     },
     "execution_count": 8,
     "metadata": {},
     "output_type": "execute_result"
    }
   ],
   "source": [
    "fact = factorial\n",
    "fact(5)"
   ]
  },
  {
   "cell_type": "markdown",
   "metadata": {},
   "source": [
    "## Higher-Order Functions\n",
    "\n",
    "A function that takes a function as an argument or returns a function as a result is called a *higher-order function*, e.g. `sorted` which allows us to sort values using a one-argument function.\n",
    "\n",
    "Some of the most well-known built-in higher-order functions are `map`, `reduce`, `filter` and `apply`. The latter is deprecated, the three preceding functions are in most cases obsolete due to the introduction of listcomps and genexps."
   ]
  },
  {
   "cell_type": "code",
   "execution_count": 11,
   "metadata": {},
   "outputs": [
    {
     "name": "stdout",
     "output_type": "stream",
     "text": [
      "[1, 1, 2, 6, 24]\n",
      "[1, 1, 2, 6, 24]\n"
     ]
    }
   ],
   "source": [
    "# These two are equivalent\n",
    "maplist = list(map(factorial, range(5)))\n",
    "listcomp = [factorial(i) for i in range(5)]\n",
    "\n",
    "print(maplist)\n",
    "print(listcomp)"
   ]
  },
  {
   "cell_type": "markdown",
   "metadata": {},
   "source": [
    "`map` and `filter`return generators, so their direct substitute is a generator expression."
   ]
  },
  {
   "cell_type": "code",
   "execution_count": 12,
   "metadata": {},
   "outputs": [
    {
     "name": "stdout",
     "output_type": "stream",
     "text": [
      "1\n",
      "1\n"
     ]
    }
   ],
   "source": [
    "g1 = map(factorial, range(5))\n",
    "g2 = (factorial(i) for i in range(5))\n",
    "\n",
    "print(next(g1))\n",
    "print(next(g2))"
   ]
  },
  {
   "cell_type": "markdown",
   "metadata": {},
   "source": [
    "The `reduce` function was demoted from built-in to the `functools` module, and is largely replaced by the use of conditionals in listcomps. It's most common use, summation, has largely been replaced by the `sum` built-in."
   ]
  },
  {
   "cell_type": "code",
   "execution_count": 15,
   "metadata": {},
   "outputs": [
    {
     "data": {
      "text/plain": [
       "True"
      ]
     },
     "execution_count": 15,
     "metadata": {},
     "output_type": "execute_result"
    }
   ],
   "source": [
    "from functools import reduce\n",
    "from operator import add\n",
    "\n",
    "reduce(add, range(5)) == sum(range(5))"
   ]
  },
  {
   "cell_type": "markdown",
   "metadata": {},
   "source": [
    "Other reducing built-ins are `any(iterable)` and `all(iterable)`.\n",
    "\n",
    "`any` returns `True` if any element of `iterable` is truthy.\n",
    "\n",
    "`all` returns `True` if every element of `iterable` is truthy."
   ]
  },
  {
   "cell_type": "markdown",
   "metadata": {},
   "source": [
    "## Anonymous Functions\n",
    "\n",
    "Anonymous functions, or `lambda` functions, are handy when we need to create small one-off functions.\n",
    "\n",
    "The body of a `lambda` cannot make assignments or use any other Python statements, such as `while`, `try`, etc.\n",
    "\n",
    "The best recommended of an anonymous function is in the context of an argument list."
   ]
  },
  {
   "cell_type": "code",
   "execution_count": 17,
   "metadata": {},
   "outputs": [
    {
     "data": {
      "text/plain": [
       "['banana', 'apple', 'fig', 'raspberry', 'strawberry', 'cherry']"
      ]
     },
     "execution_count": 17,
     "metadata": {},
     "output_type": "execute_result"
    }
   ],
   "source": [
    "# Returns list sorted by reversed spelling\n",
    "fruits = [\"apple\", \"banana\", \"cherry\", \"raspberry\", \"strawberry\", \"fig\"]\n",
    "sorted(fruits, key=lambda word: word[::-1])"
   ]
  },
  {
   "cell_type": "markdown",
   "metadata": {},
   "source": [
    "### Lundh's Lambda Refactoring Recipe\n",
    "\n",
    "If an anonymous function is hard to understand:\n",
    "\n",
    "1. Write a comment explaining what `lambda` does.\n",
    "\n",
    "2. Think of a name that captures the essence of the `lambda`.\n",
    "\n",
    "3. Convert `lambda` to a `def` statement using that name.\n",
    "\n",
    "4. Remove the comment."
   ]
  },
  {
   "cell_type": "markdown",
   "metadata": {},
   "source": [
    "## The Seven Flavours of Callable Objects\n",
    "\n",
    "The call operator `()` may be applied to other objects beyond user-defined functions.\n",
    "\n",
    "To determine whether an object is callable, use the `callable()` built-in function.\n",
    "\n",
    "The Python Data Model documentation lists seven callable types:\n",
    "\n",
    "1. *User-defined functions*: Created with `def`/`lambda` expressions.\n",
    "\n",
    "2. *Built-in functions*: A function implemented in C (for CPython), like `len`.\n",
    "\n",
    "3. *Built-in methods*: Methods implemented in C, like `dict.get`.\n",
    "\n",
    "4. *Methods*: Functions defined in the body of a class.\n",
    "\n",
    "5. *Classes*: When invoked, a class runs its `__new__` method to create an instance, then `__init__` to initialise it before returning to caller. Because there is no `new` operator in Python, calling a class is like calling a function.\n",
    "\n",
    "6. *Class instances*: If a class defines a `__call__` method, then its instances may be invoked as functions.\n",
    "\n",
    "7. *Generator functions*: Functions or methods that use the `yield` keyword. When called, generator functions return a generator object."
   ]
  },
  {
   "cell_type": "markdown",
   "metadata": {},
   "source": [
    "## User-Defined Callable Types\n",
    "\n",
    "Implementing a `__call__` instance method will make any (arbitrary) Python object behave as a function.\n",
    "\n",
    "Implementing a `__call__` is an easy way to create function-like objects that have some internal stat that must be kept across invocations.\n",
    "\n",
    "Consider the example below, where `BingoCage` builds an instance from any iterable. Calling the instance pops an item."
   ]
  },
  {
   "cell_type": "code",
   "execution_count": 44,
   "metadata": {},
   "outputs": [
    {
     "name": "stdout",
     "output_type": "stream",
     "text": [
      "True\n"
     ]
    },
    {
     "data": {
      "text/plain": [
       "1"
      ]
     },
     "execution_count": 44,
     "metadata": {},
     "output_type": "execute_result"
    }
   ],
   "source": [
    "import random\n",
    "\n",
    "class BingoCage:\n",
    "    def __init__(self, items):\n",
    "        self._items = list(items)\n",
    "        random.shuffle(self._items)\n",
    "        \n",
    "    def pick(self):\n",
    "        try:\n",
    "            return self._items.pop()\n",
    "        except IndexError:\n",
    "            raise LookupError(\"pick from empty BingoCage\")\n",
    "            \n",
    "    def __call__(self):\n",
    "        return self.pick()\n",
    "    \n",
    "items = (1, 2, 3)\n",
    "bingo = BingoCage(items)\n",
    "\n",
    "# Check that callable\n",
    "print(callable(bingo))\n",
    "\n",
    "# Use class method ...\n",
    "bingo.pick()"
   ]
  },
  {
   "cell_type": "code",
   "execution_count": 45,
   "metadata": {},
   "outputs": [
    {
     "data": {
      "text/plain": [
       "3"
      ]
     },
     "execution_count": 45,
     "metadata": {},
     "output_type": "execute_result"
    }
   ],
   "source": [
    "# ... or treat as function\n",
    "bingo()"
   ]
  },
  {
   "cell_type": "markdown",
   "metadata": {},
   "source": [
    "## Function Introspection\n",
    "\n",
    "We can check which attributes are specific to functions that are not found in generic Python user-defined objects.\n",
    "\n",
    "See table 5-1 on **p. 154** for details."
   ]
  },
  {
   "cell_type": "code",
   "execution_count": 48,
   "metadata": {},
   "outputs": [
    {
     "data": {
      "text/plain": [
       "['__annotations__',\n",
       " '__call__',\n",
       " '__closure__',\n",
       " '__code__',\n",
       " '__defaults__',\n",
       " '__get__',\n",
       " '__globals__',\n",
       " '__kwdefaults__',\n",
       " '__name__',\n",
       " '__qualname__']"
      ]
     },
     "execution_count": 48,
     "metadata": {},
     "output_type": "execute_result"
    }
   ],
   "source": [
    "class C: pass\n",
    "def f(): pass\n",
    "sorted(set(dir(f)) - set(dir(C)))"
   ]
  },
  {
   "cell_type": "markdown",
   "metadata": {},
   "source": [
    "## From Positional to Keyword-Only Arguments"
   ]
  },
  {
   "cell_type": "markdown",
   "metadata": {},
   "source": [
    "`*` an`**` explode iterables and mappings into separate arguments when we call a function, providing a extremely flexible parameter handling mechanism.\n",
    "\n",
    "Keyword-only arguments will never capture positional arguments.\n",
    "\n",
    "To specify a keyword-only argument, name them after the argument prefixed with `*`.\n",
    "\n",
    "If you don't want to support variable positional arguments, but still want keyword-only arguments, put a `*` by itself in the signature."
   ]
  },
  {
   "cell_type": "code",
   "execution_count": 50,
   "metadata": {},
   "outputs": [
    {
     "ename": "TypeError",
     "evalue": "f() takes 1 positional argument but 2 were given",
     "output_type": "error",
     "traceback": [
      "\u001b[0;31m---------------------------------------\u001b[0m",
      "\u001b[0;31mTypeError\u001b[0mTraceback (most recent call last)",
      "\u001b[0;32m<ipython-input-50-e7c1b843e414>\u001b[0m in \u001b[0;36m<module>\u001b[0;34m\u001b[0m\n\u001b[1;32m      2\u001b[0m     \u001b[0;32mreturn\u001b[0m \u001b[0ma\u001b[0m\u001b[0;34m,\u001b[0m \u001b[0mb\u001b[0m\u001b[0;34m\u001b[0m\u001b[0;34m\u001b[0m\u001b[0m\n\u001b[1;32m      3\u001b[0m \u001b[0;34m\u001b[0m\u001b[0m\n\u001b[0;32m----> 4\u001b[0;31m \u001b[0mf\u001b[0m\u001b[0;34m(\u001b[0m\u001b[0;36m1\u001b[0m\u001b[0;34m,\u001b[0m \u001b[0;36m2\u001b[0m\u001b[0;34m)\u001b[0m\u001b[0;34m\u001b[0m\u001b[0;34m\u001b[0m\u001b[0m\n\u001b[0m",
      "\u001b[0;31mTypeError\u001b[0m: f() takes 1 positional argument but 2 were given"
     ]
    }
   ],
   "source": [
    "def f(a, *, b):\n",
    "    return a, b\n",
    "\n",
    "f(1, 2)"
   ]
  },
  {
   "cell_type": "code",
   "execution_count": 51,
   "metadata": {},
   "outputs": [
    {
     "data": {
      "text/plain": [
       "(1, 2)"
      ]
     },
     "execution_count": 51,
     "metadata": {},
     "output_type": "execute_result"
    }
   ],
   "source": [
    "f(1, b=2)"
   ]
  },
  {
   "cell_type": "markdown",
   "metadata": {},
   "source": [
    "## Retrieving Information About Parameters"
   ]
  },
  {
   "cell_type": "markdown",
   "metadata": {},
   "source": [
    "This section is about function introspection.\n",
    "\n",
    "Within a function object, the `__defaults__` attribute holds a tuple with the default values of postitional and keyword arguments.\n",
    "\n",
    "The defaults for keyword-only arguments appear in `__kwdefaults__`.\n",
    "\n",
    "The names of the arguments are found within thew `__code__` atrribute, which references a `code` object with many attributes of its own.\n",
    "\n",
    "### `inspect`\n",
    "\n",
    "The `inspect` module provides a framework for function introspection.\n",
    "\n",
    "`inspect.signature` returns an `inspect.Signature` object, which has a `parameters` attribute that grants access to reading an ordered mapping of `inspect.Parameter` objects. \n",
    "\n",
    "Each `Parameter` instance has attributes such as `name`, `default` and `kind`. The special value `inspect._empty` denotes parameters with no default (because `None` is a popular default value).\n",
    "\n",
    "The `kind` attribute holds one of five possible values from the `_ParameterKind` class:\n",
    "\n",
    "* `POSITIONAL_OR_KEYWORD`: Parameter that may be passed as a positional or keyword argument (most Python function parameters)\n",
    "\n",
    "* `VAR_POSTIONAL`: A `tuple` of positional parameters.\n",
    "\n",
    "* `VAR_KEYWORD`: A `dict` of parameters.\n",
    "\n",
    "* `KEYWORD_ONLY`: A keyword-only parameter.\n",
    "\n",
    "* `POSITIONAL_ONLY`: A positional-only parameter (at time of writing unsupported by Python but exemplified by existing functions written in C).\n",
    "\n",
    "Besides the above, `inspect.Parameter` objects have an `annotation` attribute containing function signature metadata (e.g. used in `mypy`).\n",
    "\n",
    "An `inspect.Signature` object has a `bind` method that takes any number of arguments and binds them to the parameters in the signature."
   ]
  },
  {
   "cell_type": "code",
   "execution_count": 129,
   "metadata": {},
   "outputs": [
    {
     "name": "stdout",
     "output_type": "stream",
     "text": [
      "POSITIONAL_OR_KEYWORD: a = <class 'inspect._empty'>\n",
      "POSITIONAL_OR_KEYWORD: b = 2\n",
      "\n",
      "POSITIONAL_OR_KEYWORD: a = <class 'inspect._empty'>\n",
      "KEYWORD_ONLY: b = 2\n",
      "\n",
      "KEYWORD_ONLY: a = <class 'inspect._empty'>\n",
      "\n",
      "VAR_POSITIONAL: args = <class 'inspect._empty'>\n",
      "VAR_KEYWORD: kwargs = <class 'inspect._empty'>\n",
      "\n"
     ]
    }
   ],
   "source": [
    "import inspect\n",
    "\n",
    "def f(a, b=2): pass\n",
    "sig = inspect.signature(f)\n",
    "for s in sig.parameters.values():\n",
    "    fmt = f\"{str(s.kind)}: {s.name} = {s.default}\"\n",
    "    print(fmt)\n",
    "print()\n",
    "\n",
    "def g(a, *, b=2): pass\n",
    "sig = inspect.signature(g)\n",
    "for s in sig.parameters.values():\n",
    "    fmt = f\"{str(s.kind)}: {s.name} = {s.default}\"\n",
    "    print(fmt)\n",
    "print()\n",
    "\n",
    "    \n",
    "def h(*, a): pass\n",
    "sig = inspect.signature(h)\n",
    "for s in sig.parameters.values():\n",
    "    fmt = f\"{str(s.kind)}: {s.name} = {s.default}\"\n",
    "    print(fmt)\n",
    "print()\n",
    "    \n",
    "    \n",
    "def j(*args, **kwargs): pass\n",
    "sig = inspect.signature(j)\n",
    "for s in sig.parameters.values():\n",
    "    fmt = f\"{str(s.kind)}: {s.name} = {s.default}\"\n",
    "    print(fmt)\n",
    "print()"
   ]
  },
  {
   "cell_type": "code",
   "execution_count": 137,
   "metadata": {},
   "outputs": [
    {
     "name": "stdout",
     "output_type": "stream",
     "text": [
      "a = 2\n",
      "b = 4\n"
     ]
    },
    {
     "ename": "TypeError",
     "evalue": "missing a required argument: 'a'",
     "output_type": "error",
     "traceback": [
      "\u001b[0;31m---------------------------------------\u001b[0m",
      "\u001b[0;31mTypeError\u001b[0mTraceback (most recent call last)",
      "\u001b[0;32m<ipython-input-137-dfc7c39be086>\u001b[0m in \u001b[0;36m<module>\u001b[0;34m\u001b[0m\n\u001b[1;32m      9\u001b[0m \u001b[0;31m# This will fail, because a is a required argument\u001b[0m\u001b[0;34m\u001b[0m\u001b[0;34m\u001b[0m\u001b[0;34m\u001b[0m\u001b[0m\n\u001b[1;32m     10\u001b[0m \u001b[0;32mdel\u001b[0m\u001b[0;34m(\u001b[0m\u001b[0mmy_args\u001b[0m\u001b[0;34m[\u001b[0m\u001b[0;34m\"a\"\u001b[0m\u001b[0;34m]\u001b[0m\u001b[0;34m)\u001b[0m\u001b[0;34m\u001b[0m\u001b[0;34m\u001b[0m\u001b[0m\n\u001b[0;32m---> 11\u001b[0;31m \u001b[0mbound_args\u001b[0m \u001b[0;34m=\u001b[0m \u001b[0msig\u001b[0m\u001b[0;34m.\u001b[0m\u001b[0mbind\u001b[0m\u001b[0;34m(\u001b[0m\u001b[0;34m**\u001b[0m\u001b[0mmy_args\u001b[0m\u001b[0;34m)\u001b[0m\u001b[0;34m\u001b[0m\u001b[0;34m\u001b[0m\u001b[0m\n\u001b[0m",
      "\u001b[0;32m/miniconda3/envs/ml/lib/python3.7/inspect.py\u001b[0m in \u001b[0;36mbind\u001b[0;34m(*args, **kwargs)\u001b[0m\n\u001b[1;32m   3013\u001b[0m         \u001b[0;32mif\u001b[0m \u001b[0mthe\u001b[0m \u001b[0mpassed\u001b[0m \u001b[0marguments\u001b[0m \u001b[0mcan\u001b[0m \u001b[0;32mnot\u001b[0m \u001b[0mbe\u001b[0m \u001b[0mbound\u001b[0m\u001b[0;34m.\u001b[0m\u001b[0;34m\u001b[0m\u001b[0;34m\u001b[0m\u001b[0m\n\u001b[1;32m   3014\u001b[0m         \"\"\"\n\u001b[0;32m-> 3015\u001b[0;31m         \u001b[0;32mreturn\u001b[0m \u001b[0margs\u001b[0m\u001b[0;34m[\u001b[0m\u001b[0;36m0\u001b[0m\u001b[0;34m]\u001b[0m\u001b[0;34m.\u001b[0m\u001b[0m_bind\u001b[0m\u001b[0;34m(\u001b[0m\u001b[0margs\u001b[0m\u001b[0;34m[\u001b[0m\u001b[0;36m1\u001b[0m\u001b[0;34m:\u001b[0m\u001b[0;34m]\u001b[0m\u001b[0;34m,\u001b[0m \u001b[0mkwargs\u001b[0m\u001b[0;34m)\u001b[0m\u001b[0;34m\u001b[0m\u001b[0;34m\u001b[0m\u001b[0m\n\u001b[0m\u001b[1;32m   3016\u001b[0m \u001b[0;34m\u001b[0m\u001b[0m\n\u001b[1;32m   3017\u001b[0m     \u001b[0;32mdef\u001b[0m \u001b[0mbind_partial\u001b[0m\u001b[0;34m(\u001b[0m\u001b[0;34m*\u001b[0m\u001b[0margs\u001b[0m\u001b[0;34m,\u001b[0m \u001b[0;34m**\u001b[0m\u001b[0mkwargs\u001b[0m\u001b[0;34m)\u001b[0m\u001b[0;34m:\u001b[0m\u001b[0;34m\u001b[0m\u001b[0;34m\u001b[0m\u001b[0m\n",
      "\u001b[0;32m/miniconda3/envs/ml/lib/python3.7/inspect.py\u001b[0m in \u001b[0;36m_bind\u001b[0;34m(self, args, kwargs, partial)\u001b[0m\n\u001b[1;32m   2928\u001b[0m                             \u001b[0mmsg\u001b[0m \u001b[0;34m=\u001b[0m \u001b[0;34m'missing a required argument: {arg!r}'\u001b[0m\u001b[0;34m\u001b[0m\u001b[0;34m\u001b[0m\u001b[0m\n\u001b[1;32m   2929\u001b[0m                             \u001b[0mmsg\u001b[0m \u001b[0;34m=\u001b[0m \u001b[0mmsg\u001b[0m\u001b[0;34m.\u001b[0m\u001b[0mformat\u001b[0m\u001b[0;34m(\u001b[0m\u001b[0marg\u001b[0m\u001b[0;34m=\u001b[0m\u001b[0mparam\u001b[0m\u001b[0;34m.\u001b[0m\u001b[0mname\u001b[0m\u001b[0;34m)\u001b[0m\u001b[0;34m\u001b[0m\u001b[0;34m\u001b[0m\u001b[0m\n\u001b[0;32m-> 2930\u001b[0;31m                             \u001b[0;32mraise\u001b[0m \u001b[0mTypeError\u001b[0m\u001b[0;34m(\u001b[0m\u001b[0mmsg\u001b[0m\u001b[0;34m)\u001b[0m \u001b[0;32mfrom\u001b[0m \u001b[0;32mNone\u001b[0m\u001b[0;34m\u001b[0m\u001b[0;34m\u001b[0m\u001b[0m\n\u001b[0m\u001b[1;32m   2931\u001b[0m             \u001b[0;32melse\u001b[0m\u001b[0;34m:\u001b[0m\u001b[0;34m\u001b[0m\u001b[0;34m\u001b[0m\u001b[0m\n\u001b[1;32m   2932\u001b[0m                 \u001b[0;31m# We have a positional argument to process\u001b[0m\u001b[0;34m\u001b[0m\u001b[0;34m\u001b[0m\u001b[0;34m\u001b[0m\u001b[0m\n",
      "\u001b[0;31mTypeError\u001b[0m: missing a required argument: 'a'"
     ]
    }
   ],
   "source": [
    "def f(a, b=2): pass\n",
    "sig = inspect.signature(f)\n",
    "my_args = {\"a\": 2, \"b\": 4}\n",
    "bound_args = sig.bind(**my_args)\n",
    "\n",
    "for name, value in bound_args.arguments.items():\n",
    "    print(name, \"=\", value)\n",
    "    \n",
    "# This will fail, because a is a required argument\n",
    "del(my_args[\"a\"])\n",
    "bound_args = sig.bind(**my_args)"
   ]
  },
  {
   "cell_type": "markdown",
   "metadata": {},
   "source": [
    "## Function Annotations\n",
    "\n",
    "Python 3 provides syntax to attach metadata to the parameters of a function declaration and return its value.\n",
    "\n",
    "Each argument in a function declaration may have an annotation expression preceded by `:`. \n",
    "\n",
    "If there is a default value, the annotation goes between the name and the `=` sign.\n",
    "\n",
    "To annotate a return value, add `->` between the `)` and the `:` at the tail of the function declaration.\n",
    "\n",
    "The expressions may be of any type. No processing is done with the annotations. They are merely stored in the `__annotations__` attribute of the function (a `dict`)."
   ]
  },
  {
   "cell_type": "code",
   "execution_count": 140,
   "metadata": {},
   "outputs": [],
   "source": [
    "def f(a: int, b: \"int > 0\"=2): pass"
   ]
  },
  {
   "cell_type": "code",
   "execution_count": 141,
   "metadata": {},
   "outputs": [
    {
     "data": {
      "text/plain": [
       "{'a': int, 'b': 'int > 0'}"
      ]
     },
     "execution_count": 141,
     "metadata": {},
     "output_type": "execute_result"
    }
   ],
   "source": [
    "f.__annotations__"
   ]
  },
  {
   "cell_type": "code",
   "execution_count": 144,
   "metadata": {},
   "outputs": [
    {
     "name": "stdout",
     "output_type": "stream",
     "text": [
      "<class 'int'>\n",
      "'int > 0'\n"
     ]
    }
   ],
   "source": [
    "import inspect\n",
    "\n",
    "sig = inspect.signature(f)\n",
    "for param in sig.parameters.values():\n",
    "    print(repr(param.annotation))"
   ]
  },
  {
   "cell_type": "markdown",
   "metadata": {},
   "source": [
    "## Packages for Functional Programming\n",
    "\n",
    "### `operator` \n",
    "\n",
    "The `operator` module provides function equivalents for dozens of arithmetic operators (convenient in a functional programming approach), saving us the trouble of writing trivial `lambda` expressions."
   ]
  },
  {
   "cell_type": "code",
   "execution_count": 146,
   "metadata": {},
   "outputs": [],
   "source": [
    "from functools import reduce\n",
    "\n",
    "# Without function from operator\n",
    "def fact(n):\n",
    "    return reduce(lambda a, b: a*b, range(1, n + 1))\n",
    "\n",
    "# With\n",
    "from operator import mul\n",
    "def fact_op(n):\n",
    "    return reduce(mul, range(1, n + 1))\n",
    "\n",
    "assert fact(5) == fact_op(5)"
   ]
  },
  {
   "cell_type": "markdown",
   "metadata": {},
   "source": [
    "`itemgetter` and `attrgetter` build custom functions to to pick items from sequences or read attributes from objects.\n",
    "\n",
    "`itemgetter` supports mappings and any class that implements `__getitem__`.\n",
    "\n",
    "`itemgetter` is typically used to sort tuples by value of a field."
   ]
  },
  {
   "cell_type": "code",
   "execution_count": 158,
   "metadata": {},
   "outputs": [
    {
     "name": "stdout",
     "output_type": "stream",
     "text": [
      "('B', 'M', 7)\n",
      "('C', 'Y', 6)\n",
      "('A', 'Z', 1)\n"
     ]
    }
   ],
   "source": [
    "from operator import itemgetter\n",
    "stuff = [\n",
    "    (\"A\", \"Z\", 1),\n",
    "    (\"C\", \"Y\", 6),\n",
    "    (\"B\", \"M\", 7),\n",
    "]\n",
    "\n",
    "# Sort the list by field 1\n",
    "for s in sorted(stuff, key=itemgetter(1)):\n",
    "    print(s)"
   ]
  },
  {
   "cell_type": "code",
   "execution_count": 156,
   "metadata": {},
   "outputs": [
    {
     "name": "stdout",
     "output_type": "stream",
     "text": [
      "('A', 'Z', 1)\n",
      "('C', 'Y', 6)\n",
      "('B', 'M', 7)\n"
     ]
    }
   ],
   "source": [
    "# Sort the list by field 2\n",
    "for s in sorted(stuff, key=itemgetter(2)):\n",
    "    print(s)"
   ]
  },
  {
   "cell_type": "markdown",
   "metadata": {},
   "source": [
    "If multiple values are passed, the `itemgetter` will build and return tuples with the extracted values."
   ]
  },
  {
   "cell_type": "code",
   "execution_count": 157,
   "metadata": {},
   "outputs": [
    {
     "name": "stdout",
     "output_type": "stream",
     "text": [
      "('Z', 'A')\n",
      "('Y', 'C')\n",
      "('M', 'B')\n"
     ]
    }
   ],
   "source": [
    "# Pick field 1 and 0, build and return new tuple\n",
    "get_stuff = itemgetter(1, 0)\n",
    "for thing in stuff:\n",
    "    print(get_stuff(thing))"
   ]
  },
  {
   "cell_type": "markdown",
   "metadata": {},
   "source": [
    "`attrgetter` creates functions to extract object attributes by name. If passed several attribute names, `attrgetter` will return a tuple of values.\n",
    "\n",
    "If any argument name to `attrgetter` contains a `.` (dot), it will navigate through nested objects to retrieve the attribute."
   ]
  },
  {
   "cell_type": "code",
   "execution_count": 183,
   "metadata": {},
   "outputs": [],
   "source": [
    "from collections import namedtuple\n",
    "\n",
    "metro_data = [(\"Tokyo\", \"JP\", 36.933, (35.689722, 139.691667))]\n",
    "\n",
    "LatLong = namedtuple(\"LatLong\", \"lat long\")\n",
    "Metropolis = namedtuple(\"Metropolis\", \"name cc pop coord\")\n",
    "\n",
    "metro_areas = [\n",
    "    Metropolis(name, cc, pop, LatLong(lat, long)) \n",
    "    for name, cc, pop, (lat, long)\n",
    "    in metro_data\n",
    "]"
   ]
  },
  {
   "cell_type": "code",
   "execution_count": 186,
   "metadata": {},
   "outputs": [
    {
     "name": "stdout",
     "output_type": "stream",
     "text": [
      "('Tokyo', 35.689722)\n"
     ]
    }
   ],
   "source": [
    "from operator import attrgetter\n",
    "\n",
    "name_lat = attrgetter(\"name\", \"coord.lat\")\n",
    "\n",
    "for area in metro_areas:\n",
    "    print(name_lat(area))"
   ]
  },
  {
   "cell_type": "markdown",
   "metadata": {},
   "source": [
    "`methodcaller` returns a function that calls a method by name on the object given as an argument. See **p. 166** for details."
   ]
  },
  {
   "cell_type": "markdown",
   "metadata": {},
   "source": [
    "## Freezing Arguments with `functools.partial`"
   ]
  },
  {
   "cell_type": "markdown",
   "metadata": {},
   "source": [
    "`functools.partial` is a higher-order functions that allows partial application of a function.\n",
    "\n",
    "Given a function, a partial application produces a new callable with some of the arguments of the original function fixed.\n",
    "\n",
    "`functools.partialmethod` does the same, but is designed to work with methods."
   ]
  }
 ],
 "metadata": {
  "kernelspec": {
   "display_name": "Python 3",
   "language": "python",
   "name": "python3"
  },
  "language_info": {
   "codemirror_mode": {
    "name": "ipython",
    "version": 3
   },
   "file_extension": ".py",
   "mimetype": "text/x-python",
   "name": "python",
   "nbconvert_exporter": "python",
   "pygments_lexer": "ipython3",
   "version": "3.7.3"
  }
 },
 "nbformat": 4,
 "nbformat_minor": 2
}
