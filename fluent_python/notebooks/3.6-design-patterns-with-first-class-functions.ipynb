{
 "cells": [
  {
   "cell_type": "markdown",
   "metadata": {},
   "source": [
    "# Chapter 6: Design Patterns with First-Class Functions"
   ]
  },
  {
   "cell_type": "markdown",
   "metadata": {},
   "source": [
    "From [Wikipedia](https://en.wikipedia.org/wiki/Software_design_pattern):\n",
    "\n",
    "> In software engineering, a **software design pattern** is a general, reusable solution to a commonly occurring problem within a given context in software design. It is not a finished design that can be transformed directly into source or machine code. Rather, it is a description or template for how to solve a problem that can be used in many different situations. Design patterns are formalized best practices that the programmer can use to solve common problems when designing an application or system."
   ]
  },
  {
   "cell_type": "markdown",
   "metadata": {},
   "source": [
    "In the context of languages with first-class functions, the [Strategy](https://en.wikipedia.org/wiki/Strategy_pattern), [Command](https://en.wikipedia.org/wiki/Command_pattern), [Template Method](https://en.wikipedia.org/wiki/Template_method_pattern), and [Visitor](https://en.wikipedia.org/wiki/Visitor_pattern) patterns can be reimagined.\n",
    "\n",
    "The general idea is that one can replace instances of some participant in these patterns with simple functions, thus reducing boilerplate code."
   ]
  },
  {
   "cell_type": "markdown",
   "metadata": {},
   "source": [
    "## Case Study: Refactoring Strategy\n",
    "\n",
    "The classic [Strategy](https://en.wikipedia.org/wiki/Strategy_pattern) design pattern is summarised like this in [*Design Patterns*](https://www.bookdepository.com/Design-Patterns/9780201633610):\n",
    "\n",
    "> Define a family of algorithms, encapsulate each one, and make the interchangeable. Strategy lets the algorithm vary independently from clients using it.\n",
    "\n",
    "**Example 6-1.** An online store has the following discount rules:\n",
    "\n",
    "* Customers with 1000 or more fidelity points get a global\n",
    "l 5% discount per order.\n",
    "\n",
    "* A 10% discount is applied to each line item with 20 or more units in the same order.\n",
    "\n",
    "* Order with at least 10 distinct items get a 7% global discount.\n",
    "\n",
    "The participants in the Strategy design pattern are:\n",
    "\n",
    "* *Context*: Provides a service by delegating some computation to interchangeable components that implement alternative algorithms.\n",
    "\n",
    "* *Strategy*: The interface common to the components that implement the different algorithms.\n",
    "\n",
    "* *Concrete Strategy*: One of the concrete subclasses of Strategy.\n",
    "\n",
    "In this example, before instantiating an order, the system would somehow select a promotional discount strategy and pass it to the `Order` constructor. How to do this is beyond the scope of the example."
   ]
  },
  {
   "cell_type": "markdown",
   "metadata": {},
   "source": [
    "### Classic Strategy"
   ]
  },
  {
   "cell_type": "code",
   "execution_count": 1,
   "metadata": {},
   "outputs": [],
   "source": [
    "from abc import ABC, abstractmethod\n",
    "from dataclasses import dataclass\n",
    "from collections import namedtuple\n",
    "\n",
    "Customer = namedtuple(\"Customer\", \"name fidelity\")\n",
    "\n",
    "@dataclass\n",
    "class LineItem:\n",
    "    product: str\n",
    "    quantity: int\n",
    "    price: float\n",
    "        \n",
    "    def total(self):\n",
    "        return self.price * self.quantity\n",
    "    \n",
    "    \n",
    "# Context\n",
    "class Order:\n",
    "    \n",
    "    def __init__(self, customer, cart, promotion=None):\n",
    "        self.customer = customer\n",
    "        self.cart = list(cart)\n",
    "        self.promotion = promotion\n",
    "        \n",
    "    def total(self):\n",
    "        if not hasattr(self, \"__total\"):\n",
    "            self.__total = sum(item.total() for item in self.cart)\n",
    "        return self.__total # Note double leading underscore to prevent accidental modification\n",
    "    \n",
    "    def due(self):\n",
    "        if self.promotion is None:\n",
    "            discount = 0\n",
    "        else:\n",
    "            discount = self.promotion.discount(self)\n",
    "        return self.total() - discount\n",
    "    \n",
    "    def __repr__(self):\n",
    "        fmt = \"<Order total: {:.2f} due {:.2f}\"\n",
    "        return fmt.format(self.total(), self.due())\n",
    "\n",
    "    \n",
    "# Strategy\n",
    "class Promotion(ABC):\n",
    "    \n",
    "    @abstractmethod\n",
    "    def discount(self, order):\n",
    "        \"\"\"Return discount as positive dollar amount.\"\"\"\n",
    "      \n",
    "    \n",
    "# Concrete strategies\n",
    "class FidelityPromo(Promotion):\n",
    "    \n",
    "    def discount(self, order):\n",
    "        \"\"\"5% discount for customers with 1000 or more fidelity points.\"\"\"\n",
    "        return order.total() * .05 if order.customer.fidelity >= 1000 else 0\n",
    "\n",
    "    \n",
    "class BulkItemPromo(Promotion):\n",
    "    \n",
    "    def discount(self, order):\n",
    "        \"\"\"10% discount for line orders with 20 or more units.\"\"\"\n",
    "        discount = 0\n",
    "        for item in order.cart:\n",
    "            if item.quantity >= 20:\n",
    "                discount += item.total() * .1\n",
    "        return discount\n",
    "    \n",
    "    \n",
    "class LargeOrderPromo(Promotion):\n",
    "    \n",
    "    def discount(self, order):\n",
    "        \"7% discount on orders with at least 10 distinct items.\"\n",
    "        distinct_items = {item.product for item in order.cart}\n",
    "        if len(distinct_items) >= 10 :\n",
    "            return order.total() * .07\n",
    "        else:\n",
    "            return 0    \n"
   ]
  },
  {
   "cell_type": "code",
   "execution_count": 2,
   "metadata": {},
   "outputs": [
    {
     "data": {
      "text/plain": [
       "[LineItem(product='banana', quantity=4, price=0.5),\n",
       " LineItem(product='apple', quantity=10, price=1.5),\n",
       " LineItem(product='watermelon', quantity=5, price=5.0)]"
      ]
     },
     "execution_count": 2,
     "metadata": {},
     "output_type": "execute_result"
    }
   ],
   "source": [
    "# Usage example\n",
    "joe = Customer(name=\"John Doe\", fidelity=0)\n",
    "ann = Customer(name=\"Ann Smith\", fidelity=1100)\n",
    "\n",
    "items = [\n",
    "    (\"banana\", 4, .5),\n",
    "    (\"apple\", 10, 1.5),\n",
    "    (\"watermelon\", 5, 5.0),\n",
    "]\n",
    "\n",
    "cart = [LineItem(item, n, price) for item, n, price in items]\n",
    "cart"
   ]
  },
  {
   "cell_type": "code",
   "execution_count": 3,
   "metadata": {},
   "outputs": [
    {
     "data": {
      "text/plain": [
       "<Order total: 42.00 due 42.00"
      ]
     },
     "execution_count": 3,
     "metadata": {},
     "output_type": "execute_result"
    }
   ],
   "source": [
    "Order(joe, cart, FidelityPromo())"
   ]
  },
  {
   "cell_type": "code",
   "execution_count": 4,
   "metadata": {},
   "outputs": [
    {
     "data": {
      "text/plain": [
       "<Order total: 42.00 due 39.90"
      ]
     },
     "execution_count": 4,
     "metadata": {},
     "output_type": "execute_result"
    }
   ],
   "source": [
    "Order(ann, cart, FidelityPromo())"
   ]
  },
  {
   "cell_type": "code",
   "execution_count": 5,
   "metadata": {},
   "outputs": [],
   "source": [
    "banana_cart = [\n",
    "    LineItem(\"banana\", 30, .5),\n",
    "    LineItem(\"apple\", 10, 1.5),\n",
    "]"
   ]
  },
  {
   "cell_type": "code",
   "execution_count": 6,
   "metadata": {},
   "outputs": [
    {
     "data": {
      "text/plain": [
       "<Order total: 30.00 due 28.50"
      ]
     },
     "execution_count": 6,
     "metadata": {},
     "output_type": "execute_result"
    }
   ],
   "source": [
    "Order(joe, banana_cart, BulkItemPromo())"
   ]
  },
  {
   "cell_type": "code",
   "execution_count": 7,
   "metadata": {},
   "outputs": [
    {
     "data": {
      "text/plain": [
       "<Order total: 30.00 due 28.50"
      ]
     },
     "execution_count": 7,
     "metadata": {},
     "output_type": "execute_result"
    }
   ],
   "source": [
    "Order(ann, banana_cart, BulkItemPromo())"
   ]
  },
  {
   "cell_type": "markdown",
   "metadata": {},
   "source": [
    "### Function-Oriented Strategy"
   ]
  },
  {
   "cell_type": "markdown",
   "metadata": {},
   "source": [
    "Each concrete strategy in the classic Strategy has a single method `discount`, and the strategy instances have no instance attributes.\n",
    "\n",
    "We can refactor, replacing the concrete strategies with functions."
   ]
  },
  {
   "cell_type": "code",
   "execution_count": 8,
   "metadata": {},
   "outputs": [],
   "source": [
    "from abc import ABC, abstractmethod\n",
    "from dataclasses import dataclass\n",
    "from collections import namedtuple\n",
    "\n",
    "Customer = namedtuple(\"Customer\", \"name fidelity\")\n",
    "\n",
    "@dataclass\n",
    "class LineItem:\n",
    "    product: str\n",
    "    quantity: int\n",
    "    price: float\n",
    "        \n",
    "    def total(self):\n",
    "        return self.price * self.quantity\n",
    "    \n",
    "    \n",
    "# Context\n",
    "class Order:\n",
    "    \n",
    "    def __init__(self, customer, cart, promotion=None):\n",
    "        self.customer = customer\n",
    "        self.cart = list(cart)\n",
    "        self.promotion = promotion\n",
    "        \n",
    "    def total(self):\n",
    "        if not hasattr(self, \"__total\"):\n",
    "            self.__total = sum(item.total() for item in self.cart)\n",
    "        return self.__total # Note double leading underscore to prevent accidental modification\n",
    "    \n",
    "    def due(self):\n",
    "        if self.promotion is None:\n",
    "            discount = 0\n",
    "        else:\n",
    "            discount = self.promotion(self)\n",
    "        return self.total() - discount\n",
    "    \n",
    "    def __repr__(self):\n",
    "        fmt = \"<Order total: {:.2f} due {:.2f}\"\n",
    "        return fmt.format(self.total(), self.due())\n",
    "\n",
    "    \n",
    "# Note: No abstract class\n",
    "      \n",
    "# Concrete strategies\n",
    "def fidelity_promo(order):\n",
    "    \"\"\"5% discount for customers with 1000 or more fidelity points.\"\"\"\n",
    "    return order.total() * .05 if order.customer.fidelity >= 1000 else 0\n",
    "\n",
    "    \n",
    "def bulk_item_promo(order):\n",
    "    \"\"\"10% discount for line orders with 20 or more units.\"\"\"\n",
    "    discount = 0\n",
    "    for item in order.cart:\n",
    "        if item.quantity >= 20:\n",
    "            discount += item.total() * .1\n",
    "    return discount\n",
    "    \n",
    "    \n",
    "def large_order_promo(order):\n",
    "    \"7% discount on orders with at least 10 distinct items.\"\n",
    "    distinct_items = {item.product for item in order.cart}\n",
    "    if len(distinct_items) >= 10 :\n",
    "        return order.total() * .07\n",
    "    else:\n",
    "        return 0    \n"
   ]
  },
  {
   "cell_type": "code",
   "execution_count": 22,
   "metadata": {},
   "outputs": [],
   "source": [
    "# Usage example\n",
    "joe = Customer(name=\"John Doe\", fidelity=0)\n",
    "ann = Customer(name=\"Ann Smith\", fidelity=1100)\n",
    "\n",
    "items = [\n",
    "    (\"banana\", 4, .5),\n",
    "    (\"apple\", 10, 1.5),\n",
    "    (\"watermelon\", 5, 5.0),\n",
    "]\n",
    "\n",
    "cart = [LineItem(item, n, price) for item, n, price in items]"
   ]
  },
  {
   "cell_type": "code",
   "execution_count": 23,
   "metadata": {},
   "outputs": [
    {
     "data": {
      "text/plain": [
       "<Order total: 42.00 due 42.00"
      ]
     },
     "execution_count": 23,
     "metadata": {},
     "output_type": "execute_result"
    }
   ],
   "source": [
    "Order(joe, cart, fidelity_promo)"
   ]
  },
  {
   "cell_type": "code",
   "execution_count": 24,
   "metadata": {},
   "outputs": [
    {
     "data": {
      "text/plain": [
       "<Order total: 42.00 due 39.90"
      ]
     },
     "execution_count": 24,
     "metadata": {},
     "output_type": "execute_result"
    }
   ],
   "source": [
    "Order(ann, cart, fidelity_promo)"
   ]
  },
  {
   "cell_type": "code",
   "execution_count": 12,
   "metadata": {},
   "outputs": [],
   "source": [
    "banana_cart = [\n",
    "    LineItem(\"banana\", 30, .5),\n",
    "    LineItem(\"apple\", 10, 1.5),\n",
    "]"
   ]
  },
  {
   "cell_type": "code",
   "execution_count": 13,
   "metadata": {},
   "outputs": [
    {
     "data": {
      "text/plain": [
       "<Order total: 30.00 due 28.50"
      ]
     },
     "execution_count": 13,
     "metadata": {},
     "output_type": "execute_result"
    }
   ],
   "source": [
    "Order(joe, banana_cart, bulk_item_promo)"
   ]
  },
  {
   "cell_type": "code",
   "execution_count": 14,
   "metadata": {},
   "outputs": [
    {
     "data": {
      "text/plain": [
       "<Order total: 30.00 due 28.50"
      ]
     },
     "execution_count": 14,
     "metadata": {},
     "output_type": "execute_result"
    }
   ],
   "source": [
    "Order(ann, banana_cart, bulk_item_promo)"
   ]
  },
  {
   "cell_type": "markdown",
   "metadata": {},
   "source": [
    "## Choosing the Best Strategy\n",
    "\n",
    "There are several approaches to create a \"meta-strategy\", that give the customer the best possible deal if several promos are valid (see **p. 181**).\n",
    "\n",
    "One possible approach is to gather the promo functions in a separate module (containing _only_ promo functions).\n",
    "\n",
    "We can use the function `inspect.getmembers` to return the attributes of an object (the `promotions` module) and use the predicate `inspect.isfunction` to return only the functions."
   ]
  },
  {
   "cell_type": "code",
   "execution_count": 26,
   "metadata": {},
   "outputs": [],
   "source": [
    "import inspect\n",
    "from examples.ecommerce_meta import Order\n",
    "import examples.promotions as promotions\n",
    "\n",
    "promos = [func for name, func in inspect.getmembers(promotions, inspect.isfunction)]\n",
    "\n",
    "def best_promo(order):\n",
    "    \"\"\"Select best discount available.\"\"\"\n",
    "    return max(promo(order) for promo in promos)"
   ]
  },
  {
   "cell_type": "code",
   "execution_count": 30,
   "metadata": {},
   "outputs": [],
   "source": [
    "# Usage example\n",
    "joe = Customer(name=\"John Doe\", fidelity=0)\n",
    "ann = Customer(name=\"Ann Smith\", fidelity=1100)\n",
    "\n",
    "items = [\n",
    "    (\"banana\", 30, .5), # Increased number of bananas\n",
    "    (\"apple\", 10, 1.5),\n",
    "    (\"watermelon\", 5, 5.0),\n",
    "]\n",
    "\n",
    "cart = [LineItem(item, n, price) for item, n, price in items]"
   ]
  },
  {
   "cell_type": "code",
   "execution_count": 31,
   "metadata": {},
   "outputs": [
    {
     "data": {
      "text/plain": [
       "<Order total: 55.00 due 53.50"
      ]
     },
     "execution_count": 31,
     "metadata": {},
     "output_type": "execute_result"
    }
   ],
   "source": [
    "Order(joe, cart, best_promo)"
   ]
  },
  {
   "cell_type": "code",
   "execution_count": 32,
   "metadata": {},
   "outputs": [
    {
     "data": {
      "text/plain": [
       "<Order total: 55.00 due 52.25"
      ]
     },
     "execution_count": 32,
     "metadata": {},
     "output_type": "execute_result"
    }
   ],
   "source": [
    "Order(ann, cart, best_promo)"
   ]
  },
  {
   "cell_type": "markdown",
   "metadata": {},
   "source": [
    "## Command"
   ]
  },
  {
   "cell_type": "code",
   "execution_count": null,
   "metadata": {},
   "outputs": [],
   "source": []
  }
 ],
 "metadata": {
  "kernelspec": {
   "display_name": "Python 3",
   "language": "python",
   "name": "python3"
  },
  "language_info": {
   "codemirror_mode": {
    "name": "ipython",
    "version": 3
   },
   "file_extension": ".py",
   "mimetype": "text/x-python",
   "name": "python",
   "nbconvert_exporter": "python",
   "pygments_lexer": "ipython3",
   "version": "3.8.1"
  }
 },
 "nbformat": 4,
 "nbformat_minor": 2
}
