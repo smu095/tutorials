{
 "cells": [
  {
   "cell_type": "markdown",
   "metadata": {},
   "source": [
    "# Chapter 7: Function Decorators and Closures\n",
    "\n",
    "The goal of this chapter is to explain how function decorators work. This requires understanding:\n",
    "\n",
    "* How Python evaluates decorator syntax\n",
    "\n",
    "* How Python decides whether a variable is local\n",
    "\n",
    "* Why closures exist and how the work\n",
    "\n",
    "* What problem is solved by `nonlocal`\n",
    "\n",
    "This is helpful when tackling further decorator topics, such as:\n",
    "\n",
    "* Implementing a well-behaved decorator\n",
    "\n",
    "* Interesting decorators in the standard library\n",
    "\n",
    "* Implementing a parameterised decorator"
   ]
  },
  {
   "cell_type": "markdown",
   "metadata": {},
   "source": [
    "## Decorators 101\n",
    "\n",
    "A decorator is a callable that takes another function as an argument (the decorated function).\n",
    "\n",
    "The decorator may perform some processing with the decorated function, and returns it or replaces it with another function or callable object."
   ]
  },
  {
   "cell_type": "code",
   "execution_count": 1,
   "metadata": {},
   "outputs": [
    {
     "name": "stdout",
     "output_type": "stream",
     "text": [
      "running inner()\n"
     ]
    }
   ],
   "source": [
    "# Example 7-1. A decorater usually replaces a function with a different one.\n",
    "def deco(func):\n",
    "    def inner():\n",
    "        print(\"running inner()\")\n",
    "    return inner\n",
    "\n",
    "@deco\n",
    "def target():\n",
    "    print(\"running target()\")\n",
    "    \n",
    "target()"
   ]
  },
  {
   "cell_type": "markdown",
   "metadata": {},
   "source": [
    "## When Python Executes Decorators\n",
    "\n",
    "A key feature of decorators is that they run right after the decorated function is defined.\n",
    "\n",
    "This is usually at *import time* (i.e. when a module is loaded by Python)."
   ]
  },
  {
   "cell_type": "code",
   "execution_count": 3,
   "metadata": {},
   "outputs": [
    {
     "name": "stdout",
     "output_type": "stream",
     "text": [
      "running register(<function f1 at 0x1082d65e0>)\n",
      "running register(<function f2 at 0x1082d68b0>)\n",
      "running main()\n",
      "registery -> [<function f1 at 0x1082d65e0>, <function f2 at 0x1082d68b0>]\n",
      "running f1()\n",
      "running f2()\n",
      "running f3()\n"
     ]
    }
   ],
   "source": [
    "# Example 7-2. The registration.py module.\n",
    "registery = []\n",
    "\n",
    "def register(func):\n",
    "    print(\"running register(%s)\" % func)\n",
    "    registery.append(func)\n",
    "    return func\n",
    "\n",
    "@register\n",
    "def f1():\n",
    "    print(\"running f1()\")\n",
    "    \n",
    "@register\n",
    "def f2():\n",
    "    print(\"running f2()\")\n",
    "    \n",
    "def f3():\n",
    "    print(\"running f3()\")\n",
    "    \n",
    "def main():\n",
    "    print(\"running main()\")\n",
    "    print(\"registery ->\", registery)\n",
    "    f1()\n",
    "    f2()\n",
    "    f3()\n",
    "    \n",
    "if __name__ == \"__main__\":\n",
    "    main()\n",
    "    "
   ]
  },
  {
   "cell_type": "markdown",
   "metadata": {},
   "source": [
    "Note that `register` runs twice before any other function in the module. \n",
    "\n",
    "When `register` is called, it receives as an argument the function object being decorated.\n",
    "\n",
    "After the module is loaded, the `registery` holds references to the two decorated functions.\n",
    "\n",
    "These functions are only executed when explicitly called by `main`.\n",
    "\n",
    "The above example is unusual in two ways:\n",
    "\n",
    "1. The decorated function is defined in the same module as the decorated function. A real decorator is usually defined in one module and applied to functions in another.\n",
    "\n",
    "2. The `register` decorator returns the same functions passed as an argument. In practice, most decorators define an inner function and return it.\n",
    "\n",
    "If *registration.py* is imported (and not run as a script), the output is:"
   ]
  },
  {
   "cell_type": "code",
   "execution_count": 7,
   "metadata": {},
   "outputs": [
    {
     "name": "stdout",
     "output_type": "stream",
     "text": [
      "running register(<function f1 at 0x10a6a21f0>)\n",
      "running register(<function f2 at 0x10a7ec3a0>)\n"
     ]
    }
   ],
   "source": [
    "from examples import registration"
   ]
  },
  {
   "cell_type": "code",
   "execution_count": 9,
   "metadata": {},
   "outputs": [
    {
     "data": {
      "text/plain": [
       "[<function examples.registration.f1()>, <function examples.registration.f2()>]"
      ]
     },
     "execution_count": 9,
     "metadata": {},
     "output_type": "execute_result"
    }
   ],
   "source": [
    "registration.registery"
   ]
  },
  {
   "cell_type": "markdown",
   "metadata": {},
   "source": [
    "The main point here is to emphasize that function decorators are run as soon as the module is imported, but the decorated functions only run when explicitly invoked (*import time* vs. *runtime*)."
   ]
  },
  {
   "cell_type": "markdown",
   "metadata": {},
   "source": [
    "## Decorator-Enhanced Strategy Pattern"
   ]
  },
  {
   "cell_type": "markdown",
   "metadata": {},
   "source": [
    "Decorators can be used as a good enhancement to the [Strategy](https://en.wikipedia.org/wiki/Strategy_pattern) pattern presented in the previous chapter.\n",
    "\n",
    "This solution has several advantages compared to those presented in the previous chapter (**p. 174**):\n",
    "\n",
    "* Strategy functions don't need special names (i.e. drop `_promo` suffix).\n",
    "\n",
    "* `@promotion` highlights the purpose of the decorated function and makes it easy to disable a promotion (just comment out the decorator).\n",
    "\n",
    "* Discount strategies may be implemented in other modules, anywhere on the system, as long as the `@promotion` decorator is applied to them."
   ]
  },
  {
   "cell_type": "code",
   "execution_count": 10,
   "metadata": {},
   "outputs": [],
   "source": [
    "# Example 7-3. The promos list is filled by the promotion decorator\n",
    "promos = []\n",
    "\n",
    "def promotion(promo_func):\n",
    "    promos.append(promo_func)\n",
    "    return promo_func\n",
    "\n",
    "@promotion\n",
    "def fidelity(order):\n",
    "    \"\"\"5% discount for customers with 1000 or more fidelity points.\"\"\"\n",
    "    return order.total() * .05 if order.customer.fidelity >= 1000 else 0\n",
    "\n",
    "\n",
    "@promotion\n",
    "def bulk_item(order):\n",
    "    \"\"\"10% discount for line orders with 20 or more units.\"\"\"\n",
    "    discount = 0\n",
    "    for item in order.cart:\n",
    "        if item.quantity >= 20:\n",
    "            discount += item.total() * .1\n",
    "    return discount\n",
    "\n",
    "\n",
    "@promotion\n",
    "def large_order(order):\n",
    "    \"7% discount on orders with at least 10 distinct items.\"\n",
    "    distinct_items = {item.product for item in order.cart}\n",
    "    if len(distinct_items) >= 10 :\n",
    "        return order.total() * .07\n",
    "    else:\n",
    "        return 0\n",
    "\n",
    "\n",
    "def best_promo(order):\n",
    "    \"\"\"Select best discount available.\"\"\"\n",
    "    return max(promo(order) for promo in promos)"
   ]
  },
  {
   "cell_type": "markdown",
   "metadata": {},
   "source": [
    "## Variable Scope Rules\n",
    "\n",
    "Decorators almost always return inner functions.\n",
    "\n",
    "Code the uses inner functions almost always depends on **closures** to operate correctly.\n",
    "\n",
    "To understand closures, we need to look at how variable scopes work in Python."
   ]
  },
  {
   "cell_type": "code",
   "execution_count": null,
   "metadata": {},
   "outputs": [],
   "source": []
  }
 ],
 "metadata": {
  "kernelspec": {
   "display_name": "Python 3",
   "language": "python",
   "name": "python3"
  },
  "language_info": {
   "codemirror_mode": {
    "name": "ipython",
    "version": 3
   },
   "file_extension": ".py",
   "mimetype": "text/x-python",
   "name": "python",
   "nbconvert_exporter": "python",
   "pygments_lexer": "ipython3",
   "version": "3.8.1"
  }
 },
 "nbformat": 4,
 "nbformat_minor": 4
}
