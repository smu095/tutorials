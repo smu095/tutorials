{
 "cells": [
  {
   "cell_type": "markdown",
   "metadata": {},
   "source": [
    "# Chapter 10: Sequence Hacking, Hashing and Slicing"
   ]
  },
  {
   "cell_type": "markdown",
   "metadata": {},
   "source": [
    "This chapter generalises the `Vector2d` class from the previous chapter to the multidimensional case.\n",
    "\n",
    "`Vector` will behave as a standard Python immutable flat sequence with elements that are floats. By the end of this chapter it will support:\n",
    "\n",
    "* Basic sequence protocol: `__len__`, `__getitem__`.\n",
    "\n",
    "* Safe representation of many instances with many items.\n",
    "\n",
    "* Proper slicing support, producing new `Vector` instances.\n",
    "\n",
    "* Aggregate hashing taking into account every contained element value.\n",
    "\n",
    "* Custom formatting language extension.\n",
    "\n",
    "`Vector` will also implement dynamic attribute access with `__getattr__` as a way of replacing read-only properties of `Vector2d` (not typical of sequence types).\n"
   ]
  },
  {
   "cell_type": "markdown",
   "metadata": {},
   "source": [
    "## Vector: A User-Defined Sequence Type\n",
    "\n",
    "The strategy to implement `Vector` will be to use composition instead of inheritance. The components will be stored in `array` of floats, and the necessary methods will be implemented to make `Vector` behave like an immutable flat sequence (an example of *duck-typing*, which we will return to)."
   ]
  },
  {
   "cell_type": "markdown",
   "metadata": {},
   "source": [
    "## Vector Take #1: Vector2d Compatible\n",
    "\n",
    "Best practice for a sequence constructor is to take the data as an iterable argument in the constructor, like all built-in sequence types do.\n",
    "\n",
    "Note the use of `reprlib` to condense the output of  `__repr__`. This is because multi-dimensional vectors can be arbitrarily high-dimensional, and we want to control the output somehow."
   ]
  },
  {
   "cell_type": "code",
   "execution_count": 23,
   "metadata": {},
   "outputs": [],
   "source": [
    "# Example 10-2. vector_v1.py: derived from vector2d_v1.py\n",
    "\n",
    "from array import array\n",
    "import reprlib\n",
    "import math\n",
    "\n",
    "\n",
    "class Vector:\n",
    "    typecode = \"d\"\n",
    "\n",
    "    def __init__(self, components):\n",
    "        self._components = array(self.typecode, components)\n",
    "\n",
    "    def __iter__(self):\n",
    "        return iter(self._components)\n",
    "\n",
    "    def __repr__(self):\n",
    "        components = reprlib.repr(self._components)\n",
    "        # Get limited-length representation of self._components\n",
    "        components = components[components.find(\"[\") : -1]\n",
    "        class_name = type(self).__name__\n",
    "        return f\"{class_name}({components})\"\n",
    "\n",
    "    def __str__(self):\n",
    "        return str(tuple(self))\n",
    "\n",
    "    def __bytes__(self):\n",
    "        return (bytes([ord(self.typecode)])) + bytes(self._components)\n",
    "\n",
    "    def __eq__(self, other):\n",
    "        return tuple(self) == tuple(other)\n",
    "\n",
    "    def __abs__(self):\n",
    "        return math.sqrt(sum(x * x for x in self))\n",
    "\n",
    "    def __bool__(self):\n",
    "        return bool(abs(self))\n",
    "\n",
    "    @classmethod\n",
    "    def frombytes(cls, octets):\n",
    "        typecode = chr(octets[0])\n",
    "        memv = memoryview(octets[1:]).cast(typecode)\n",
    "        return cls(memv)"
   ]
  },
  {
   "cell_type": "markdown",
   "metadata": {},
   "source": [
    "**Implementation detail:** In `__repr__`, the same result could have been achieved by `reprlib.repr(list(self._components))`. This would be wasteful because it would require copying every item from `self._components` to a `list` just to use the `list` `repr`.\n",
    "\n",
    "**Note:** Because of its role in debugging, calling `repr()` on an object should **never raise an exception**."
   ]
  },
  {
   "cell_type": "markdown",
   "metadata": {},
   "source": [
    "## Protocols and Duck Typing\n",
    "\n",
    "In the context of OOP, a *protocol* is an informal interface, defined only in documentation and not in code.\n",
    "\n",
    "For example, in Python the sequence protocol entails just the `__len__` and `__getitem__` methods. Any class that implements those methods with the standard signature and semantics can be used anywhere a sequence is expected. \n",
    "\n",
    "Any experienced Python programmer will see, based on these methods, that it *is* a sequence, even if it subclasses something other class. \n",
    "\n",
    "> We say it *is* a sequence because it *behaves* like a sequence, and that is what matters. This has become known as *duck-typing*.\n",
    "\n",
    "Because protocols are informal and unenforced, one can often get away with implementing only parts of a protocol, if one knows the specific context where a class will be used. For example, iteration requires only `__getitem__`, there is no need to provide `__len__`."
   ]
  },
  {
   "cell_type": "markdown",
   "metadata": {},
   "source": [
    "## Vector Take #2: A Slicable Sequence\n",
    "\n",
    "Supporting a sequence protocol is easy if you can delegate to a sequence attribute in your object, like `self._components`."
   ]
  },
  {
   "cell_type": "code",
   "execution_count": 17,
   "metadata": {},
   "outputs": [],
   "source": [
    "class Vector:\n",
    "    # many lines omitted\n",
    "    # ...\n",
    "    \n",
    "    def __len__(self):\n",
    "        return len(self._components)\n",
    "    \n",
    "    def __getitem__(self, index):\n",
    "        return self._components[index]"
   ]
  },
  {
   "cell_type": "code",
   "execution_count": 18,
   "metadata": {},
   "outputs": [],
   "source": [
    "from examples.vector_v1 import Vector"
   ]
  },
  {
   "cell_type": "code",
   "execution_count": 19,
   "metadata": {},
   "outputs": [
    {
     "data": {
      "text/plain": [
       "3"
      ]
     },
     "execution_count": 19,
     "metadata": {},
     "output_type": "execute_result"
    }
   ],
   "source": [
    "v = Vector([3, 4, 5])\n",
    "len(v)"
   ]
  },
  {
   "cell_type": "code",
   "execution_count": 20,
   "metadata": {},
   "outputs": [
    {
     "data": {
      "text/plain": [
       "(3.0, 4.0)"
      ]
     },
     "execution_count": 20,
     "metadata": {},
     "output_type": "execute_result"
    }
   ],
   "source": [
    "v[0], v[1]"
   ]
  },
  {
   "cell_type": "code",
   "execution_count": 21,
   "metadata": {},
   "outputs": [
    {
     "data": {
      "text/plain": [
       "array('d', [4.0, 5.0])"
      ]
     },
     "execution_count": 21,
     "metadata": {},
     "output_type": "execute_result"
    }
   ],
   "source": [
    "v[1:]"
   ]
  },
  {
   "cell_type": "markdown",
   "metadata": {},
   "source": [
    "Slicing is supported, but not very well. It would be better if slicing returned a new `Vector` instance and not an `array`. Every built-in sequence type produces a new instance of its own type when sliced.\n",
    "\n",
    "### How Slicing Works\n",
    "\n",
    "To illustrate how slicing works, consider the following example:"
   ]
  },
  {
   "cell_type": "code",
   "execution_count": 22,
   "metadata": {},
   "outputs": [],
   "source": [
    "# Example 10-4. Checking out behavior of __getitem__ and slices\n",
    "\n",
    "class MySeq:\n",
    "    def __getitem__(self, index):\n",
    "        return index\n"
   ]
  },
  {
   "cell_type": "code",
   "execution_count": 23,
   "metadata": {},
   "outputs": [
    {
     "data": {
      "text/plain": [
       "1"
      ]
     },
     "execution_count": 23,
     "metadata": {},
     "output_type": "execute_result"
    }
   ],
   "source": [
    "s = MySeq()\n",
    "s[1]"
   ]
  },
  {
   "cell_type": "code",
   "execution_count": 24,
   "metadata": {},
   "outputs": [
    {
     "data": {
      "text/plain": [
       "slice(1, 4, None)"
      ]
     },
     "execution_count": 24,
     "metadata": {},
     "output_type": "execute_result"
    }
   ],
   "source": [
    "s[1:4]"
   ]
  },
  {
   "cell_type": "code",
   "execution_count": 25,
   "metadata": {},
   "outputs": [
    {
     "data": {
      "text/plain": [
       "slice(1, 4, 2)"
      ]
     },
     "execution_count": 25,
     "metadata": {},
     "output_type": "execute_result"
    }
   ],
   "source": [
    "s[1:4:2]"
   ]
  },
  {
   "cell_type": "code",
   "execution_count": 26,
   "metadata": {},
   "outputs": [
    {
     "data": {
      "text/plain": [
       "(slice(1, 4, 2), 9)"
      ]
     },
     "execution_count": 26,
     "metadata": {},
     "output_type": "execute_result"
    }
   ],
   "source": [
    "s[1:4:2, 9]"
   ]
  },
  {
   "cell_type": "code",
   "execution_count": 27,
   "metadata": {},
   "outputs": [
    {
     "data": {
      "text/plain": [
       "(slice(1, 4, 2), slice(7, 9, None))"
      ]
     },
     "execution_count": 27,
     "metadata": {},
     "output_type": "execute_result"
    }
   ],
   "source": [
    "s[1:4:2, 7:9]"
   ]
  },
  {
   "cell_type": "markdown",
   "metadata": {},
   "source": [
    "Note that the notation `1:4` becomes `slice(1, 4, None)`. Also note that the presence of commas produces a `tuple`, that may even hold severel `slice` objects.\n",
    "\n",
    "`slice` is a built-in type. Note the attributes `start`, `stop`, `step` and `indices`. The latter is a very useful but mostly uknown method."
   ]
  },
  {
   "cell_type": "code",
   "execution_count": 29,
   "metadata": {},
   "outputs": [
    {
     "name": "stdout",
     "output_type": "stream",
     "text": [
      "Help on method_descriptor:\n",
      "\n",
      "indices(...)\n",
      "    S.indices(len) -> (start, stop, stride)\n",
      "    \n",
      "    Assuming a sequence of length len, calculate the start and stop\n",
      "    indices, and the stride length of the extended slice described by\n",
      "    S. Out of bounds indices are clipped in a manner consistent with the\n",
      "    handling of normal slices.\n",
      "\n"
     ]
    }
   ],
   "source": [
    "help(slice.indices)"
   ]
  },
  {
   "cell_type": "markdown",
   "metadata": {},
   "source": [
    "In other words, `slice.indices` gracefully handles missing or negative indices and slices that are longer than the target sequence. \n",
    "\n",
    "This produces \"normalised\" tuples of nonnegative `start`, `stop` and `stride` integers adjusted to fit within the bounds of a sequence of the given length.\n",
    "\n",
    "In `Vector` we don't need `slice.indices` because we delegate its handling to `self._components`, but it can be a huge time saver in other settings.\n",
    "\n",
    "### A Slice-Aware `__getitem__`"
   ]
  },
  {
   "cell_type": "code",
   "execution_count": 1,
   "metadata": {},
   "outputs": [],
   "source": [
    "class Vector:\n",
    "    # many lines omitted\n",
    "    # ...\n",
    "    \n",
    "    def __len__(self):\n",
    "        return len(self._components)\n",
    "    \n",
    "    def __getitem__(self, index):\n",
    "        cls = type(self)\n",
    "        if isinstance(index, slice):\n",
    "            return cls(self._components[index])\n",
    "        elif isinstance(self, numbers.Integral):\n",
    "            return self._components[index]\n",
    "        else:\n",
    "            raise TypeError(f\"{cls.__name__} indices must be integers\")"
   ]
  },
  {
   "cell_type": "code",
   "execution_count": 2,
   "metadata": {},
   "outputs": [
    {
     "data": {
      "text/plain": [
       "Vector([2.0, 3.0, 4.0])"
      ]
     },
     "execution_count": 2,
     "metadata": {},
     "output_type": "execute_result"
    }
   ],
   "source": [
    "from examples.vector_v2 import Vector\n",
    "v = Vector(range(7))\n",
    "v[2:5]"
   ]
  },
  {
   "cell_type": "code",
   "execution_count": 3,
   "metadata": {},
   "outputs": [
    {
     "data": {
      "text/plain": [
       "Vector([6.0])"
      ]
     },
     "execution_count": 3,
     "metadata": {},
     "output_type": "execute_result"
    }
   ],
   "source": [
    "# Note that a slice of length == 1 also creates a Vector\n",
    "v[-1:]"
   ]
  },
  {
   "cell_type": "markdown",
   "metadata": {},
   "source": [
    "## Vector Take #3: Dynamic Attribute Access\n",
    "\n",
    "**Note:** This example seems a bit contrived.\n",
    "\n",
    "In the multi-dimensional case we lose the ability tot access vector components by name, but it may be convenient to be able to access the first few components with shortcut letter such as `x`, `y`, `z` instead of `v[0]`, `v[1]`, `v[2]`.\n",
    "\n",
    "In `Vector2d` we provided read-only access using the `@property` decorator. Doing the same in `Vector` would be tedious; the `__getattr__` special method provides a better way.\n",
    "\n",
    "`__getattr__` is invoked by the interpreter when attribute lookup fails. \n",
    "\n",
    "In simple terms, given the expression `my_obj.x`, Python checks if the `my_obj` instance has an attribute `x`.\n",
    "\n",
    "If not, the seach goes to the class (`my_obj.__class__`), and then up the inheritance graph.\n",
    "\n",
    "If the `x` attribute is not found, the `__getattr__` method defined in the class of `my_obj` is called with `self` and the name of the attribute as a string (e.g. `\"x\"`)."
   ]
  },
  {
   "cell_type": "code",
   "execution_count": 19,
   "metadata": {},
   "outputs": [],
   "source": [
    "# Example 10-8. vector_v3_getattr.py\n",
    "\n",
    "class Vector:\n",
    "    # many lines omitted\n",
    "    # ...\n",
    "    \n",
    "    shortcut_names = \"xyzt\"\n",
    "    \n",
    "    def __getattr__(self, name):\n",
    "        cls = type(self)\n",
    "        if len(name) == 1:\n",
    "            pos = cls.shortcut_names.find(name)\n",
    "            if 0 <= pos < len(self._components):\n",
    "                return self._components[pos]\n",
    "        msg = f\"{cls.__name__!r} object has no attribute {name!r}\"\n",
    "        raise AttributeError(msg)\n",
    "            "
   ]
  },
  {
   "cell_type": "markdown",
   "metadata": {},
   "source": [
    "Note that Python only calls the `__getattr__` method as a fallback, which makes the above implementation behave inappropriately.\n",
    "\n",
    "See below for an example."
   ]
  },
  {
   "cell_type": "code",
   "execution_count": 30,
   "metadata": {},
   "outputs": [
    {
     "data": {
      "text/plain": [
       "0.0"
      ]
     },
     "execution_count": 30,
     "metadata": {},
     "output_type": "execute_result"
    }
   ],
   "source": [
    "from examples.vector_v3_getattr import Vector\n",
    "\n",
    "v = Vector(range(5))\n",
    "v.x"
   ]
  },
  {
   "cell_type": "code",
   "execution_count": 31,
   "metadata": {},
   "outputs": [
    {
     "data": {
      "text/plain": [
       "Vector([0.0, 1.0, 2.0, 3.0, 4.0])"
      ]
     },
     "execution_count": 31,
     "metadata": {},
     "output_type": "execute_result"
    }
   ],
   "source": [
    "v.x = 10\n",
    "v"
   ]
  },
  {
   "cell_type": "markdown",
   "metadata": {},
   "source": [
    "When we assign `v.x = 10`, the `v` object now has an `x` attribute, so `__getattr__` will no longer be called to retrieve `v.x`.\n",
    "\n",
    "In the following we implement `__setattr__` to avoid this inconsistency."
   ]
  },
  {
   "cell_type": "code",
   "execution_count": null,
   "metadata": {},
   "outputs": [],
   "source": [
    "# Example 10-9. vector_v3_setattr.py\n",
    "\n",
    "class Vector:\n",
    "    # many lines omitted\n",
    "    # ...\n",
    "    \n",
    "    shortcut_names = \"xyzt\"\n",
    "    \n",
    "    def __setattr__(self, name):\n",
    "        cls = type(self)\n",
    "        if len(name) == 1:\n",
    "            if name in shortcut_names:\n",
    "                error = \"readonly attribute {attr_name!r}\"\n",
    "            elif name.islower():\n",
    "                error = \"can't set attribute 'a' to 'z' in {cls_name!r}\"\n",
    "            else:\n",
    "                error = \"\"\n",
    "            if error:\n",
    "                msg = error.format(cls_name=cls.__name__, attr_name=name)\n",
    "                raise AttributeError(msg)\n",
    "        super().__setattr__(name, value)"
   ]
  },
  {
   "cell_type": "markdown",
   "metadata": {},
   "source": [
    "The `super()` function provides a way to access methods of superclasses dynamically, a necessity in a dynamic language supporting multiple inheritances like Python.\n",
    "\n",
    "It is used to delegate some task from a method in a subclass to a suitable method in the superclass.\n",
    "\n",
    "**Takeaway from this example:** Very often, when you implement `__getattr__`, you will need to code `__setattr__` aswell to avoid inconsistencies."
   ]
  },
  {
   "cell_type": "markdown",
   "metadata": {},
   "source": [
    "## Vector Take #4: Hashing and a Faster `==`\n",
    "\n",
    "Earlier it was mentioned that `functools.reduce` is not as popular as before, but the author uses it in this example to apply the xor operator (`^`) to every component of `Vector`. \n",
    "\n",
    "The first argument to `reduce()` is a two-argument function, the second argument is an iterable."
   ]
  },
  {
   "cell_type": "code",
   "execution_count": 2,
   "metadata": {},
   "outputs": [
    {
     "data": {
      "text/plain": [
       "24"
      ]
     },
     "execution_count": 2,
     "metadata": {},
     "output_type": "execute_result"
    }
   ],
   "source": [
    "import functools\n",
    "\n",
    "def fn(x, y):\n",
    "    return x * y\n",
    "\n",
    "lst = list(range(1, 5))\n",
    "\n",
    "functools.reduce(fn, lst, 1)"
   ]
  },
  {
   "cell_type": "markdown",
   "metadata": {},
   "source": [
    "When you call `reduce(fn, lst)`, `fn` is applied to the first pair of elements in `lst`, producing a result `r1`.\n",
    "\n",
    "Next, `fn` is applied to `r1` and the next element of `lst`, and so on until the last element, when a single result `rN` is produced.\n",
    "\n",
    "When using reduce, it is good practice to provide the third argument `reduce(function, iterable, initialiser)` to prevent a `TypeError` exception. \n",
    "\n",
    "The `initialiser` is the value that will be returned if the sequence is empty, so it should be the identity value of the operation."
   ]
  },
  {
   "cell_type": "code",
   "execution_count": null,
   "metadata": {},
   "outputs": [],
   "source": [
    "# Example 10-12. Part of vector_v4.py\n",
    "\n",
    "import operator\n",
    "import functools\n",
    "\n",
    "class Vector:\n",
    "    typecode = \"d\"\n",
    "    \n",
    "    # many lines omitted\n",
    "    # ...\n",
    "    \n",
    "    def __eq__(self, other):\n",
    "        return len(self) == len(other) and all(a == b for a, b in zip(self, other))\n",
    "    \n",
    "    def __hash__(self):\n",
    "        hashes = (hash(x) for x in self._components)\n",
    "        return functools.reduce(operator.xor, hashes, 0)"
   ]
  },
  {
   "cell_type": "markdown",
   "metadata": {},
   "source": [
    "Note that it is good practice to keep `__eq__` and `__hash__` close in source code.\n",
    "\n",
    "Also note the change to `__eq__` compared to earlier versions that just check equality of tuples.\n",
    "\n",
    "`all` returns `False` as soon as the first inequality is reached, which makes it more efficient than earlier versions. Also, we fail fast if the tuples are not of same length.\n",
    "\n",
    "**Note that `zip` stops without warning when one of the iterables is exhausted.** Alternatively, one can use `functools.zip_longest` that uses an optional `fillvalue` to fill missing values so that tuples can be generated until the last iterable is exhausted. \n",
    "\n",
    "## Vector Take #5: Formatting\n",
    "\n",
    "Instead of polar coordinates `Vector` will proved spherical coordinates. Accordingly, the custom format suffix `p` is replaced by `h`(ypersphere)."
   ]
  },
  {
   "cell_type": "code",
   "execution_count": null,
   "metadata": {},
   "outputs": [],
   "source": [
    "# Example 10-16. Final vector_v5.py implementation\n",
    "\n",
    "import math\n",
    "\n",
    "class Vector:\n",
    "    typecode = \"d\"\n",
    "    \n",
    "    # many lines omitted\n",
    "    # ...\n",
    "    \n",
    "    def angle(self, n):\n",
    "        r = math.sqrt(sum(x * x for x in self[n:]))\n",
    "        a = math.atan2(r, self[n - 1])\n",
    "        if (n == len(self) - 1) and (self[-1] < 0):\n",
    "            return math.pi * 2 - a\n",
    "        else:\n",
    "            return a\n",
    "    \n",
    "    def angles(self):\n",
    "        return (angle(n) for n in range(1, len(self)))\n",
    "    \n",
    "    def __format__(self, fmt_spec=\"\"):\n",
    "        if fmt_spec.endswith(\"h\"):\n",
    "            fmt_spec = fmt_spec[:-1]\n",
    "            coords = itertools.chain([abs(self)], self.angles())\n",
    "            outer_fmt = \"<{}>\"\n",
    "        else:\n",
    "            coords = self\n",
    "            outer_fmt = \"({})\"\n",
    "        components = (format(c, fmt_spec) for c in coords)\n",
    "        return outer_fmt.format(\", \".join(components))\n"
   ]
  },
  {
   "cell_type": "code",
   "execution_count": 4,
   "metadata": {},
   "outputs": [
    {
     "name": "stdout",
     "output_type": "stream",
     "text": [
      "Help on class chain in module itertools:\n",
      "\n",
      "class chain(builtins.object)\n",
      " |  chain(*iterables) --> chain object\n",
      " |  \n",
      " |  Return a chain object whose .__next__() method returns elements from the\n",
      " |  first iterable until it is exhausted, then elements from the next\n",
      " |  iterable, until all of the iterables are exhausted.\n",
      " |  \n",
      " |  Methods defined here:\n",
      " |  \n",
      " |  __getattribute__(self, name, /)\n",
      " |      Return getattr(self, name).\n",
      " |  \n",
      " |  __iter__(self, /)\n",
      " |      Implement iter(self).\n",
      " |  \n",
      " |  __next__(self, /)\n",
      " |      Implement next(self).\n",
      " |  \n",
      " |  __reduce__(...)\n",
      " |      Return state information for pickling.\n",
      " |  \n",
      " |  __setstate__(...)\n",
      " |      Set state information for unpickling.\n",
      " |  \n",
      " |  ----------------------------------------------------------------------\n",
      " |  Class methods defined here:\n",
      " |  \n",
      " |  from_iterable(...) from builtins.type\n",
      " |      chain.from_iterable(iterable) --> chain object\n",
      " |      \n",
      " |      Alternate chain() constructor taking a single iterable argument\n",
      " |      that evaluates lazily.\n",
      " |  \n",
      " |  ----------------------------------------------------------------------\n",
      " |  Static methods defined here:\n",
      " |  \n",
      " |  __new__(*args, **kwargs) from builtins.type\n",
      " |      Create and return a new object.  See help(type) for accurate signature.\n",
      "\n"
     ]
    }
   ],
   "source": [
    "import itertools\n",
    "help(itertools.chain)"
   ]
  }
 ],
 "metadata": {
  "kernelspec": {
   "display_name": "Python 3",
   "language": "python",
   "name": "python3"
  },
  "language_info": {
   "codemirror_mode": {
    "name": "ipython",
    "version": 3
   },
   "file_extension": ".py",
   "mimetype": "text/x-python",
   "name": "python",
   "nbconvert_exporter": "python",
   "pygments_lexer": "ipython3",
   "version": "3.7.3"
  }
 },
 "nbformat": 4,
 "nbformat_minor": 4
}
