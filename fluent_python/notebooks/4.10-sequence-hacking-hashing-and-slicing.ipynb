{
 "cells": [
  {
   "cell_type": "markdown",
   "metadata": {},
   "source": [
    "# Chapter 10: Sequence Hacking, Hashing and Slicing"
   ]
  },
  {
   "cell_type": "markdown",
   "metadata": {},
   "source": [
    "This chapter generalises the `Vector2d` class from the previous chapter to the multidimensional case.\n",
    "\n",
    "`Vector` will behave as a standard Python immutable flat sequence with elements that are floats. By the end of this chapter it will support:\n",
    "\n",
    "* Basic sequence protocol: `__len__`, `__getitem__`.\n",
    "\n",
    "* Safe representation of many instances with many items.\n",
    "\n",
    "* Proper slicing support, producing new `Vector` instances.\n",
    "\n",
    "* Aggregate hashing taking into account every contained element value.\n",
    "\n",
    "* Custom formatting language extension.\n",
    "\n",
    "`Vector` will also implement dynamic attribute access with `__getattr__` as a way of replacing read-only properties of `Vector2d` (not typical of sequence types).\n"
   ]
  },
  {
   "cell_type": "markdown",
   "metadata": {},
   "source": [
    "## Vector: A User-Defined Sequence Type\n",
    "\n",
    "The strategy to implement `Vector` will be to use composition instead of inheritance. The components will be stored in `array` of floats, and the necessary methods will be implemented to make `Vector` behave like an immutable flat sequence (an example of *duck-typing*, which we will return to)."
   ]
  },
  {
   "cell_type": "markdown",
   "metadata": {},
   "source": [
    "## Vector Take #1: Vector2d Compatible\n",
    "\n",
    "Best practice for a sequence constructor is to take the data as an iterable argument in the constructor, like all built-in sequence types do.\n",
    "\n",
    "Note the use of `reprlib` to condense the output of  `__repr__`. This is because multi-dimensional vectors can be arbitrarily high-dimensional, and we want to control the output somehow."
   ]
  },
  {
   "cell_type": "code",
   "execution_count": 23,
   "metadata": {},
   "outputs": [],
   "source": [
    "# Example 10-2. vector_v1.py: derived from vector2d_v1.py\n",
    "\n",
    "from array import array\n",
    "import reprlib\n",
    "import math\n",
    "\n",
    "\n",
    "class Vector:\n",
    "    typecode = \"d\"\n",
    "\n",
    "    def __init__(self, components):\n",
    "        self._components = array(self.typecode, components)\n",
    "\n",
    "    def __iter__(self):\n",
    "        return iter(self._components)\n",
    "\n",
    "    def __repr__(self):\n",
    "        components = reprlib.repr(self._components)\n",
    "        # Get limited-length representation of self._components\n",
    "        components = components[components.find(\"[\") : -1]\n",
    "        class_name = type(self).__name__\n",
    "        return f\"{class_name}({components})\"\n",
    "\n",
    "    def __str__(self):\n",
    "        return str(tuple(self))\n",
    "\n",
    "    def __bytes__(self):\n",
    "        return (bytes([ord(self.typecode)])) + bytes(self._components)\n",
    "\n",
    "    def __eq__(self, other):\n",
    "        return tuple(self) == tuple(other)\n",
    "\n",
    "    def __abs__(self):\n",
    "        return math.sqrt(sum(x * x for x in self))\n",
    "\n",
    "    def __bool__(self):\n",
    "        return bool(abs(self))\n",
    "\n",
    "    @classmethod\n",
    "    def frombytes(cls, octets):\n",
    "        typecode = chr(octets[0])\n",
    "        memv = memoryview(octets[1:]).cast(typecode)\n",
    "        return cls(memv)"
   ]
  },
  {
   "cell_type": "markdown",
   "metadata": {},
   "source": [
    "**Implementation detail:** In `__repr__`, the same result could have been achieved by `reprlib.repr(list(self._components))`. This would be wasteful because it would require copying every item from `self._components` to a `list` just to use the `list` `repr`.\n",
    "\n",
    "**Note:** Because of its role in debugging, calling `repr()` on an object should **never raise an exception**."
   ]
  },
  {
   "cell_type": "markdown",
   "metadata": {},
   "source": [
    "## Protocols and Duck Typing\n",
    "\n",
    "In the context of OOP, a *protocol* is an informal interface, defined only in documentation and not in code.\n",
    "\n",
    "For example, in Python the sequence protocol entails just the `__len__` and `__getitem__` methods. Any class that implements those methods with the standard signature and semantics can be used anywhere a sequence is expected. \n",
    "\n",
    "Any experienced Python programmer will see, based on these methods, that it *is* a sequence, even if it subclasses something other class. \n",
    "\n",
    "> We say it *is* a sequence because it *behaves* like a sequence, and that is what matters. This has become known as *duck-typing*.\n",
    "\n",
    "Because protocols are informal and unenforced, one can often get away with implementing only parts of a protocol, if one knows the specific context where a class will be used. For example, iteration requires only `__getitem__`, there is no need to provide `__len__`."
   ]
  },
  {
   "cell_type": "markdown",
   "metadata": {},
   "source": [
    "## Vector Take #2: A Slicable Sequence\n",
    "\n",
    "Supporting a sequence protocol is easy if you can delegate to a sequence attribute in your object, like `self._components`."
   ]
  },
  {
   "cell_type": "code",
   "execution_count": 17,
   "metadata": {},
   "outputs": [],
   "source": [
    "class Vector:\n",
    "    # many lines omitted\n",
    "    # ...\n",
    "    \n",
    "    def __len__(self):\n",
    "        return len(self._components)\n",
    "    \n",
    "    def __getitem__(self, index):\n",
    "        return self._components[index]"
   ]
  },
  {
   "cell_type": "code",
   "execution_count": 18,
   "metadata": {},
   "outputs": [],
   "source": [
    "from examples.vector_v1 import Vector"
   ]
  },
  {
   "cell_type": "code",
   "execution_count": 19,
   "metadata": {},
   "outputs": [
    {
     "data": {
      "text/plain": [
       "3"
      ]
     },
     "execution_count": 19,
     "metadata": {},
     "output_type": "execute_result"
    }
   ],
   "source": [
    "v = Vector([3, 4, 5])\n",
    "len(v)"
   ]
  },
  {
   "cell_type": "code",
   "execution_count": 20,
   "metadata": {},
   "outputs": [
    {
     "data": {
      "text/plain": [
       "(3.0, 4.0)"
      ]
     },
     "execution_count": 20,
     "metadata": {},
     "output_type": "execute_result"
    }
   ],
   "source": [
    "v[0], v[1]"
   ]
  },
  {
   "cell_type": "code",
   "execution_count": 21,
   "metadata": {},
   "outputs": [
    {
     "data": {
      "text/plain": [
       "array('d', [4.0, 5.0])"
      ]
     },
     "execution_count": 21,
     "metadata": {},
     "output_type": "execute_result"
    }
   ],
   "source": [
    "v[1:]"
   ]
  },
  {
   "cell_type": "markdown",
   "metadata": {},
   "source": [
    "Slicing is supported, but not very well. It would be better if slicing returned a new `Vector` instance and not an `array`. Every built-in sequence type produces a new instance of its own type when sliced.\n",
    "\n",
    "### How Slicing Works\n",
    "\n",
    "To illustrate how slicing works, consider the following example:"
   ]
  },
  {
   "cell_type": "code",
   "execution_count": 22,
   "metadata": {},
   "outputs": [],
   "source": [
    "# Example 10-4. Checking out behavior of __getitem__ and slices\n",
    "\n",
    "class MySeq:\n",
    "    def __getitem__(self, index):\n",
    "        return index\n"
   ]
  },
  {
   "cell_type": "code",
   "execution_count": 23,
   "metadata": {},
   "outputs": [
    {
     "data": {
      "text/plain": [
       "1"
      ]
     },
     "execution_count": 23,
     "metadata": {},
     "output_type": "execute_result"
    }
   ],
   "source": [
    "s = MySeq()\n",
    "s[1]"
   ]
  },
  {
   "cell_type": "code",
   "execution_count": 24,
   "metadata": {},
   "outputs": [
    {
     "data": {
      "text/plain": [
       "slice(1, 4, None)"
      ]
     },
     "execution_count": 24,
     "metadata": {},
     "output_type": "execute_result"
    }
   ],
   "source": [
    "s[1:4]"
   ]
  },
  {
   "cell_type": "code",
   "execution_count": 25,
   "metadata": {},
   "outputs": [
    {
     "data": {
      "text/plain": [
       "slice(1, 4, 2)"
      ]
     },
     "execution_count": 25,
     "metadata": {},
     "output_type": "execute_result"
    }
   ],
   "source": [
    "s[1:4:2]"
   ]
  },
  {
   "cell_type": "code",
   "execution_count": 26,
   "metadata": {},
   "outputs": [
    {
     "data": {
      "text/plain": [
       "(slice(1, 4, 2), 9)"
      ]
     },
     "execution_count": 26,
     "metadata": {},
     "output_type": "execute_result"
    }
   ],
   "source": [
    "s[1:4:2, 9]"
   ]
  },
  {
   "cell_type": "code",
   "execution_count": 27,
   "metadata": {},
   "outputs": [
    {
     "data": {
      "text/plain": [
       "(slice(1, 4, 2), slice(7, 9, None))"
      ]
     },
     "execution_count": 27,
     "metadata": {},
     "output_type": "execute_result"
    }
   ],
   "source": [
    "s[1:4:2, 7:9]"
   ]
  },
  {
   "cell_type": "markdown",
   "metadata": {},
   "source": [
    "Note that the notation `1:4` becomes `slice(1, 4, None)`. Also note that the presence of commas produces a `tuple`, that may even hold severel `slice` objects.\n",
    "\n",
    "`slice` is a built-in type. Note the attributes `start`, `stop`, `step` and `indices`. The latter is a very useful but mostly uknown method."
   ]
  },
  {
   "cell_type": "code",
   "execution_count": 29,
   "metadata": {},
   "outputs": [
    {
     "name": "stdout",
     "output_type": "stream",
     "text": [
      "Help on method_descriptor:\n",
      "\n",
      "indices(...)\n",
      "    S.indices(len) -> (start, stop, stride)\n",
      "    \n",
      "    Assuming a sequence of length len, calculate the start and stop\n",
      "    indices, and the stride length of the extended slice described by\n",
      "    S. Out of bounds indices are clipped in a manner consistent with the\n",
      "    handling of normal slices.\n",
      "\n"
     ]
    }
   ],
   "source": [
    "help(slice.indices)"
   ]
  },
  {
   "cell_type": "markdown",
   "metadata": {},
   "source": [
    "In other words, `slice.indices` gracefully handles missing or negative indices and slices that are longer than the target sequence. \n",
    "\n",
    "This produces \"normalised\" tuples of nonnegative `start`, `stop` and `stride` integers adjusted to fit within the bounds of a sequence of the given length.\n",
    "\n",
    "In `Vector` we don't need `slice.indices` because we delegate its handling to `self._components`, but it can be a huge time saver in other settings.\n",
    "\n",
    "### A Slice-Aware `__getitem__`"
   ]
  },
  {
   "cell_type": "code",
   "execution_count": 1,
   "metadata": {},
   "outputs": [],
   "source": [
    "class Vector:\n",
    "    # many lines omitted\n",
    "    # ...\n",
    "    \n",
    "    def __len__(self):\n",
    "        return len(self._components)\n",
    "    \n",
    "    def __getitem__(self, index):\n",
    "        cls = type(self)\n",
    "        if isinstance(index, slice):\n",
    "            return cls(self._components[index])\n",
    "        elif isinstance(self, numbers.Integral):\n",
    "            return self._components[index]\n",
    "        else:\n",
    "            raise TypeError(f\"{cls.__name__} indices must be integers\")"
   ]
  },
  {
   "cell_type": "code",
   "execution_count": 2,
   "metadata": {},
   "outputs": [
    {
     "data": {
      "text/plain": [
       "Vector([2.0, 3.0, 4.0])"
      ]
     },
     "execution_count": 2,
     "metadata": {},
     "output_type": "execute_result"
    }
   ],
   "source": [
    "from examples.vector_v2 import Vector\n",
    "v = Vector(range(7))\n",
    "v[2:5]"
   ]
  },
  {
   "cell_type": "code",
   "execution_count": 3,
   "metadata": {},
   "outputs": [
    {
     "data": {
      "text/plain": [
       "Vector([6.0])"
      ]
     },
     "execution_count": 3,
     "metadata": {},
     "output_type": "execute_result"
    }
   ],
   "source": [
    "# Note that a slice of length == 1 also creates a Vector\n",
    "v[-1:]"
   ]
  },
  {
   "cell_type": "markdown",
   "metadata": {},
   "source": [
    "## Vector Take #3: Dynamic Attribute Access\n",
    "\n",
    "**Note:** This example seems a bit contrived.\n",
    "\n",
    "In the multi-dimensional case we lose the ability tot access vector components by name, but it may be convenient to be able to access the first few components with shortcut letter such as `x`, `y`, `z` instead of `v[0]`, `v[1]`, `v[2]`.\n",
    "\n",
    "In `Vector2d` we provided read-only access using the `@property` decorator. Doing the same in `Vector` would be tedious; the `__getattr__` special method provides a better way.\n",
    "\n",
    "`__getattr__` is invoked by the interpreter when attribute lookup fails. \n",
    "\n",
    "In simple terms, given the expression `my_obj.x`, Python checks if the `my_obj` instance has an attribute `x`.\n",
    "\n",
    "If not, the seach goes to the class (`my_obj.__class__`), and then up the inheritance graph.\n",
    "\n",
    "If the `x` attribute is not found, the `__getattr__` method defined in the class of `my_obj` is called with `self` and the name of the attribute as a string (e.g. `\"x\"`)."
   ]
  },
  {
   "cell_type": "code",
   "execution_count": 19,
   "metadata": {},
   "outputs": [],
   "source": [
    "class Vector:\n",
    "    # many lines omitted\n",
    "    # ...\n",
    "    \n",
    "    shortcut_names = \"xyzt\"\n",
    "    \n",
    "    def __getattr__(self, name):\n",
    "        cls = type(self)\n",
    "        if len(name) == 1:\n",
    "            pos = cls.shortcut_names.find(name)\n",
    "            if 0 <= pos < len(self._components):\n",
    "                return self._components[pos]\n",
    "        msg = f\"{cls.__name__!r} object has no attribute {name!r}\"\n",
    "        raise AttributeError(msg)\n",
    "            "
   ]
  },
  {
   "cell_type": "code",
   "execution_count": 30,
   "metadata": {},
   "outputs": [
    {
     "data": {
      "text/plain": [
       "0.0"
      ]
     },
     "execution_count": 30,
     "metadata": {},
     "output_type": "execute_result"
    }
   ],
   "source": [
    "from examples.vector_v3 import Vector\n",
    "\n",
    "v = Vector(range(5))\n",
    "v.x"
   ]
  },
  {
   "cell_type": "code",
   "execution_count": 31,
   "metadata": {},
   "outputs": [
    {
     "data": {
      "text/plain": [
       "Vector([0.0, 1.0, 2.0, 3.0, 4.0])"
      ]
     },
     "execution_count": 31,
     "metadata": {},
     "output_type": "execute_result"
    }
   ],
   "source": [
    "v.x = 10\n",
    "v"
   ]
  },
  {
   "cell_type": "markdown",
   "metadata": {},
   "source": [
    "Note that Python only calls the `__getattr__` method as a fallback, which makes the above implementation behave inappropriately.\n",
    "\n",
    "TODO."
   ]
  },
  {
   "cell_type": "code",
   "execution_count": null,
   "metadata": {},
   "outputs": [],
   "source": []
  }
 ],
 "metadata": {
  "kernelspec": {
   "display_name": "Python 3",
   "language": "python",
   "name": "python3"
  },
  "language_info": {
   "codemirror_mode": {
    "name": "ipython",
    "version": 3
   },
   "file_extension": ".py",
   "mimetype": "text/x-python",
   "name": "python",
   "nbconvert_exporter": "python",
   "pygments_lexer": "ipython3",
   "version": "3.7.3"
  }
 },
 "nbformat": 4,
 "nbformat_minor": 4
}
