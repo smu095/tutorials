{
 "cells": [
  {
   "cell_type": "markdown",
   "metadata": {},
   "source": [
    "# Chapter 11: Interfaces: From Protocols to ABCs\n",
    "\n",
    "**NOTE:** This is a quite wordy chapter. The first half will be summarised very briefly.\n",
    "\n",
    "The subject of this chapter is interfaces, from the dynamic protocols that characterise duck-typing to abstract base classes (ABCs) that make interfaces explicit and verify implementations for conformance.\n",
    "\n",
    "It is useful to reiterate the idea of *duck-typing* when exploring interfaces:\n",
    "\n",
    "> Duck-typing ignores an objects actual type, focusing instead on ensuring that the object implements the method names, signatures, and semantics required for its intended use.\n",
    "\n",
    "## Interfaces and Protocols in Python Culture\n",
    "\n",
    "Every class has an interface: the set public attributes (methods or data attributes) implemented or inherited by the class.\n",
    "\n",
    "An interface seen as a set of methods to fulfill a role is what is known as a *protocol*. Protocols are independent of inheritance. A class may implement several protocols, enabling its instances to fulfill several roles.\n",
    "\n",
    "Because protocols are informal, the cannot be enforced like formal interfaces can.\n",
    "\n",
    "By definition, private and protected attributes are not part of an interface, even if \"protected\" is merely a naming convention.\n",
    "\n",
    "On the other hand, public data attributes can be part of the interface of an object because - if necessary - a data attribute can always be turned into a properting implementing getter/setter logic.\n",
    "\n",
    "A useful complementary definition of an interface is: the subset of an objects public methods that enable it to play a specific role in the system.\n",
    "\n",
    "This is what is implied when the Python documentation mentions a \"file-like object\" or \"an iterable\"."
   ]
  },
  {
   "cell_type": "markdown",
   "metadata": {},
   "source": [
    "## Python Digs Sequences\n",
    "\n",
    "The Python data model is designed to cooperate with essential protocols as much as possible.\n",
    "\n",
    "One of the most fundamental Python protocols is the sequence protocol. The UML diagram below shows how the formal `Sequence` interface is implemented as an ABC:\n",
    "\n",
    "![](figs/p004.png)\n",
    "\n",
    "However, given the importance of the sequence protocol, in the abscence of `__iter__` and `__contains__` methods, Python can still make iteration and the `in` operator work by invoking `__getitem__`.\n"
   ]
  },
  {
   "cell_type": "markdown",
   "metadata": {},
   "source": [
    "## Monkey-Patching to Implement a Protocol at Runtime\n",
    "\n",
    "The `FrenchDeck` class from example 11-4 cannot be shuffled because it does not support item assignment, because it implements the *immutable* sequence protocol.\n",
    "\n",
    "Mutable sequences must also provide a `__setitem__` method.\n",
    "\n",
    "Because Python is dynamic, we can fix this at runtime. The following shows an example of *monkey-patching*, which means changing a class or module at runtime."
   ]
  },
  {
   "cell_type": "code",
   "execution_count": 1,
   "metadata": {},
   "outputs": [
    {
     "ename": "TypeError",
     "evalue": "'FrenchDeck' object does not support item assignment",
     "output_type": "error",
     "traceback": [
      "\u001b[0;31m---------------------------------------------------------------------------\u001b[0m",
      "\u001b[0;31mTypeError\u001b[0m                                 Traceback (most recent call last)",
      "\u001b[0;32m<ipython-input-1-845498d7a09d>\u001b[0m in \u001b[0;36m<module>\u001b[0;34m\u001b[0m\n\u001b[1;32m      3\u001b[0m \u001b[0;34m\u001b[0m\u001b[0m\n\u001b[1;32m      4\u001b[0m \u001b[0mdeck\u001b[0m \u001b[0;34m=\u001b[0m \u001b[0mFrenchDeck\u001b[0m\u001b[0;34m(\u001b[0m\u001b[0;34m)\u001b[0m\u001b[0;34m\u001b[0m\u001b[0;34m\u001b[0m\u001b[0m\n\u001b[0;32m----> 5\u001b[0;31m \u001b[0mshuffle\u001b[0m\u001b[0;34m(\u001b[0m\u001b[0mdeck\u001b[0m\u001b[0;34m)\u001b[0m\u001b[0;34m\u001b[0m\u001b[0;34m\u001b[0m\u001b[0m\n\u001b[0m",
      "\u001b[0;32m~/miniconda3/envs/python3.8/lib/python3.8/random.py\u001b[0m in \u001b[0;36mshuffle\u001b[0;34m(self, x, random)\u001b[0m\n\u001b[1;32m    305\u001b[0m                 \u001b[0;31m# pick an element in x[:i+1] with which to exchange x[i]\u001b[0m\u001b[0;34m\u001b[0m\u001b[0;34m\u001b[0m\u001b[0;34m\u001b[0m\u001b[0m\n\u001b[1;32m    306\u001b[0m                 \u001b[0mj\u001b[0m \u001b[0;34m=\u001b[0m \u001b[0mrandbelow\u001b[0m\u001b[0;34m(\u001b[0m\u001b[0mi\u001b[0m\u001b[0;34m+\u001b[0m\u001b[0;36m1\u001b[0m\u001b[0;34m)\u001b[0m\u001b[0;34m\u001b[0m\u001b[0;34m\u001b[0m\u001b[0m\n\u001b[0;32m--> 307\u001b[0;31m                 \u001b[0mx\u001b[0m\u001b[0;34m[\u001b[0m\u001b[0mi\u001b[0m\u001b[0;34m]\u001b[0m\u001b[0;34m,\u001b[0m \u001b[0mx\u001b[0m\u001b[0;34m[\u001b[0m\u001b[0mj\u001b[0m\u001b[0;34m]\u001b[0m \u001b[0;34m=\u001b[0m \u001b[0mx\u001b[0m\u001b[0;34m[\u001b[0m\u001b[0mj\u001b[0m\u001b[0;34m]\u001b[0m\u001b[0;34m,\u001b[0m \u001b[0mx\u001b[0m\u001b[0;34m[\u001b[0m\u001b[0mi\u001b[0m\u001b[0;34m]\u001b[0m\u001b[0;34m\u001b[0m\u001b[0;34m\u001b[0m\u001b[0m\n\u001b[0m\u001b[1;32m    308\u001b[0m         \u001b[0;32melse\u001b[0m\u001b[0;34m:\u001b[0m\u001b[0;34m\u001b[0m\u001b[0;34m\u001b[0m\u001b[0m\n\u001b[1;32m    309\u001b[0m             \u001b[0m_int\u001b[0m \u001b[0;34m=\u001b[0m \u001b[0mint\u001b[0m\u001b[0;34m\u001b[0m\u001b[0;34m\u001b[0m\u001b[0m\n",
      "\u001b[0;31mTypeError\u001b[0m: 'FrenchDeck' object does not support item assignment"
     ]
    }
   ],
   "source": [
    "from examples.deck import FrenchDeck\n",
    "from random import shuffle\n",
    "\n",
    "deck = FrenchDeck()\n",
    "shuffle(deck)"
   ]
  },
  {
   "cell_type": "code",
   "execution_count": 2,
   "metadata": {},
   "outputs": [
    {
     "data": {
      "text/plain": [
       "[Card(rank='8', suit='clubs'),\n",
       " Card(rank='4', suit='hearts'),\n",
       " Card(rank='7', suit='hearts'),\n",
       " Card(rank='6', suit='diamonds'),\n",
       " Card(rank='Q', suit='spades')]"
      ]
     },
     "execution_count": 2,
     "metadata": {},
     "output_type": "execute_result"
    }
   ],
   "source": [
    "# Example 11-6\n",
    "def setitem(deck, position, card):\n",
    "    deck._cards[position] = card\n",
    "\n",
    "FrenchDeck.__setitem__ = setitem\n",
    "shuffle(deck)\n",
    "deck[:5]"
   ]
  },
  {
   "cell_type": "markdown",
   "metadata": {},
   "source": [
    "The above example highlights that protocols are dynamic: `random.shuffle` doesnt care about what type of argument it gets, in only needs the object to implement part of the mutable sequence protocol."
   ]
  },
  {
   "cell_type": "markdown",
   "metadata": {},
   "source": [
    "## Alex Martellis Waterfowl\n",
    "\n",
    "This section presents a guest essay by Alex Martelli, explaining why he believes the addition of ABCs is a good thing in Python. See **pp.326-329**.\n",
    "\n",
    "This section is a bit lofty, but I think the main takeaways are:\n",
    "\n",
    "* The use of `isinstance` and `issubclass` is more acceptable when testing against ABCs. Otherwise they are a [code smell](https://en.wikipedia.org/wiki/Code_smell). StackOverflow [explains](https://stackoverflow.com/questions/13636149/is-using-python-isinstance-ever-right) [why](https://stackoverflow.com/questions/13636149/is-using-python-isinstance-ever-right).\n",
    "\n",
    "* Duck-typing is usually simpler and more flexible than type checks, i.e. wrap code in `try`/`except` blocks.\n",
    "\n",
    "* Use restrain when creating ABCs. They are meant to encapsulate very general concepts and abstractions introduced by a framework. Readers usually just need to use existing ABCs correctly, to get 99.9% of the benefits without serious risk of misdesign.\n",
    "\n",
    "* Martelli coins the word *goose-typing*:\n",
    "\n",
    "> What goose typing means is: `isinstance(obj, cls)` is now just fine… as long as `cls` is an Abstract Base Class."
   ]
  },
  {
   "cell_type": "markdown",
   "metadata": {},
   "source": [
    "## Subclassing an ABC\n",
    "\n",
    "TODO."
   ]
  },
  {
   "cell_type": "code",
   "execution_count": null,
   "metadata": {},
   "outputs": [],
   "source": []
  }
 ],
 "metadata": {
  "file_extension": ".py",
  "kernelspec": {
   "display_name": "Python 3",
   "language": "python",
   "name": "python3"
  },
  "language_info": {
   "codemirror_mode": {
    "name": "ipython",
    "version": 3
   },
   "file_extension": ".py",
   "mimetype": "text/x-python",
   "name": "python",
   "nbconvert_exporter": "python",
   "pygments_lexer": "ipython3",
   "version": "3.8.2"
  },
  "mimetype": "text/x-python",
  "name": "python",
  "npconvert_exporter": "python",
  "pygments_lexer": "ipython3",
  "version": 3
 },
 "nbformat": 4,
 "nbformat_minor": 2
}
