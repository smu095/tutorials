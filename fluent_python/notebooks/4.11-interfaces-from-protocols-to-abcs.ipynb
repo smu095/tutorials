{
 "nbformat": 4,
 "nbformat_minor": 2,
 "metadata": {
  "language_info": {
   "name": "python",
   "codemirror_mode": {
    "name": "ipython",
    "version": 3
   }
  },
  "orig_nbformat": 2,
  "file_extension": ".py",
  "mimetype": "text/x-python",
  "name": "python",
  "npconvert_exporter": "python",
  "pygments_lexer": "ipython3",
  "version": 3
 },
 "cells": [
  {
   "cell_type": "markdown",
   "metadata": {},
   "source": [
    "# Chapter 11: Interfaces: From Protocols to ABCs\n",
    "\n",
    "**NOTE:** This is a quite wordy chapter. The first half will be summarised very briefly.\n",
    "\n",
    "The subject of this chapter is interfaces, from the dynamic protocols that characterise duck-typing to abstract base classes (ABCs) that make interfaces explicit and verify implementations for conformance.\n",
    "\n",
    "It is useful to reiterate the idea of *duck-typing* when exploring interfaces:\n",
    "\n",
    "> Duck-typing ignores an objects actual type, focusing instead on ensuring that the object implements the method names, signatures, and semantics required for its intended use.\n",
    "\n",
    "## Interfaces and Protocols in Python Culture\n",
    "\n",
    "Every class has an interface: the set public attributes (methods or data attributes) implemented or inherited by the class.\n",
    "\n",
    "An interface seen as a set of methods to fulfill a role is what is known as a *protocol*. Protocols are independent of inheritance. A class may implement several protocols, enabling its instances to fulfill several roles.\n",
    "\n",
    "Because protocols are informal, the cannot be enforced like formal interfaces can.\n",
    "\n",
    "By definition, private and protected attributes are not part of an interface, even if \"protected\" is merely a naming convention.\n",
    "\n",
    "On the other hand, public data attributes can be part of the interface of an object because - if necessary - a data attribute can always be turned into a properting implementing getter/setter logic.\n",
    "\n",
    "A useful complementary definition of an interface is: the subset of an objects public methods that enable it to play a specific role in the system.\n",
    "\n",
    "This is what is implied when the Python documentation mentions a \"file-like object\" or \"an iterable\".\n",
    "\n",
    "## Python Digs Sequences\n",
    "\n",
    "One of the most fundamental Python protocols is the sequence protocol.\n",
    "\n",
    "TODO."
   ]
  },
  {
   "cell_type": "markdown",
   "metadata": {},
   "source": []
  }
 ]
}