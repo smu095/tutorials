{
 "cells": [
  {
   "cell_type": "markdown",
   "metadata": {},
   "source": [
    "# Chapter 8: Object References, Mutability, and Recycling"
   ]
  },
  {
   "cell_type": "markdown",
   "metadata": {},
   "source": [
    "TODO: Introduction here."
   ]
  },
  {
   "cell_type": "markdown",
   "metadata": {},
   "source": [
    "## Variables Are Not Boxes\n",
    "\n",
    "Python variables are like reference variables in Java. From [Kode Java](https://kodejava.org/what-is-reference-variable-in-java/):\n",
    "\n",
    "> A reference variable that is declared as final can’t never be reassigned to refer to a different object. The data within the object can be modified, but the reference variable cannot be changed.\n",
    "\n",
    "With reference variables, it makes much more sense to say that the variable is assigned to an object, and not the other way around."
   ]
  },
  {
   "cell_type": "code",
   "execution_count": 2,
   "metadata": {},
   "outputs": [
    {
     "data": {
      "text/plain": [
       "[1, 2, 3, 4]"
      ]
     },
     "execution_count": 2,
     "metadata": {},
     "output_type": "execute_result"
    }
   ],
   "source": [
    "a = [1, 2, 3]\n",
    "b = a\n",
    "a.append(4)\n",
    "b"
   ]
  },
  {
   "cell_type": "markdown",
   "metadata": {},
   "source": [
    "In the above example, `a` and `b` hold references to *the same list*. A helpful analogy is that we can think of variables as sticky notes that we label an object with, instead of boxes that hold objects."
   ]
  },
  {
   "cell_type": "code",
   "execution_count": 4,
   "metadata": {},
   "outputs": [
    {
     "name": "stdout",
     "output_type": "stream",
     "text": [
      "Gizmo id: 4429747248\n",
      "Gizmo id: 4429748592\n"
     ]
    },
    {
     "ename": "TypeError",
     "evalue": "unsupported operand type(s) for *: 'Gizmo' and 'int'",
     "output_type": "error",
     "traceback": [
      "\u001b[0;31m---------------------------------------\u001b[0m",
      "\u001b[0;31mTypeError\u001b[0mTraceback (most recent call last)",
      "\u001b[0;32m<ipython-input-4-36a8b7182fbb>\u001b[0m in \u001b[0;36m<module>\u001b[0;34m\u001b[0m\n\u001b[1;32m      6\u001b[0m \u001b[0;34m\u001b[0m\u001b[0m\n\u001b[1;32m      7\u001b[0m \u001b[0mx\u001b[0m \u001b[0;34m=\u001b[0m \u001b[0mGizmo\u001b[0m\u001b[0;34m(\u001b[0m\u001b[0;34m)\u001b[0m\u001b[0;34m\u001b[0m\u001b[0;34m\u001b[0m\u001b[0m\n\u001b[0;32m----> 8\u001b[0;31m \u001b[0my\u001b[0m \u001b[0;34m=\u001b[0m \u001b[0mGizmo\u001b[0m\u001b[0;34m(\u001b[0m\u001b[0;34m)\u001b[0m \u001b[0;34m*\u001b[0m \u001b[0;36m10\u001b[0m\u001b[0;34m\u001b[0m\u001b[0;34m\u001b[0m\u001b[0m\n\u001b[0m",
      "\u001b[0;31mTypeError\u001b[0m: unsupported operand type(s) for *: 'Gizmo' and 'int'"
     ]
    }
   ],
   "source": [
    "# Example 8-2. Variables are assigned to objects only after the objects are created\n",
    "\n",
    "class Gizmo():\n",
    "    def __init__(self):\n",
    "        print(f\"Gizmo id: {id(self)}\")\n",
    "        \n",
    "x = Gizmo()\n",
    "y = Gizmo() * 10"
   ]
  },
  {
   "cell_type": "markdown",
   "metadata": {},
   "source": [
    "Multiplying the `Gizmo` instance will raise an exception, but is proof that a second `Gizmo` was actually instantiated *before* the multiplication was attempted.\n",
    "\n",
    "But the variable `y` was never created, because the exceptino happened while the right-hand side of the assignment was being evaluated.\n",
    "\n",
    "> To understand an assignment in Python, *always read the right-hand side first*: that's where the object is created or retrieved. After that, the variable on the left is bound to the object, like a label stuck to it."
   ]
  },
  {
   "cell_type": "markdown",
   "metadata": {},
   "source": [
    "## Identity, Equality and Aliases\n",
    "\n",
    "Because variable are mere labels, nothing prevents an object from having several labels assigned to it.\n",
    "\n",
    "The following chunk is an example of *aliasing*."
   ]
  },
  {
   "cell_type": "code",
   "execution_count": 9,
   "metadata": {},
   "outputs": [
    {
     "name": "stdout",
     "output_type": "stream",
     "text": [
      "True\n",
      "4429902144 4429902144\n"
     ]
    }
   ],
   "source": [
    "# Example 8-3. `charles` and `lewis` refer to the same object\n",
    "\n",
    "charles = {\"name\": \"Charles L. Dodgson\", \"born\": 1832}\n",
    "lewis = charles\n",
    "\n",
    "print(lewis is charles)\n",
    "print(id(charles), id(lewis))"
   ]
  },
  {
   "cell_type": "code",
   "execution_count": 10,
   "metadata": {},
   "outputs": [
    {
     "data": {
      "text/plain": [
       "{'name': 'Charles L. Dodgson', 'born': 1832, 'balance': 950}"
      ]
     },
     "execution_count": 10,
     "metadata": {},
     "output_type": "execute_result"
    }
   ],
   "source": [
    "lewis[\"balance\"] = 950\n",
    "charles"
   ]
  },
  {
   "cell_type": "code",
   "execution_count": 11,
   "metadata": {},
   "outputs": [
    {
     "name": "stdout",
     "output_type": "stream",
     "text": [
      "True\n",
      "False\n"
     ]
    }
   ],
   "source": [
    "# Example 8-4. `alex` and `charles` compare equal, but `alex` is not `charles`\n",
    "alex = {\"name\": \"Charles L. Dodgson\", \"born\": 1832, \"balance\": 950}\n",
    "\n",
    "print(alex == charles)\n",
    "print(alex is charles)"
   ]
  },
  {
   "cell_type": "markdown",
   "metadata": {},
   "source": [
    "In example 8-3, `charles` and `lewis` are aliases: **two variables bound to the same object**.\n",
    "\n",
    "In example 8-4, `alex` is not an alias for `charles`: **these variables are bound to distinc objects**.\n",
    "\n",
    "The objects bound to `alex` and `charles` have the same *value*, but they have different identities.\n",
    "\n",
    "They compare equal because of the `__eq__` implementation in the `dict class`, but are distinct objects.\n",
    "\n",
    "The Pythonic way of writing negative identity comparison is `a is not b`."
   ]
  },
  {
   "cell_type": "markdown",
   "metadata": {},
   "source": [
    "## Choosing between `==` and `is`\n",
    "\n",
    "The `==` operator compares the values of objects (i.e. the data they hold), while `is` compares identities.\n",
    "\n",
    "We often care more about values in practice that identities, that is why `==` is so prominent in Python code.\n",
    "\n",
    "However, when comparing a variable to a [singleton](https://en.wikipedia.org/wiki/Singleton_variable), then it makes sense to use `is`.\n",
    "\n",
    "> In computer programming a singleton variable is a variable that is referred to only once. Examples of where a variable might only be referenced once is as a dummy argument in a function call, or when its address is assigned to another variable which subsequently accesses its allocated storage.\n",
    "\n",
    "The most common case is checking whether a variable is bound to `None`.\n",
    "\n",
    "The `is` operator is faster than `==`, because it cannot be overloaded."
   ]
  },
  {
   "cell_type": "code",
   "execution_count": 16,
   "metadata": {},
   "outputs": [
    {
     "name": "stdout",
     "output_type": "stream",
     "text": [
      "4390919400 4390919400\n"
     ]
    }
   ],
   "source": [
    "a = None\n",
    "b = None\n",
    "print(id(a), id(b))"
   ]
  },
  {
   "cell_type": "markdown",
   "metadata": {},
   "source": [
    "The `==` operator is syntactic sugar for `a.__eq__(b)`.\n",
    "\n",
    "The `__eq__` method inherited from `object` compares object IDs and produces the same results as `is`.\n",
    "\n",
    "However, **most built-in types override `__eq__`** with more meaningful implementations that take into account the values of the object attributes."
   ]
  },
  {
   "cell_type": "markdown",
   "metadata": {},
   "source": [
    "## The Relative Immutability of Tuples\n",
    "\n",
    "Tuples hold references to objects in Python (in contrast to single-type sequences described in chapter XX which physically hold their data in contiguous memory).\n",
    "\n",
    "The immutability of tuples refers to the physical contents of the `tuple` data structure (i.e. the references it holds) and does not extend to the referenced objects."
   ]
  },
  {
   "cell_type": "code",
   "execution_count": 18,
   "metadata": {},
   "outputs": [
    {
     "name": "stdout",
     "output_type": "stream",
     "text": [
      "True\n",
      "4429186944\n",
      "4429187520\n",
      "[30, 40, 99]\n",
      "False\n"
     ]
    }
   ],
   "source": [
    "# Example 8-5. `t1` and `t2` intially compare equal, but chaning a mutable item inside tuple `t1` makes i different\n",
    "\n",
    "# `t1` is immutable, but t1[-1] is mutable\n",
    "t1 = (1, 2, [30, 40])\n",
    "t2 = (1, 2, [30, 40])\n",
    "\n",
    "print(t1 == t2)\n",
    "\n",
    "print(id(t1[-1]))\n",
    "print(id(t2[-1]))\n",
    "\n",
    "t1[-1].append(99)\n",
    "print(t1[-1])\n",
    "\n",
    "print(t1 == t2)"
   ]
  },
  {
   "cell_type": "markdown",
   "metadata": {},
   "source": [
    "The relative immutability of tuples is the reason why some tuples are unhashable.\n",
    "\n",
    "The distinction between equality and identity has implications when you need to copy an object."
   ]
  },
  {
   "cell_type": "markdown",
   "metadata": {},
   "source": [
    "## Copies Are Shallow by Default\n",
    "\n",
    "A copy is an equal object with a different ID. But if an object contains other objects, should the copy also duplicate their inner objects, or is it OK to share them?\n",
    "\n",
    "The easiest way to copy most built-in mutable collections is to use the built-in constructor for the type itself."
   ]
  },
  {
   "cell_type": "code",
   "execution_count": 21,
   "metadata": {},
   "outputs": [
    {
     "data": {
      "text/plain": [
       "[3, [55, 44], [7, 8, 9]]"
      ]
     },
     "execution_count": 21,
     "metadata": {},
     "output_type": "execute_result"
    }
   ],
   "source": [
    "l1 = [3, [55, 44], [7, 8, 9]]\n",
    "l2 = list(l1)\n",
    "l2"
   ]
  },
  {
   "cell_type": "code",
   "execution_count": 22,
   "metadata": {},
   "outputs": [
    {
     "name": "stdout",
     "output_type": "stream",
     "text": [
      "True\n",
      "False\n"
     ]
    }
   ],
   "source": [
    "print(l2 == l1)\n",
    "print(l2 is l1)"
   ]
  },
  {
   "cell_type": "markdown",
   "metadata": {},
   "source": [
    "For lists, the shortcut `l2 = l1[:]` also makes a copy.\n",
    "\n",
    "However, using the constructor or the shortcut produces a **shallow copy** filled with references to the same items held in by the original container.\n",
    "\n",
    "This saves memory and causes no problems if the items are immutable, but if there are mutable items it may lead to unpleasant surprises."
   ]
  },
  {
   "cell_type": "code",
   "execution_count": 24,
   "metadata": {},
   "outputs": [
    {
     "name": "stdout",
     "output_type": "stream",
     "text": [
      "l1: [2, [66, 44], (7, 8, 9), 100]\n",
      "l2: [2, [66, 44], (7, 8, 9)]\n",
      "l1: [2, [66, 44, 33, 22], (7, 8, 9), 100]\n",
      "l2: [2, [66, 44, 33, 22], (7, 8, 9, 10, 11)]\n"
     ]
    }
   ],
   "source": [
    "# Example 8-6. Making a shallow copy of a list containing another list\n",
    "\n",
    "l1 = [2, [66, 55, 44], (7, 8, 9)]\n",
    "l2 = list(l1)\n",
    "l1.append(100)\n",
    "l1[1].remove(55)\n",
    "\n",
    "print(\"l1:\", l1)\n",
    "print(\"l2:\", l2)\n",
    "\n",
    "l2[1] += [33, 22]\n",
    "l2[2] += (10, 11)\n",
    "\n",
    "print(\"l1:\", l1)\n",
    "print(\"l2:\", l2)"
   ]
  },
  {
   "cell_type": "markdown",
   "metadata": {},
   "source": [
    "Here is what is going on, step-by-step:\n",
    "\n",
    "1. `l2` is a shallow copy of `l1`.\n",
    "\n",
    "2. Appending `100` to `l1` has no effect on `l2`.\n",
    "\n",
    "3. Removing `55` from the inner list in `l1[1]` affects `l2` because `l2[1]` is bound to the same list.\n",
    "\n",
    "4. For a mutable object like the list referred to by `l2[1]`, the `+=` operator changes the list in place. This affects `l1[1]`, which is an alias for `l2[1]`.\n",
    "\n",
    "5. `+=` on a tuple creates a new tuple and rebinds the variable `l2[2]` here. Now the tuples in the last position are no longer references to the same objects.\n",
    "\n",
    "Ramalho recommends copying and pasting the above chunk and into the [Online Python Tutor](http://pythontutor.com/visualize.html#mode=edit) to visualise what's going on. The following figure shows the final state of the program:\n",
    "\n",
    "<img src=\"../figs/shallow-copies.png\" alt=\"Figure\" style=\"width: 500px;\"/>"
   ]
  },
  {
   "cell_type": "markdown",
   "metadata": {},
   "source": [
    "## Deep and Shallow Objects of Arbitrary Objects\n",
    "\n",
    "The `copy` module provides the `deepcopy` and `copy` functions that return deep and shallow copies of arbitrary objects."
   ]
  },
  {
   "cell_type": "code",
   "execution_count": 25,
   "metadata": {},
   "outputs": [],
   "source": [
    "# Example 8-8. Bus picks up and drops off passengers\n",
    "\n",
    "class Bus:\n",
    "    \n",
    "    def __init__(self, passengers=None):\n",
    "        if passengers is None:\n",
    "            self.passengers = []\n",
    "        else:\n",
    "            self.passengers = list(passengers)\n",
    "            \n",
    "    def pick(self, name):\n",
    "        self.passengers.append(name)\n",
    "        \n",
    "    def drop(self, name):\n",
    "        self.passengers.remove(name)\n",
    "    "
   ]
  },
  {
   "cell_type": "code",
   "execution_count": 28,
   "metadata": {},
   "outputs": [
    {
     "data": {
      "text/plain": [
       "(4430050544, 4429749696, 4429749456)"
      ]
     },
     "execution_count": 28,
     "metadata": {},
     "output_type": "execute_result"
    }
   ],
   "source": [
    "import copy\n",
    "\n",
    "bus1 = Bus([\"Alice\", \"Bill\", \"Claire\", \"David\"])\n",
    "bus2 = copy.copy(bus1)\n",
    "bus3 = copy.deepcopy(bus1)\n",
    "\n",
    "id(bus1), id(bus2), id(bus3)"
   ]
  },
  {
   "cell_type": "code",
   "execution_count": 29,
   "metadata": {},
   "outputs": [
    {
     "data": {
      "text/plain": [
       "['Alice', 'Claire', 'David']"
      ]
     },
     "execution_count": 29,
     "metadata": {},
     "output_type": "execute_result"
    }
   ],
   "source": [
    "bus1.drop(\"Bill\")\n",
    "bus2.passengers # Now missing Bill ..."
   ]
  },
  {
   "cell_type": "code",
   "execution_count": 30,
   "metadata": {},
   "outputs": [
    {
     "data": {
      "text/plain": [
       "(4430657472, 4430657472, 4430322560)"
      ]
     },
     "execution_count": 30,
     "metadata": {},
     "output_type": "execute_result"
    }
   ],
   "source": [
    "id(bus1.passengers), id(bus2.passengers), id(bus3.passengers) # ... because bus1 and bus2 reference same list."
   ]
  },
  {
   "cell_type": "code",
   "execution_count": 31,
   "metadata": {},
   "outputs": [
    {
     "data": {
      "text/plain": [
       "['Alice', 'Bill', 'Claire', 'David']"
      ]
     },
     "execution_count": 31,
     "metadata": {},
     "output_type": "execute_result"
    }
   ],
   "source": [
    "bus3.passengers # Not missing Bill"
   ]
  },
  {
   "cell_type": "markdown",
   "metadata": {},
   "source": [
    "The `deepcopy` function remembers objects already copied to hande cyclic references (thereby avoiding infinite loops), demonstrated in the following example:"
   ]
  },
  {
   "cell_type": "code",
   "execution_count": 32,
   "metadata": {},
   "outputs": [
    {
     "data": {
      "text/plain": [
       "[10, 20, [[...], 30]]"
      ]
     },
     "execution_count": 32,
     "metadata": {},
     "output_type": "execute_result"
    }
   ],
   "source": [
    "a = [10, 20]\n",
    "b = [a, 30]\n",
    "a.append(b)\n",
    "a"
   ]
  },
  {
   "cell_type": "code",
   "execution_count": 34,
   "metadata": {},
   "outputs": [
    {
     "data": {
      "text/plain": [
       "[10, 20, [[...], 30]]"
      ]
     },
     "execution_count": 34,
     "metadata": {},
     "output_type": "execute_result"
    }
   ],
   "source": [
    "c = copy.deepcopy(a)\n",
    "c"
   ]
  },
  {
   "cell_type": "markdown",
   "metadata": {},
   "source": [
    "In some cases a deep copy may be too deep. For example,objects may refer to external resources or singletons that should not be copied.\n",
    "\n",
    "The behaviour of both `copy` and `deepcopy` can be controlled by modifiying the `__copy__()` and `__deepcopy__()` special methods."
   ]
  },
  {
   "cell_type": "markdown",
   "metadata": {},
   "source": [
    "## Function Parameters as References\n",
    "\n"
   ]
  }
 ],
 "metadata": {
  "kernelspec": {
   "display_name": "Python 3",
   "language": "python",
   "name": "python3"
  },
  "language_info": {
   "codemirror_mode": {
    "name": "ipython",
    "version": 3
   },
   "file_extension": ".py",
   "mimetype": "text/x-python",
   "name": "python",
   "nbconvert_exporter": "python",
   "pygments_lexer": "ipython3",
   "version": "3.8.1"
  }
 },
 "nbformat": 4,
 "nbformat_minor": 4
}
