{
 "cells": [
  {
   "cell_type": "markdown",
   "metadata": {},
   "source": [
    "# Chapter 9: Pythonic Objects\n",
    "\n",
    "Python's data model allows user-defined types to behave as naturally as the built-in types. This can be accomplished without inheritance, in the spirit of [duck typing](https://en.wikipedia.org/wiki/Duck_typing): you implement the methods needed for your objects to behave as expected.\n",
    "\n",
    "This chapter shows how to implement several special methods that are commonly seen in Python objects of many different types.\n",
    "\n",
    "We will see how to:\n",
    "\n",
    "* Support the built-in functions that produce alternative object representation.\n",
    "\n",
    "* Implement an alternative constructor as a class method.\n",
    "\n",
    "* Extend the format mini-language used by the `format()` built-in and `str.format()` method.\n",
    "\n",
    "* Provide read-only access to attributes.\n",
    "\n",
    "* Make an object hashable for use in sets and `dict` keys.\n",
    "\n",
    "* Save memory by using `__slots__`.\n",
    "\n",
    "Through examples we will also examine:\n",
    "\n",
    "* How and when to use the `@classmethod` and `@staticmethod` decorators.\n",
    "\n",
    "* Private and protected attributes in Python: usage, conventions, and methods."
   ]
  },
  {
   "cell_type": "markdown",
   "metadata": {},
   "source": [
    "## Object Representations\n",
    "\n",
    "Recall that Python has two standard ways of getting a string representation from an object:\n",
    "\n",
    "1. `repr()`: Return a string representing the object as the **developer** wants to see it.\n",
    "\n",
    "2. `str()`: Return a string representing the object as the **user** wants to see it.\n",
    "\n",
    "The special methods `__repr__` and `__str__` support `repr` and `str()`.\n",
    "\n",
    "There are two additional special methods to support alternative string representations:\n",
    "\n",
    "3. `__bytes__`: Return the byte string representation of the object (invoked by `bytes()`).\n",
    "\n",
    "4. `__format__`: Display object using special formatting codes (invoked by `format()` and `str.format()`."
   ]
  },
  {
   "cell_type": "markdown",
   "metadata": {},
   "source": [
    "## Vector Class Redux\n",
    "\n",
    "To demonstrate different ways of generating object representations, we will extend the vector class from [chapter 1]() to two dimensions."
   ]
  },
  {
   "cell_type": "code",
   "execution_count": 21,
   "metadata": {},
   "outputs": [],
   "source": [
    "# Example 9-2. vector2d_v0.py: Implementation of Vector2d using only special methods\n",
    "\n",
    "from array import array\n",
    "import math\n",
    "\n",
    "class Vector2d:\n",
    "    typecode = \"d\" # Used when converting Vector2d instances to/from bytes\n",
    "    \n",
    "    def __init__(self, x, y):\n",
    "        self.x = float(x)\n",
    "        self.y = float(y)\n",
    "        \n",
    "    def __iter__(self): # Makes Vector2d iterable, allows unpacking\n",
    "        return (i for i in (self.x, self.y))\n",
    "    \n",
    "    def __repr__(self):\n",
    "        class_name = type(self).__name__\n",
    "        return \"{}({!r}, {!r})\".format(class_name, *self)\n",
    "    \n",
    "    def __str__(self):\n",
    "        return str(tuple(self))\n",
    "    \n",
    "    def __bytes__(self):\n",
    "        return (bytes([ord(self.typecode)]) + bytes(array(self.typecode, self)))\n",
    "    \n",
    "        def __abs__(self):\n",
    "        return math.hypot(self.x, self.y)\n",
    "    \n",
    "    def __bool__(self):\n",
    "        return bool(abs(self))\n",
    "    \n",
    "    def __eq__(self, other):\n",
    "        return tuple(self) == tuple(other)\n",
    "    "
   ]
  },
  {
   "cell_type": "markdown",
   "metadata": {},
   "source": [
    "## An Alternative Constructor"
   ]
  },
  {
   "cell_type": "markdown",
   "metadata": {},
   "source": [
    "Since we can export `Vector2d` as bytes, it makes sense to implement functionality to go the other way; we need a method to import `Vector2d` from a binary sequence."
   ]
  },
  {
   "cell_type": "code",
   "execution_count": 25,
   "metadata": {},
   "outputs": [],
   "source": [
    "# Example 9.3. vector2d_v1.py: Implementation of Vector2d allowing conversions from bytes to Vector2d instance.\n",
    "\n",
    "from array import array\n",
    "import math\n",
    "\n",
    "class Vector2d:\n",
    "    typecode = \"d\" # Used when converting Vector2d instances to/from bytes\n",
    "\n",
    "    def __init__(self, x, y):\n",
    "        self.x = float(x)\n",
    "        self.y = float(y)\n",
    "\n",
    "    def __iter__(self): # Makes Vector2d iterable, allows unpacking\n",
    "        return (i for i in (self.x, self.y))\n",
    "\n",
    "    def __repr__(self):\n",
    "        class_name = type(self).__name__\n",
    "        return \"{}({!r}, {!r})\".format(class_name, *self)\n",
    "\n",
    "    def __str__(self):\n",
    "        return str(tuple(self))\n",
    "\n",
    "    def __bytes__(self):\n",
    "        return (bytes([ord(self.typecode)]) + bytes(array(self.typecode, self)))\n",
    "\n",
    "    def __abs__(self):\n",
    "        return math.hypot(self.x, self.y)\n",
    "\n",
    "    def __bool__(self):\n",
    "        return bool(abs(self))\n",
    "\n",
    "    def __eq__(self, other):\n",
    "        return tuple(self) == tuple(other)\n",
    "\n",
    "    @classmethod\n",
    "    def frombytes(cls, octets):\n",
    "        typecode = chr(octets[0])\n",
    "        memv = memoryview(octets[1:]).cast(typecode)\n",
    "        return cls(*memv)\n"
   ]
  },
  {
   "cell_type": "markdown",
   "metadata": {},
   "source": [
    "## `classmethod` Versus `staticmethod`\n",
    "\n",
    "`classmethod` is used to define a method that operates on the class and not on instances. \n",
    "\n",
    "`classmethod` changes the way the method is called, so it **receives the class itself as the first argument, instead of an instance**.\n",
    "\n",
    "Its most common use is for alternative constructors, like `frombytes` in example 9-3. Note how the last line uses the `cls` argument by invoking it to build a new instance.\n",
    "\n",
    "By convention, the first parameter of a class method should be named `cls`.\n",
    "\n",
    "The `staticmethod` decorator changes a method so that it receives no special first argument.\n",
    "\n",
    "**In essence, a static method is just like a plain function that happens to live in a class body, instead of being defined at the module level**.\n",
    "\n",
    "The next example contrast the operation of `classmethod` and `staticmethod`."
   ]
  },
  {
   "cell_type": "code",
   "execution_count": 32,
   "metadata": {},
   "outputs": [
    {
     "name": "stdout",
     "output_type": "stream",
     "text": [
      "(<class '__main__.Demo'>,)\n",
      "(<class '__main__.Demo'>, 'spam')\n",
      "()\n",
      "('spam',)\n"
     ]
    }
   ],
   "source": [
    "# Example 9-4. Comparing behavious of classmethod and staticmethod.\n",
    "\n",
    "class Demo:\n",
    "    \"\"\"\n",
    "    klassmeth returns all positional arguments.\n",
    "    statmeth does the same.\n",
    "    \"\"\"\n",
    "    @classmethod\n",
    "    def klassmeth(*args):\n",
    "        return args\n",
    "    @staticmethod\n",
    "    def statmeth(*args):\n",
    "        return args\n",
    "\n",
    "# No matter how it is invoked, `klassmeth` receives the Demo class as first argument\n",
    "print(Demo.klassmeth())\n",
    "print(Demo.klassmeth(\"spam\"))\n",
    "\n",
    "# `statmeth` behave like a plain function\n",
    "print(Demo.statmeth())\n",
    "print(Demo.statmeth(\"spam\"))"
   ]
  },
  {
   "cell_type": "markdown",
   "metadata": {},
   "source": [
    "Ramalho is of the opinion that `@staticmethod` is of little practical use. He argues that if you want a function that doesn't interact with the class, simply define it in the module.\n",
    "\n",
    "Ramalho provides [this blog post](https://julien.danjou.info/guide-python-static-class-abstract-methods/) as a counter-argument to his own viewpoint."
   ]
  },
  {
   "cell_type": "markdown",
   "metadata": {},
   "source": [
    "## Formatted Displays\n",
    "\n",
    "TODO"
   ]
  },
  {
   "cell_type": "code",
   "execution_count": null,
   "metadata": {},
   "outputs": [],
   "source": []
  }
 ],
 "metadata": {
  "kernelspec": {
   "display_name": "Python 3",
   "language": "python",
   "name": "python3"
  },
  "language_info": {
   "codemirror_mode": {
    "name": "ipython",
    "version": 3
   },
   "file_extension": ".py",
   "mimetype": "text/x-python",
   "name": "python",
   "nbconvert_exporter": "python",
   "pygments_lexer": "ipython3",
   "version": "3.7.5"
  }
 },
 "nbformat": 4,
 "nbformat_minor": 4
}
