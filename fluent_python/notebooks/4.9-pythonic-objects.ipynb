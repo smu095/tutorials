{
 "cells": [
  {
   "cell_type": "markdown",
   "metadata": {},
   "source": [
    "# Chapter 9: Pythonic Objects\n",
    "\n",
    "Python's data model allows user-defined types to behave as naturally as the built-in types. This can be accomplished without inheritance, in the spirit of [duck typing](https://en.wikipedia.org/wiki/Duck_typing): you implement the methods needed for your objects to behave as expected.\n",
    "\n",
    "This chapter shows how to implement several special methods that are commonly seen in Python objects of many different types.\n",
    "\n",
    "We will see how to:\n",
    "\n",
    "* Support the built-in functions that produce alternative object representation.\n",
    "\n",
    "* Implement an alternative constructor as a class method.\n",
    "\n",
    "* Extend the format mini-language used by the `format()` built-in and `str.format()` method.\n",
    "\n",
    "* Provide read-only access to attributes.\n",
    "\n",
    "* Make an object hashable for use in sets and `dict` keys.\n",
    "\n",
    "* Save memory by using `__slots__`.\n",
    "\n",
    "Through examples we will also examine:\n",
    "\n",
    "* How and when to use the `@classmethod` and `@staticmethod` decorators.\n",
    "\n",
    "* Private and protected attributes in Python: usage, conventions, and methods."
   ]
  },
  {
   "cell_type": "markdown",
   "metadata": {},
   "source": [
    "## Object Representations\n",
    "\n",
    "TO DO."
   ]
  },
  {
   "cell_type": "code",
   "execution_count": null,
   "metadata": {},
   "outputs": [],
   "source": []
  }
 ],
 "metadata": {
  "kernelspec": {
   "display_name": "Python 3",
   "language": "python",
   "name": "python3"
  },
  "language_info": {
   "codemirror_mode": {
    "name": "ipython",
    "version": 3
   },
   "file_extension": ".py",
   "mimetype": "text/x-python",
   "name": "python",
   "nbconvert_exporter": "python",
   "pygments_lexer": "ipython3",
   "version": "3.8.1"
  }
 },
 "nbformat": 4,
 "nbformat_minor": 4
}
